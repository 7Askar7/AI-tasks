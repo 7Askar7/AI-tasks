{
 "cells": [
  {
   "cell_type": "code",
   "execution_count": 1,
   "metadata": {},
   "outputs": [
    {
     "name": "stdout",
     "output_type": "stream",
     "text": [
      "Requirement already satisfied: emoji in c:\\users\\askar\\anaconda3\\lib\\site-packages (2.5.1)\n",
      "Requirement already satisfied: SentencePiece in c:\\users\\askar\\anaconda3\\lib\\site-packages (0.1.99)\n",
      "Requirement already satisfied: transformers in c:\\users\\askar\\anaconda3\\lib\\site-packages (4.31.0.dev0)\n",
      "Requirement already satisfied: filelock in c:\\users\\askar\\anaconda3\\lib\\site-packages (from transformers) (3.9.0)\n",
      "Requirement already satisfied: huggingface-hub<1.0,>=0.14.1 in c:\\users\\askar\\anaconda3\\lib\\site-packages (from transformers) (0.15.1)\n",
      "Requirement already satisfied: numpy>=1.17 in c:\\users\\askar\\anaconda3\\lib\\site-packages (from transformers) (1.24.3)\n",
      "Requirement already satisfied: packaging>=20.0 in c:\\users\\askar\\appdata\\roaming\\python\\python311\\site-packages (from transformers) (23.1)\n",
      "Requirement already satisfied: pyyaml>=5.1 in c:\\users\\askar\\anaconda3\\lib\\site-packages (from transformers) (6.0)\n",
      "Requirement already satisfied: regex!=2019.12.17 in c:\\users\\askar\\anaconda3\\lib\\site-packages (from transformers) (2022.7.9)\n",
      "Requirement already satisfied: requests in c:\\users\\askar\\anaconda3\\lib\\site-packages (from transformers) (2.29.0)\n",
      "Requirement already satisfied: tokenizers!=0.11.3,<0.14,>=0.11.1 in c:\\users\\askar\\anaconda3\\lib\\site-packages (from transformers) (0.13.3)\n",
      "Requirement already satisfied: safetensors>=0.3.1 in c:\\users\\askar\\anaconda3\\lib\\site-packages (from transformers) (0.3.1)\n",
      "Requirement already satisfied: tqdm>=4.27 in c:\\users\\askar\\anaconda3\\lib\\site-packages (from transformers) (4.64.1)\n",
      "Requirement already satisfied: fsspec in c:\\users\\askar\\anaconda3\\lib\\site-packages (from huggingface-hub<1.0,>=0.14.1->transformers) (2023.6.0)\n",
      "Requirement already satisfied: typing-extensions>=3.7.4.3 in c:\\users\\askar\\anaconda3\\lib\\site-packages (from huggingface-hub<1.0,>=0.14.1->transformers) (4.6.3)\n",
      "Requirement already satisfied: colorama in c:\\users\\askar\\appdata\\roaming\\python\\python311\\site-packages (from tqdm>=4.27->transformers) (0.4.6)\n",
      "Requirement already satisfied: charset-normalizer<4,>=2 in c:\\users\\askar\\anaconda3\\lib\\site-packages (from requests->transformers) (2.0.4)\n",
      "Requirement already satisfied: idna<4,>=2.5 in c:\\users\\askar\\anaconda3\\lib\\site-packages (from requests->transformers) (2.10)\n",
      "Requirement already satisfied: urllib3<1.27,>=1.21.1 in c:\\users\\askar\\anaconda3\\lib\\site-packages (from requests->transformers) (1.26.16)\n",
      "Requirement already satisfied: certifi>=2017.4.17 in c:\\users\\askar\\anaconda3\\lib\\site-packages (from requests->transformers) (2023.5.7)\n",
      "Requirement already satisfied: pandas in c:\\users\\askar\\anaconda3\\lib\\site-packages (2.0.2)\n",
      "Requirement already satisfied: python-dateutil>=2.8.2 in c:\\users\\askar\\appdata\\roaming\\python\\python311\\site-packages (from pandas) (2.8.2)\n",
      "Requirement already satisfied: pytz>=2020.1 in c:\\users\\askar\\anaconda3\\lib\\site-packages (from pandas) (2022.7)\n",
      "Requirement already satisfied: tzdata>=2022.1 in c:\\users\\askar\\anaconda3\\lib\\site-packages (from pandas) (2023.3)\n",
      "Requirement already satisfied: numpy>=1.21.0 in c:\\users\\askar\\anaconda3\\lib\\site-packages (from pandas) (1.24.3)\n",
      "Requirement already satisfied: six>=1.5 in c:\\users\\askar\\appdata\\roaming\\python\\python311\\site-packages (from python-dateutil>=2.8.2->pandas) (1.16.0)\n",
      "Requirement already satisfied: nltk in c:\\users\\askar\\anaconda3\\lib\\site-packages (3.7)\n",
      "Requirement already satisfied: click in c:\\users\\askar\\anaconda3\\lib\\site-packages (from nltk) (8.0.4)\n",
      "Requirement already satisfied: joblib in c:\\users\\askar\\anaconda3\\lib\\site-packages (from nltk) (1.2.0)\n",
      "Requirement already satisfied: regex>=2021.8.3 in c:\\users\\askar\\anaconda3\\lib\\site-packages (from nltk) (2022.7.9)\n",
      "Requirement already satisfied: tqdm in c:\\users\\askar\\anaconda3\\lib\\site-packages (from nltk) (4.64.1)\n",
      "Requirement already satisfied: colorama in c:\\users\\askar\\appdata\\roaming\\python\\python311\\site-packages (from click->nltk) (0.4.6)\n",
      "Requirement already satisfied: datasets in c:\\users\\askar\\anaconda3\\lib\\site-packages (2.13.0)\n",
      "Requirement already satisfied: evaluate in c:\\users\\askar\\anaconda3\\lib\\site-packages (0.4.0)\n",
      "Requirement already satisfied: transformers[sentencepiece] in c:\\users\\askar\\anaconda3\\lib\\site-packages (4.31.0.dev0)\n",
      "Requirement already satisfied: numpy>=1.17 in c:\\users\\askar\\anaconda3\\lib\\site-packages (from datasets) (1.24.3)\n",
      "Requirement already satisfied: pyarrow>=8.0.0 in c:\\users\\askar\\anaconda3\\lib\\site-packages (from datasets) (12.0.1)\n",
      "Requirement already satisfied: dill<0.3.7,>=0.3.0 in c:\\users\\askar\\anaconda3\\lib\\site-packages (from datasets) (0.3.6)\n",
      "Requirement already satisfied: pandas in c:\\users\\askar\\anaconda3\\lib\\site-packages (from datasets) (2.0.2)\n",
      "Requirement already satisfied: requests>=2.19.0 in c:\\users\\askar\\anaconda3\\lib\\site-packages (from datasets) (2.29.0)\n",
      "Requirement already satisfied: tqdm>=4.62.1 in c:\\users\\askar\\anaconda3\\lib\\site-packages (from datasets) (4.64.1)\n",
      "Requirement already satisfied: xxhash in c:\\users\\askar\\anaconda3\\lib\\site-packages (from datasets) (3.2.0)\n",
      "Requirement already satisfied: multiprocess in c:\\users\\askar\\anaconda3\\lib\\site-packages (from datasets) (0.70.14)\n",
      "Requirement already satisfied: fsspec[http]>=2021.11.1 in c:\\users\\askar\\anaconda3\\lib\\site-packages (from datasets) (2023.6.0)\n",
      "Requirement already satisfied: aiohttp in c:\\users\\askar\\anaconda3\\lib\\site-packages (from datasets) (3.8.4)\n",
      "Requirement already satisfied: huggingface-hub<1.0.0,>=0.11.0 in c:\\users\\askar\\anaconda3\\lib\\site-packages (from datasets) (0.15.1)\n",
      "Requirement already satisfied: packaging in c:\\users\\askar\\appdata\\roaming\\python\\python311\\site-packages (from datasets) (23.1)\n",
      "Requirement already satisfied: pyyaml>=5.1 in c:\\users\\askar\\anaconda3\\lib\\site-packages (from datasets) (6.0)\n",
      "Requirement already satisfied: responses<0.19 in c:\\users\\askar\\anaconda3\\lib\\site-packages (from evaluate) (0.18.0)\n",
      "Requirement already satisfied: filelock in c:\\users\\askar\\anaconda3\\lib\\site-packages (from transformers[sentencepiece]) (3.9.0)\n",
      "Requirement already satisfied: regex!=2019.12.17 in c:\\users\\askar\\anaconda3\\lib\\site-packages (from transformers[sentencepiece]) (2022.7.9)\n",
      "Requirement already satisfied: tokenizers!=0.11.3,<0.14,>=0.11.1 in c:\\users\\askar\\anaconda3\\lib\\site-packages (from transformers[sentencepiece]) (0.13.3)\n",
      "Requirement already satisfied: safetensors>=0.3.1 in c:\\users\\askar\\anaconda3\\lib\\site-packages (from transformers[sentencepiece]) (0.3.1)\n",
      "Requirement already satisfied: sentencepiece!=0.1.92,>=0.1.91 in c:\\users\\askar\\anaconda3\\lib\\site-packages (from transformers[sentencepiece]) (0.1.99)\n",
      "Requirement already satisfied: protobuf<=3.20.3 in c:\\users\\askar\\anaconda3\\lib\\site-packages (from transformers[sentencepiece]) (3.20.3)\n",
      "Requirement already satisfied: attrs>=17.3.0 in c:\\users\\askar\\anaconda3\\lib\\site-packages (from aiohttp->datasets) (22.1.0)\n",
      "Requirement already satisfied: charset-normalizer<4.0,>=2.0 in c:\\users\\askar\\anaconda3\\lib\\site-packages (from aiohttp->datasets) (2.0.4)\n",
      "Requirement already satisfied: multidict<7.0,>=4.5 in c:\\users\\askar\\anaconda3\\lib\\site-packages (from aiohttp->datasets) (6.0.4)\n",
      "Requirement already satisfied: async-timeout<5.0,>=4.0.0a3 in c:\\users\\askar\\anaconda3\\lib\\site-packages (from aiohttp->datasets) (4.0.2)\n",
      "Requirement already satisfied: yarl<2.0,>=1.0 in c:\\users\\askar\\anaconda3\\lib\\site-packages (from aiohttp->datasets) (1.9.2)\n",
      "Requirement already satisfied: frozenlist>=1.1.1 in c:\\users\\askar\\anaconda3\\lib\\site-packages (from aiohttp->datasets) (1.3.3)\n",
      "Requirement already satisfied: aiosignal>=1.1.2 in c:\\users\\askar\\anaconda3\\lib\\site-packages (from aiohttp->datasets) (1.3.1)\n",
      "Requirement already satisfied: typing-extensions>=3.7.4.3 in c:\\users\\askar\\anaconda3\\lib\\site-packages (from huggingface-hub<1.0.0,>=0.11.0->datasets) (4.6.3)\n",
      "Requirement already satisfied: idna<4,>=2.5 in c:\\users\\askar\\anaconda3\\lib\\site-packages (from requests>=2.19.0->datasets) (2.10)\n",
      "Requirement already satisfied: urllib3<1.27,>=1.21.1 in c:\\users\\askar\\anaconda3\\lib\\site-packages (from requests>=2.19.0->datasets) (1.26.16)\n",
      "Requirement already satisfied: certifi>=2017.4.17 in c:\\users\\askar\\anaconda3\\lib\\site-packages (from requests>=2.19.0->datasets) (2023.5.7)\n",
      "Requirement already satisfied: colorama in c:\\users\\askar\\appdata\\roaming\\python\\python311\\site-packages (from tqdm>=4.62.1->datasets) (0.4.6)\n",
      "Requirement already satisfied: python-dateutil>=2.8.2 in c:\\users\\askar\\appdata\\roaming\\python\\python311\\site-packages (from pandas->datasets) (2.8.2)\n",
      "Requirement already satisfied: pytz>=2020.1 in c:\\users\\askar\\anaconda3\\lib\\site-packages (from pandas->datasets) (2022.7)\n",
      "Requirement already satisfied: tzdata>=2022.1 in c:\\users\\askar\\anaconda3\\lib\\site-packages (from pandas->datasets) (2023.3)\n",
      "Requirement already satisfied: six>=1.5 in c:\\users\\askar\\appdata\\roaming\\python\\python311\\site-packages (from python-dateutil>=2.8.2->pandas->datasets) (1.16.0)\n",
      "Requirement already satisfied: cuda-python in c:\\users\\askar\\anaconda3\\lib\\site-packages (12.1.0)\n",
      "Requirement already satisfied: cython in c:\\users\\askar\\anaconda3\\lib\\site-packages (from cuda-python) (0.29.35)\n",
      "Requirement already satisfied: scikit-learn in c:\\users\\askar\\anaconda3\\lib\\site-packages (1.2.2)\n",
      "Requirement already satisfied: scipy in c:\\users\\askar\\anaconda3\\lib\\site-packages (1.10.1)\n",
      "Requirement already satisfied: matplotlib in c:\\users\\askar\\anaconda3\\lib\\site-packages (3.7.1)\n",
      "Requirement already satisfied: numpy>=1.17.3 in c:\\users\\askar\\anaconda3\\lib\\site-packages (from scikit-learn) (1.24.3)\n",
      "Requirement already satisfied: joblib>=1.1.1 in c:\\users\\askar\\anaconda3\\lib\\site-packages (from scikit-learn) (1.2.0)\n",
      "Requirement already satisfied: threadpoolctl>=2.0.0 in c:\\users\\askar\\anaconda3\\lib\\site-packages (from scikit-learn) (2.2.0)\n",
      "Requirement already satisfied: contourpy>=1.0.1 in c:\\users\\askar\\anaconda3\\lib\\site-packages (from matplotlib) (1.1.0)\n",
      "Requirement already satisfied: cycler>=0.10 in c:\\users\\askar\\anaconda3\\lib\\site-packages (from matplotlib) (0.11.0)\n",
      "Requirement already satisfied: fonttools>=4.22.0 in c:\\users\\askar\\anaconda3\\lib\\site-packages (from matplotlib) (4.25.0)\n",
      "Requirement already satisfied: kiwisolver>=1.0.1 in c:\\users\\askar\\anaconda3\\lib\\site-packages (from matplotlib) (1.4.4)\n",
      "Requirement already satisfied: packaging>=20.0 in c:\\users\\askar\\appdata\\roaming\\python\\python311\\site-packages (from matplotlib) (23.1)\n",
      "Requirement already satisfied: pillow>=6.2.0 in c:\\users\\askar\\anaconda3\\lib\\site-packages (from matplotlib) (9.4.0)\n",
      "Requirement already satisfied: pyparsing>=2.3.1 in c:\\users\\askar\\anaconda3\\lib\\site-packages (from matplotlib) (3.0.9)\n",
      "Requirement already satisfied: python-dateutil>=2.7 in c:\\users\\askar\\appdata\\roaming\\python\\python311\\site-packages (from matplotlib) (2.8.2)\n",
      "Requirement already satisfied: six>=1.5 in c:\\users\\askar\\appdata\\roaming\\python\\python311\\site-packages (from python-dateutil>=2.7->matplotlib) (1.16.0)\n",
      "Requirement already satisfied: pytorch-accelerated in c:\\users\\askar\\anaconda3\\lib\\site-packages (0.1.45)\n",
      "Collecting accelerate==0.18.0 (from pytorch-accelerated)\n",
      "  Using cached accelerate-0.18.0-py3-none-any.whl (215 kB)\n",
      "Requirement already satisfied: tqdm~=4.64.0 in c:\\users\\askar\\anaconda3\\lib\\site-packages (from pytorch-accelerated) (4.64.1)\n",
      "Requirement already satisfied: numpy>=1.17 in c:\\users\\askar\\anaconda3\\lib\\site-packages (from accelerate==0.18.0->pytorch-accelerated) (1.24.3)\n",
      "Requirement already satisfied: packaging>=20.0 in c:\\users\\askar\\appdata\\roaming\\python\\python311\\site-packages (from accelerate==0.18.0->pytorch-accelerated) (23.1)\n",
      "Requirement already satisfied: psutil in c:\\users\\askar\\appdata\\roaming\\python\\python311\\site-packages (from accelerate==0.18.0->pytorch-accelerated) (5.9.5)\n",
      "Requirement already satisfied: pyyaml in c:\\users\\askar\\anaconda3\\lib\\site-packages (from accelerate==0.18.0->pytorch-accelerated) (6.0)\n",
      "Requirement already satisfied: torch>=1.4.0 in c:\\users\\askar\\anaconda3\\lib\\site-packages (from accelerate==0.18.0->pytorch-accelerated) (2.0.1+cu117)\n",
      "Requirement already satisfied: colorama in c:\\users\\askar\\appdata\\roaming\\python\\python311\\site-packages (from tqdm~=4.64.0->pytorch-accelerated) (0.4.6)\n",
      "Requirement already satisfied: filelock in c:\\users\\askar\\anaconda3\\lib\\site-packages (from torch>=1.4.0->accelerate==0.18.0->pytorch-accelerated) (3.9.0)\n",
      "Requirement already satisfied: typing-extensions in c:\\users\\askar\\anaconda3\\lib\\site-packages (from torch>=1.4.0->accelerate==0.18.0->pytorch-accelerated) (4.6.3)\n",
      "Requirement already satisfied: sympy in c:\\users\\askar\\anaconda3\\lib\\site-packages (from torch>=1.4.0->accelerate==0.18.0->pytorch-accelerated) (1.11.1)\n",
      "Requirement already satisfied: networkx in c:\\users\\askar\\anaconda3\\lib\\site-packages (from torch>=1.4.0->accelerate==0.18.0->pytorch-accelerated) (3.0)\n",
      "Requirement already satisfied: jinja2 in c:\\users\\askar\\anaconda3\\lib\\site-packages (from torch>=1.4.0->accelerate==0.18.0->pytorch-accelerated) (3.1.2)\n",
      "Requirement already satisfied: MarkupSafe>=2.0 in c:\\users\\askar\\anaconda3\\lib\\site-packages (from jinja2->torch>=1.4.0->accelerate==0.18.0->pytorch-accelerated) (2.1.1)\n",
      "Requirement already satisfied: mpmath>=0.19 in c:\\users\\askar\\anaconda3\\lib\\site-packages (from sympy->torch>=1.4.0->accelerate==0.18.0->pytorch-accelerated) (1.2.1)\n",
      "Installing collected packages: accelerate\n",
      "  Attempting uninstall: accelerate\n",
      "    Found existing installation: accelerate 0.20.3\n",
      "    Uninstalling accelerate-0.20.3:\n",
      "      Successfully uninstalled accelerate-0.20.3\n",
      "Successfully installed accelerate-0.18.0\n",
      "Requirement already satisfied: datasets in c:\\users\\askar\\anaconda3\\lib\\site-packages (2.13.0)\n",
      "Requirement already satisfied: evaluate in c:\\users\\askar\\anaconda3\\lib\\site-packages (0.4.0)\n",
      "Requirement already satisfied: transformers[sentencepiece] in c:\\users\\askar\\anaconda3\\lib\\site-packages (4.31.0.dev0)\n",
      "Requirement already satisfied: numpy>=1.17 in c:\\users\\askar\\anaconda3\\lib\\site-packages (from datasets) (1.24.3)\n",
      "Requirement already satisfied: pyarrow>=8.0.0 in c:\\users\\askar\\anaconda3\\lib\\site-packages (from datasets) (12.0.1)\n",
      "Requirement already satisfied: dill<0.3.7,>=0.3.0 in c:\\users\\askar\\anaconda3\\lib\\site-packages (from datasets) (0.3.6)\n",
      "Requirement already satisfied: pandas in c:\\users\\askar\\anaconda3\\lib\\site-packages (from datasets) (2.0.2)\n",
      "Requirement already satisfied: requests>=2.19.0 in c:\\users\\askar\\anaconda3\\lib\\site-packages (from datasets) (2.29.0)\n",
      "Requirement already satisfied: tqdm>=4.62.1 in c:\\users\\askar\\anaconda3\\lib\\site-packages (from datasets) (4.64.1)\n",
      "Requirement already satisfied: xxhash in c:\\users\\askar\\anaconda3\\lib\\site-packages (from datasets) (3.2.0)\n",
      "Requirement already satisfied: multiprocess in c:\\users\\askar\\anaconda3\\lib\\site-packages (from datasets) (0.70.14)\n",
      "Requirement already satisfied: fsspec[http]>=2021.11.1 in c:\\users\\askar\\anaconda3\\lib\\site-packages (from datasets) (2023.6.0)\n",
      "Requirement already satisfied: aiohttp in c:\\users\\askar\\anaconda3\\lib\\site-packages (from datasets) (3.8.4)\n",
      "Requirement already satisfied: huggingface-hub<1.0.0,>=0.11.0 in c:\\users\\askar\\anaconda3\\lib\\site-packages (from datasets) (0.15.1)\n",
      "Requirement already satisfied: packaging in c:\\users\\askar\\appdata\\roaming\\python\\python311\\site-packages (from datasets) (23.1)\n",
      "Requirement already satisfied: pyyaml>=5.1 in c:\\users\\askar\\anaconda3\\lib\\site-packages (from datasets) (6.0)\n",
      "Requirement already satisfied: responses<0.19 in c:\\users\\askar\\anaconda3\\lib\\site-packages (from evaluate) (0.18.0)\n",
      "Requirement already satisfied: filelock in c:\\users\\askar\\anaconda3\\lib\\site-packages (from transformers[sentencepiece]) (3.9.0)\n",
      "Requirement already satisfied: regex!=2019.12.17 in c:\\users\\askar\\anaconda3\\lib\\site-packages (from transformers[sentencepiece]) (2022.7.9)\n",
      "Requirement already satisfied: tokenizers!=0.11.3,<0.14,>=0.11.1 in c:\\users\\askar\\anaconda3\\lib\\site-packages (from transformers[sentencepiece]) (0.13.3)\n",
      "Requirement already satisfied: safetensors>=0.3.1 in c:\\users\\askar\\anaconda3\\lib\\site-packages (from transformers[sentencepiece]) (0.3.1)\n",
      "Requirement already satisfied: sentencepiece!=0.1.92,>=0.1.91 in c:\\users\\askar\\anaconda3\\lib\\site-packages (from transformers[sentencepiece]) (0.1.99)\n",
      "Requirement already satisfied: protobuf<=3.20.3 in c:\\users\\askar\\anaconda3\\lib\\site-packages (from transformers[sentencepiece]) (3.20.3)\n",
      "Requirement already satisfied: attrs>=17.3.0 in c:\\users\\askar\\anaconda3\\lib\\site-packages (from aiohttp->datasets) (22.1.0)\n",
      "Requirement already satisfied: charset-normalizer<4.0,>=2.0 in c:\\users\\askar\\anaconda3\\lib\\site-packages (from aiohttp->datasets) (2.0.4)\n",
      "Requirement already satisfied: multidict<7.0,>=4.5 in c:\\users\\askar\\anaconda3\\lib\\site-packages (from aiohttp->datasets) (6.0.4)\n",
      "Requirement already satisfied: async-timeout<5.0,>=4.0.0a3 in c:\\users\\askar\\anaconda3\\lib\\site-packages (from aiohttp->datasets) (4.0.2)\n",
      "Requirement already satisfied: yarl<2.0,>=1.0 in c:\\users\\askar\\anaconda3\\lib\\site-packages (from aiohttp->datasets) (1.9.2)\n",
      "Requirement already satisfied: frozenlist>=1.1.1 in c:\\users\\askar\\anaconda3\\lib\\site-packages (from aiohttp->datasets) (1.3.3)\n",
      "Requirement already satisfied: aiosignal>=1.1.2 in c:\\users\\askar\\anaconda3\\lib\\site-packages (from aiohttp->datasets) (1.3.1)\n",
      "Requirement already satisfied: typing-extensions>=3.7.4.3 in c:\\users\\askar\\anaconda3\\lib\\site-packages (from huggingface-hub<1.0.0,>=0.11.0->datasets) (4.6.3)\n",
      "Requirement already satisfied: idna<4,>=2.5 in c:\\users\\askar\\anaconda3\\lib\\site-packages (from requests>=2.19.0->datasets) (2.10)\n",
      "Requirement already satisfied: urllib3<1.27,>=1.21.1 in c:\\users\\askar\\anaconda3\\lib\\site-packages (from requests>=2.19.0->datasets) (1.26.16)\n",
      "Requirement already satisfied: certifi>=2017.4.17 in c:\\users\\askar\\anaconda3\\lib\\site-packages (from requests>=2.19.0->datasets) (2023.5.7)\n",
      "Requirement already satisfied: colorama in c:\\users\\askar\\appdata\\roaming\\python\\python311\\site-packages (from tqdm>=4.62.1->datasets) (0.4.6)\n",
      "Requirement already satisfied: python-dateutil>=2.8.2 in c:\\users\\askar\\appdata\\roaming\\python\\python311\\site-packages (from pandas->datasets) (2.8.2)\n",
      "Requirement already satisfied: pytz>=2020.1 in c:\\users\\askar\\anaconda3\\lib\\site-packages (from pandas->datasets) (2022.7)\n",
      "Requirement already satisfied: tzdata>=2022.1 in c:\\users\\askar\\anaconda3\\lib\\site-packages (from pandas->datasets) (2023.3)\n",
      "Requirement already satisfied: six>=1.5 in c:\\users\\askar\\appdata\\roaming\\python\\python311\\site-packages (from python-dateutil>=2.8.2->pandas->datasets) (1.16.0)\n",
      "^C\n",
      "Requirement already satisfied: accelerate in c:\\users\\askar\\anaconda3\\lib\\site-packages (0.18.0)\n",
      "Collecting accelerate\n",
      "  Using cached accelerate-0.20.3-py3-none-any.whl (227 kB)\n",
      "Requirement already satisfied: numpy>=1.17 in c:\\users\\askar\\anaconda3\\lib\\site-packages (from accelerate) (1.24.3)\n",
      "Requirement already satisfied: packaging>=20.0 in c:\\users\\askar\\appdata\\roaming\\python\\python311\\site-packages (from accelerate) (23.1)\n",
      "Requirement already satisfied: psutil in c:\\users\\askar\\appdata\\roaming\\python\\python311\\site-packages (from accelerate) (5.9.5)\n",
      "Requirement already satisfied: pyyaml in c:\\users\\askar\\anaconda3\\lib\\site-packages (from accelerate) (6.0)\n",
      "Requirement already satisfied: torch>=1.6.0 in c:\\users\\askar\\anaconda3\\lib\\site-packages (from accelerate) (2.0.1+cu117)\n",
      "Requirement already satisfied: filelock in c:\\users\\askar\\anaconda3\\lib\\site-packages (from torch>=1.6.0->accelerate) (3.9.0)\n",
      "Requirement already satisfied: typing-extensions in c:\\users\\askar\\anaconda3\\lib\\site-packages (from torch>=1.6.0->accelerate) (4.6.3)\n",
      "Requirement already satisfied: sympy in c:\\users\\askar\\anaconda3\\lib\\site-packages (from torch>=1.6.0->accelerate) (1.11.1)\n",
      "Requirement already satisfied: networkx in c:\\users\\askar\\anaconda3\\lib\\site-packages (from torch>=1.6.0->accelerate) (3.0)\n",
      "Requirement already satisfied: jinja2 in c:\\users\\askar\\anaconda3\\lib\\site-packages (from torch>=1.6.0->accelerate) (3.1.2)\n",
      "Requirement already satisfied: MarkupSafe>=2.0 in c:\\users\\askar\\anaconda3\\lib\\site-packages (from jinja2->torch>=1.6.0->accelerate) (2.1.1)\n",
      "Requirement already satisfied: mpmath>=0.19 in c:\\users\\askar\\anaconda3\\lib\\site-packages (from sympy->torch>=1.6.0->accelerate) (1.2.1)\n",
      "Installing collected packages: accelerate\n",
      "  Attempting uninstall: accelerate\n",
      "    Found existing installation: accelerate 0.18.0\n",
      "    Uninstalling accelerate-0.18.0:\n",
      "      Successfully uninstalled accelerate-0.18.0\n",
      "Successfully installed accelerate-0.20.3\n"
     ]
    },
    {
     "name": "stderr",
     "output_type": "stream",
     "text": [
      "ERROR: pip's dependency resolver does not currently take into account all the packages that are installed. This behaviour is the source of the following dependency conflicts.\n",
      "pytorch-accelerated 0.1.45 requires accelerate==0.18.0, but you have accelerate 0.20.3 which is incompatible.\n"
     ]
    }
   ],
   "source": [
    "!pip install emoji\n",
    "!pip install SentencePiece\n",
    "!pip install transformers\n",
    "!pip install pandas\n",
    "!pip install nltk\n",
    "!pip install datasets evaluate transformers[sentencepiece]\n",
    "!pip install cuda-python\n",
    "!pip3 install -U scikit-learn scipy matplotlib\n",
    "!pip install pytorch-accelerated\n",
    "!pip install datasets evaluate transformers[sentencepiece]\n",
    "!pip install accelerate -U\n",
    "!pip install transformers[torch]\n"
   ]
  },
  {
   "attachments": {},
   "cell_type": "markdown",
   "metadata": {},
   "source": [
    "CREATE DATA\n",
    "-"
   ]
  },
  {
   "cell_type": "code",
   "execution_count": 1,
   "metadata": {},
   "outputs": [
    {
     "name": "stderr",
     "output_type": "stream",
     "text": [
      "c:\\Users\\Askar\\anaconda3\\Lib\\site-packages\\tqdm\\auto.py:22: TqdmWarning: IProgress not found. Please update jupyter and ipywidgets. See https://ipywidgets.readthedocs.io/en/stable/user_install.html\n",
      "  from .autonotebook import tqdm as notebook_tqdm\n",
      "[nltk_data] Downloading package omw-1.4 to\n",
      "[nltk_data]     C:\\Users\\Askar\\AppData\\Roaming\\nltk_data...\n",
      "[nltk_data]   Package omw-1.4 is already up-to-date!\n"
     ]
    },
    {
     "data": {
      "text/plain": [
       "True"
      ]
     },
     "execution_count": 1,
     "metadata": {},
     "output_type": "execute_result"
    }
   ],
   "source": [
    "import pandas as pd\n",
    "import emoji\n",
    "import re\n",
    "import string\n",
    "import nltk\n",
    "import nltk\n",
    "from nltk.corpus import stopwords\n",
    "from nltk.tokenize import word_tokenize\n",
    "from nltk.stem import WordNetLemmatizer\n",
    "import transformers\n",
    "from collections import Counter\n",
    "import torch\n",
    "nltk.download('omw-1.4')"
   ]
  },
  {
   "cell_type": "code",
   "execution_count": 2,
   "metadata": {},
   "outputs": [
    {
     "data": {
      "text/html": [
       "<div>\n",
       "<style scoped>\n",
       "    .dataframe tbody tr th:only-of-type {\n",
       "        vertical-align: middle;\n",
       "    }\n",
       "\n",
       "    .dataframe tbody tr th {\n",
       "        vertical-align: top;\n",
       "    }\n",
       "\n",
       "    .dataframe thead th {\n",
       "        text-align: right;\n",
       "    }\n",
       "</style>\n",
       "<table border=\"1\" class=\"dataframe\">\n",
       "  <thead>\n",
       "    <tr style=\"text-align: right;\">\n",
       "      <th></th>\n",
       "      <th>tweet</th>\n",
       "      <th>label</th>\n",
       "    </tr>\n",
       "  </thead>\n",
       "  <tbody>\n",
       "    <tr>\n",
       "      <th>0</th>\n",
       "      <td>the tongue of his condition, now i saw things ...</td>\n",
       "      <td>0</td>\n",
       "    </tr>\n",
       "    <tr>\n",
       "      <th>1</th>\n",
       "      <td>by god the great, after i saw the derby of wyd...</td>\n",
       "      <td>0</td>\n",
       "    </tr>\n",
       "    <tr>\n",
       "      <th>2</th>\n",
       "      <td>believe in god, this zamalek fans are as good ...</td>\n",
       "      <td>0</td>\n",
       "    </tr>\n",
       "    <tr>\n",
       "      <th>3</th>\n",
       "      <td>the coach appeared in the media and told the t...</td>\n",
       "      <td>0</td>\n",
       "    </tr>\n",
       "    <tr>\n",
       "      <th>4</th>\n",
       "      <td>asno smito\\r\\nwhoever knows her tells me a mas...</td>\n",
       "      <td>0</td>\n",
       "    </tr>\n",
       "    <tr>\n",
       "      <th>...</th>\n",
       "      <td>...</td>\n",
       "      <td>...</td>\n",
       "    </tr>\n",
       "    <tr>\n",
       "      <th>41846</th>\n",
       "      <td>shawky gharib: we excluded 4 players from the ...</td>\n",
       "      <td>1</td>\n",
       "    </tr>\n",
       "    <tr>\n",
       "      <th>41847</th>\n",
       "      <td>dina musharraf resumes her career in the singa...</td>\n",
       "      <td>1</td>\n",
       "    </tr>\n",
       "    <tr>\n",
       "      <th>41848</th>\n",
       "      <td>indeed, al-ahly ended its agreement with ricar...</td>\n",
       "      <td>1</td>\n",
       "    </tr>\n",
       "    <tr>\n",
       "      <th>41849</th>\n",
       "      <td>hazem imam, the captain of zamalek, decided to...</td>\n",
       "      <td>1</td>\n",
       "    </tr>\n",
       "    <tr>\n",
       "      <th>41850</th>\n",
       "      <td>walid al-attar, executive director of the egyp...</td>\n",
       "      <td>1</td>\n",
       "    </tr>\n",
       "  </tbody>\n",
       "</table>\n",
       "<p>41851 rows × 2 columns</p>\n",
       "</div>"
      ],
      "text/plain": [
       "                                                   tweet  label\n",
       "0      the tongue of his condition, now i saw things ...      0\n",
       "1      by god the great, after i saw the derby of wyd...      0\n",
       "2      believe in god, this zamalek fans are as good ...      0\n",
       "3      the coach appeared in the media and told the t...      0\n",
       "4      asno smito\\r\\nwhoever knows her tells me a mas...      0\n",
       "...                                                  ...    ...\n",
       "41846  shawky gharib: we excluded 4 players from the ...      1\n",
       "41847  dina musharraf resumes her career in the singa...      1\n",
       "41848  indeed, al-ahly ended its agreement with ricar...      1\n",
       "41849  hazem imam, the captain of zamalek, decided to...      1\n",
       "41850  walid al-attar, executive director of the egyp...      1\n",
       "\n",
       "[41851 rows x 2 columns]"
      ]
     },
     "execution_count": 2,
     "metadata": {},
     "output_type": "execute_result"
    }
   ],
   "source": [
    "data_real = pd.read_csv(r\"C:\\Users\\Askar\\Documents\\GitHub\\AI-tasks\\Fake_News_Football\\Data\\real.csv\")\n",
    "data_fake = pd.read_csv(r\"C:\\Users\\Askar\\Documents\\GitHub\\AI-tasks\\Fake_News_Football\\Data\\fake.csv\")\n",
    "data_fake[\"label\"] = 0\n",
    "data_real[\"label\"] = 1\n",
    "df = pd.concat([data_fake,data_real],ignore_index=True)\n",
    "df=df.dropna()\n",
    "df = df.reset_index(drop=True)\n",
    "df"
   ]
  },
  {
   "cell_type": "code",
   "execution_count": 3,
   "metadata": {},
   "outputs": [],
   "source": [
    "\"\"\"\n",
    "CLEAN TEXT\n",
    "\"\"\"\n",
    "\n",
    "#Clean emojis from text\n",
    "def strip_emoji(text):\n",
    "    return emoji.demojize(text, language='en') #remove emoji\n",
    "    \n",
    "#Remove punctuations, links, mentions and \\r\\n new line characters\n",
    "def strip_all_entities(text): \n",
    "    text = text.replace('\\r', '').replace('\\n', ' ').replace('\\n', ' ').lower() #remove \\n and \\r and lowercase\n",
    "    text = re.sub(r\"(@|https?\\:\\/\\/)\\S+\", \"\", text) #remove links and mentions\n",
    "    text = re.sub(r'[^\\x00-\\x7f]',r'', text) #remove non utf8/ascii characters such as '\\x9a\\x91\\x97\\x9a\\x97'\n",
    "    banned_list= string.punctuation + 'Ã'+'±'+'ã'+'¼'+'â'+'»'+'§'\n",
    "    table = str.maketrans('', '', banned_list)\n",
    "    text = text.translate(table)\n",
    "    return text\n",
    "\n",
    "#clean hashtags at the end of the sentence, and keep those in the middle of the sentence by removing just the # symbol\n",
    "def clean_hashtags(tweet):\n",
    "    new_tweet = \" \".join(word.strip() for word in re.split('#(?!(?:hashtag)\\b)[\\w-]+(?=(?:\\s+#[\\w-]+)*\\s*$)', tweet)) #remove last hashtags\n",
    "    new_tweet2 = \" \".join(word.strip() for word in re.split('#|_', new_tweet)) #remove hashtags symbol from words in the middle of the sentence\n",
    "    return new_tweet2\n",
    "\n",
    "#Filter special characters such as & and $ present in some words\n",
    "def filter_chars(a):\n",
    "    sent = []\n",
    "    for word in a.split(' '):\n",
    "        if ('$' in word) | ('&' in word):\n",
    "            sent.append('')\n",
    "        else:\n",
    "            sent.append(word)\n",
    "    return ' '.join(sent)\n",
    "\n",
    "def remove_mult_spaces(text): # remove multiple spaces\n",
    "    return re.sub(\"\\s\\s+\" , \" \", text)\n",
    "\n",
    "def stop_words(text):\n",
    "    # Download stop-words model\n",
    "    nltk.download('punkt')\n",
    "    nltk.download('stopwords')\n",
    "\n",
    "    stop_words = set(stopwords.words('english')) \n",
    "\n",
    "    # Tokenize\n",
    "    tokens = word_tokenize(text)\n",
    "\n",
    "    # Delete stop words\n",
    "    filtered_tokens = [word for word in tokens if word.casefold() not in stop_words]\n",
    "\n",
    "    # Return result\n",
    "    filtered_text = ' '.join(filtered_tokens)\n",
    "    return filtered_text\n",
    "\n",
    "def lemmatize(text):\n",
    "    # Download model\n",
    "    nltk.download('punkt')\n",
    "    nltk.download('wordnet')\n",
    "\n",
    "    # Create lemmatize object\n",
    "    lemmatizer = WordNetLemmatizer()\n",
    "\n",
    "    # Tokenize sentence\n",
    "    tokens = nltk.word_tokenize(text)\n",
    "\n",
    "    # Lemmatize words\n",
    "    lemmatized_words = [lemmatizer.lemmatize(word) for word in tokens]\n",
    "\n",
    "    # Return result\n",
    "    lemmatized_text = ' '.join(lemmatized_words)\n",
    "    return lemmatized_text"
   ]
  },
  {
   "cell_type": "code",
   "execution_count": null,
   "metadata": {},
   "outputs": [],
   "source": [
    "for text in range(0,len(df)):\n",
    "    df[\"tweet\"][text] = lemmatize(stop_words(remove_mult_spaces(filter_chars(clean_hashtags(strip_all_entities(strip_emoji(df[\"tweet\"][text])))))))"
   ]
  },
  {
   "cell_type": "code",
   "execution_count": 5,
   "metadata": {},
   "outputs": [
    {
     "data": {
      "text/plain": [
       "[['tongue condition saw thing confused shame young haha tarekhamedtafahkila'],\n",
       " ['god great saw derby wydad alraja almaghribi beauty audience sweetness crowd would like tell another place thousand million congratulation everyone reason preventing fan entering succeeded poverty football egypt derby'],\n",
       " ['believe god zamalek fan good swear god celebrate u took africa'],\n",
       " ['coach appeared medium told truth got told swear right'],\n",
       " ['asno smito whoever know tell massage whoever doesnt know leave comment oh attack haha'],\n",
       " ['dirty referee sieve mouse smell smell bukhara smell'],\n",
       " ['portugal argentine referee understand fahim'],\n",
       " ['honestly alahly alhilal match ticket come someone informs quickly'],\n",
       " ['ashraf sobhi minister kindness followed crisis registering new zamalek player matter ended regulation concerned ministry reduce congestion'],\n",
       " ['opinion stop league play joint player make ramadan tournament'],\n",
       " ['hilal zamalek alhilal'],\n",
       " ['1136 dangerous remove 114 1162 goal ask haha'],\n",
       " ['league unit nasrawi entered restaurant found mouse didnt tell im afraid hell go second staircase hahahahahahahahahaha hahahahahahahaha hahahahahahaha hahahahahaha hahahaha hahaha hahahahaha hahahahaha hahahahahahahahaha hahahahahahahahaha selko leader'],\n",
       " ['alkawari think football dial 60 riyal haha'],\n",
       " ['harran kalyan french league deprived god see champion london beautiful city'],\n",
       " ['someone kill ahlawyah always forgetting paralyzing sin child ask forgiveness god almighty lord seriously alahly mortada need something really disgusting oh nesto cheese rotten one haha youre squeaking lack sleep'],\n",
       " ['gross back renewing pain haha increase patience hazmalahly'],\n",
       " ['ahly alfayhaa haha second faihaa hahaha'],\n",
       " ['cutting mouse alfayha stadium news true surprising repeat repeat see corruption home keep silent corrupt content happened victory get league year point judge fighting haha humiliated sport league led'],\n",
       " ['feel sorry mind didnt last long first second last least 14th league approaching gate win union trample celebrate coronation send landing area'],\n",
       " ['player provokes audience crowd get angry natural reaction problem federation punish player according regulation rather audience held accountable see happening saudi league player crescent one dare fan lead trying stop sake spoiling'],\n",
       " ['watch ronaldos reaction salah salah goal'],\n",
       " ['haha appears beginning tour come u enough verdict garbage match egypt grieved'],\n",
       " ['congratulation aldouri alahly nawaf bin saad dedicates league alahly'],\n",
       " ['outside alahly search google many month waiting period divorced woman hmmm mmm'],\n",
       " ['said say asia'],\n",
       " ['congratulation zamalek 25 million dollar'],\n",
       " ['hijazi'],\n",
       " ['alahly win zamalek color shirt'],\n",
       " ['biggest wrong decision made qatar prevent yemeni attending world cup match racist stupid decision came sensitive stage especially failure renew armistice make yemeni add new target list military target target qatar bomb close'],\n",
       " ['may god protect say european champion easier league'],\n",
       " ['help men haha alahlydaldoolfathi'],\n",
       " ['haha god damn defence'],\n",
       " ['whenever ittihad score goal must returned mouse haha dont know'],\n",
       " ['possible alahly administration spoke ambro making ninth star different color every time look tshirt think judge ask tell look first word haha'],\n",
       " ['zamalek lost'],\n",
       " ['tone ignorant evidence shaken within head blow support team half haram championship losing new one make difference truth afraid collapse legend alfashnak bebo entity time changed away supremacy zamalek youth raise support national sport party'],\n",
       " ['abdel monsef say shadi talking referee say zero day day mohab say referee foreigner abdel monsef say used talk normally middle field mohab say heard half field goal say yes egyptian cup final match alahly asha alfarakh 34 house abu lie ruined'],\n",
       " ['wrote goal year last goal set suicide didnt achieve anything would commit suicide'],\n",
       " ['referee haha alahlys mercy goal 4 hahahaha'],\n",
       " ['mourinho frank come frank logical word ferihson believed german fan sitting million year 3 european champion league championship used take ferguson time gone man united frejusoooon taaaaaaaaaaaaaaaaaaaaaaaaaaaaaaaaaaaaaaaaaaaaaaaaaaaaaaaaaaaaaaaaaaaaaaaaaaaaaaaaaaaaaaa'],\n",
       " ['unfortunately happening marsool park unnatural arbitration scandal shaky ruling everyone watch victory guard happened interfered karate move course blame referee tomorrow arbitration department support decision may honoredyes league year perhaps see strangest league history saudi sport'],\n",
       " ['alahly like alittihad long fifa paused wish would go whipped go hahahahahahahahahahahahahahahahahahahahahahahahahahahahahahahahahahahaha'],\n",
       " ['hilal alshabab play symphony nasrawis ruling wronged u'],\n",
       " ['alahly fan cheering back'],\n",
       " ['alahly today different neighbor back soon good luck neighbor'],\n",
       " ['sayed came back returned bombing yes master hit violin repent haha'],\n",
       " ['get feed prematch hype hilal zamalek'],\n",
       " ['alahly teacher alahly red change color shirt know take time know alahly someone pick still literally cafeteria'],\n",
       " ['suggest merging youth riyadh club see praise wadi laban haha alahly'],\n",
       " ['zamalek determined waste league'],\n",
       " ['haha pentagon sent many helicopter many soldier several european country baltic region one air defense system one ground missile end feel american west front russia china shy biden said sanction said'],\n",
       " ['karim benzema followup first round like youssef osamas flamebo abu glambo match love player follows big star learns'],\n",
       " ['fraudulent alahly hater moataz alshami talk crown head engineer amer alamayreh know burning reached sensitive area body describe builder expert regulation reveals fault lowranking person evil liar'],\n",
       " ['went make tea watch match came back found interior ministry scored goal'],\n",
       " ['hafeez mesawi grabbed referee nothing sir referee haha judging two player'],\n",
       " ['alahly league sings 75th minute loss oh loss loyalty lost ok wayne refer renew pain'],\n",
       " ['blue two zero zamalek'],\n",
       " ['hilal alahly union dreamed alnassr lost alhilal tied action became end league may god help u achieve dream'],\n",
       " ['hahahaha action pick alahly fan let team look talking'],\n",
       " ['sweet thing everyone following almaliky alahly everywhere different inclination among loving lover among oppressed hater among dazzle audience among fearful defeated'],\n",
       " ['alahly medium critic critic many program tweet calling alittihad administration take strict stance towards fahd almawlid corner bench match'],\n",
       " ['section alahly fan want burn time special throw white flag congratulation cup'],\n",
       " ['swear god zamalek audience difficult'],\n",
       " ['sergi roberto working like lock wrapping around returning ball squad ball came life 32 real madrid'],\n",
       " ['best sentence ive heard year far league dead'],\n",
       " ['goal pharco god willing goal league despite poor performance killer goal shook pharcos net stabbed chest ahmed modi adeel abdullah alsaeed'],\n",
       " ['guy swear god cant believe bakari jasama last country work check haha swear god cant believe ball went outside check even abu jabal stood 6yard line disaster check cameroon'],\n",
       " ['put referendum alnassr alhilal hilali program put referendum hilali player nasrawi hilali program'],\n",
       " ['good evening professor doubt know abdullah mumina left presidency alahly saw abuse hatred alahly runway subjected great pressure abuse'],\n",
       " ['army match wydad stopped 30 minute referee prevented entering clothing store without seeing ban suspension aljaish alfateh match also known raise racist ethnic message towards team penalty father suleiman tama'],\n",
       " ['haha hussein abdul ghani older club president coach'],\n",
       " ['anbi zang alzamalek bad gang'],\n",
       " ['beat altaraji keep altaraji referee beat wydad keep caf corrupt beat zamalek keep country abusive beat kuwait keep money well time beat level example everyone see eye'],\n",
       " ['haha four offside goal'],\n",
       " ['dark side globe wig tied 33 lastplace finisher league ahead 31 everything change life except foolishness wig shabihah'],\n",
       " ['dont come work alsuwail tomorrow alahly zamalek'],\n",
       " ['eriksson know weak goalkeeper testing'],\n",
       " ['referee theatrical party since match started want give balenty'],\n",
       " ['oh god mouse help altuwaijri mean alhilal haha alittihad play front mouse douriwithwalid'],\n",
       " ['haha zamalek catering good'],\n",
       " ['clear alshinawi seen day first second time'],\n",
       " ['one detail minion also naming qatari national team alanabi imitation english club red bluesetc mean history club founded team registered league color tshirts order avoid confusion preferred name color today inherit alanabi said hahaha'],\n",
       " ['haha hussein alshahat biggest prank unfortunately money took satisfied another player meknes lost player unfortunate abdullah boat god'],\n",
       " ['club qualified 2025 club world cup according fifa classification real madrid chelsea crescent urawa flamingo palmeiras alahly wydad thank mado lost dream'],\n",
       " ['hero character back congratulation league'],\n",
       " ['barcelona donkey say plot stop club stopping exactly eight rome liverpool expelling european league laughing loser barcelona scandal'],\n",
       " ['hysterical alahly rattle bone cairo stadium alahly eat like turn light eat shrimp tracy bao kahraba men eat shrimp listen zol come dont afraid'],\n",
       " ['saudi defense mighty hit infiltration haha'],\n",
       " ['scenario sundown official killed could heart attack alahly god willing appears may meet one first group imagine lottery left alahly j kabylie belouizdad early first sundown signed wydad taraji second oh sunnah sukha boy'],\n",
       " ['yahya saree telling u targeted riyadh changed tone coalition extent threat arrogance defiance humiliation sympathy flirtation except today incomplete repeat cry coalition begging supporter stop missile mediation country tomorrow rule master asks burden government haha thanks god'],\n",
       " ['god willing alahly make greatness today'],\n",
       " ['seems laughed bin zanan haha let make forget summer holiday league begin distort hahaha forbidden'],\n",
       " ['said want strongest league haha exposed front whole world league pas u chaos league'],\n",
       " ['woman ahlawyah haha men go zamalek dont invitation mr enas aldegheidy'],\n",
       " ['crescent agreement buy half billion league rarity mouse hahahahahaha hahahahaha hahahahahahaha hahahaha laugh'],\n",
       " ['john greece awad later qm haha'],\n",
       " ['ahlyaljazeera hahahaha audience tweeting saying alsadra king haha encourages hearing haha care match league know money science adult'],\n",
       " ['tie becomes reason joy know club ahly honor'],\n",
       " ['zamalek comment choice alahly koller coach say mother money audience alahly'],\n",
       " ['alittihad make thousand account victory every match play last day universe way play every game solution coach blurred frankness emptiness haha roh alitihad working victory'],\n",
       " ['bentez real madrid coach failure zayn adel abdul mahdi fails change bentez iraq haha people entrust parliament'],\n",
       " ['zamalek interest haha'],\n",
       " ['lord heart zamalek loses'],\n",
       " ['third goal haha say offside'],\n",
       " ['one oppose popular demand thought frankly fan zamalek club sundown may demand alqamar increase nour change name account bekmani peter shalolily lucky invitation 5 minute thinking'],\n",
       " ['zamalek made u laugh'],\n",
       " ['imagine club work funded specifically fight alahly mean deal enter raise price maliciously alahly club nothing idea money everything buy audience fan size alahly fan'],\n",
       " ['alahly became first team live africa'],\n",
       " ['sari need goal giro enter haha'],\n",
       " ['god put place alnasrawi praise god blessing neighbor alahly great love king'],\n",
       " ['referee didnt stop would left pant tshirt haha'],\n",
       " ['arsenal haha laughing team anyone support arsenal united brought ronaldo sancho varane win english premier league champion league round 9 arsenal 14 point united 14 point difference arsenal played first 3 match league without 8 9 key player including city chelsea'],\n",
       " ['ben gharbals defense haha marchon sold subtraction haha'],\n",
       " ['compulsory judgment disobeyed haha'],\n",
       " ['ali maher imad alnahhas oh heart sad alahlys child honor every time play'],\n",
       " ['graduated honor front japan best thing graduated front thailand haha qatar match washed hand whoever chose name absence honest spearhead understand football recommend reducing professional five favor saudi football le expensive first time saudi arabia graduated second round recent year saudi arabiajapan'],\n",
       " ['brother anyone criticizes praise god hate lumpy defense want withdraw 10 record mean brother ruin football house know'],\n",
       " ['celebrating yesterday alahly playing three oclock afternoon temperature like crowd like know beat anbi alfajr'],\n",
       " ['shaya sitting alahlys defense haha'],\n",
       " ['alahly club board director dont listen sense humor happened hahaha audience upset hahaha love haha club losing'],\n",
       " ['watched match sure sure skeptical hahahaha beat ruler zamalek'],\n",
       " ['abu musa prophet football net water haha'],\n",
       " ['quarrel supporter mortada warrior took new step stranglehold space time runway name zamalek'],\n",
       " ['verdict'],\n",
       " ['hahahaha alhilal coach qatta hard u judge'],\n",
       " ['referee alnahar haris malango ashraf dari good daba cry complaining benhalib statement alnaji alhakam haha diro al khater dloh please'],\n",
       " ['say zamalek focus league'],\n",
       " ['plenty clear player opened hand moved'],\n",
       " ['doukuri booking make referee foolish'],\n",
       " ['alahly 4 zero due weakness competitor haras elhodoud stronger champion league'],\n",
       " ['hashtag 7 kuwaiti drama series indian action haha reach 30 hashtags finally glass get rid qaisuma match crown prince alahly destroys 7'],\n",
       " ['believe free alahly program world cup great club channel rate viewership higher match league absence alahmar wait enjoyable version god willing program alahlyfworld'],\n",
       " ['algae burst riyadh'],\n",
       " ['advance counterattack goal defense win haha'],\n",
       " ['motamed interfered elbow front referee even first clear beautiful start'],\n",
       " ['zamalek going heal wound alahly'],\n",
       " ['player hugged ball hand difficult cancel two goal haha'],\n",
       " ['youth say verdict u crescent need ruler consumable talk win verdict monitor great reward coach say match life death crescent terrifying others fear enters tempts guide others play defensive manner may improve health wellbeing'],\n",
       " ['think saudi arabia paid moroccan defender score goal didnt pay didnt defend goal isnt land two holy mosque'],\n",
       " ['minus win unit today next round sharjah al wasl eye loneliness alahly youth aljazeera 3 top many seat move ranking table'],\n",
       " ['gooooooooooooool league'],\n",
       " ['question either negotiated ahmed ayman mansour youssef hassan nasser mansi shabana belhaj mostafa shalaby samson nday donga alsisi alzinari big club competing negotiating u kidnapped national bank ministry interior aswan haras alhodood anppi negotiating'],\n",
       " ['aware happiness victory argentina tensico john magdy abdelghani world cup haha'],\n",
       " ['ahlyrejectsalmirdasi haha shouting dhlan ali prepare argument defeat win say arbitration u'],\n",
       " ['maaya ten pound want go alexandria haha joking want go qatar alahly'],\n",
       " ['one solution eliminate put every female medium attribute sport among fan competing team due inclination thus see honest nonfanatic sport journalist benefit saudi hate talk team something useful criticizes purposeful constructive criticism alahly ittihad hilal'],\n",
       " ['john raeq'],\n",
       " ['apparently iraqi player ali fayez shore ruled referee canceled goal haha qadisiyahalarabi'],\n",
       " ['ok remove ball come say braus boy clip'],\n",
       " ['ronaldo nervous seems knew ongoing nightmare messi would saudi league soon alnasrabha'],\n",
       " ['alittihad season achieves league god willing expect withdraw support'],\n",
       " ['abdel fattah adam start match star goal burn end match player player alnasr caused victory ok record could lost'],\n",
       " ['god willing whoever wish something alahly fan respond every one intention see look one evacuated life mud tired association fight alahly audience'],\n",
       " ['alahly maintains record wall losing team conceded goal shaabu family'],\n",
       " ['son ahmed elshennawy wanted leave mark today missed football'],\n",
       " ['ball every match haha'],\n",
       " ['alahly make bridge imam ashour hahahaha'],\n",
       " ['alzaid say referee decision count penalty kick major correct decision pulling affect game far ball mean defender hit player see allowed affect game loss alzaid'],\n",
       " ['zamalek deal large proportion restricted'],\n",
       " ['arsenal fan contracting fabio haha brought player one know except family hahaha arsenal fan contracting jesus brought striker know get money finish lost arsenal fan rafinha transfer rumour wing pepe saka martinelli'],\n",
       " ['haddah villa bos house built official wrote gate grace lord swear god grace lord grace scissors huge building dont notice phrase people hear preach glory sir became intense referee player stripped dangerous method malicious'],\n",
       " ['name god gracious merciful'],\n",
       " ['alhilali player came angry substitution find alhilali medium saying player keen continue nasrawi player came acted like alhilali would find medium saying come group administrative defect personally believe'],\n",
       " ['haha international aspas score maradonas goal clear hand added messis side hahaha'],\n",
       " ['descending hashtag ahlylikealittihad juhas donkey come brag aljahli bow fell dignity'],\n",
       " ['haha verdict overturned crown head'],\n",
       " ['ahlyalshabab feel like want go top yellow league least haha'],\n",
       " ['scenario used blow zamalek last year reverberating face time karma really'],\n",
       " ['god willing beautiful football night end victory sudanese crescent egyptian zamalek african championship arab contractor egyptian league championship taraji'],\n",
       " ['medium fan team support behavior player say global behavior goalkeeper medium fan continent leader strongly reject player behavior changed lie distinctive culture club reached glory team place nothing changed despite support light year'],\n",
       " ['true look funny asking zamalek spanish league difficult haha origin confederation difficult champion league haha zamalek leader two important ate feta slept'],\n",
       " ['bravo match refereei said brave saudi referee dare give cristiano ronaldo yellow card verdict turned foreign abha'],\n",
       " ['poverty mass flag conquering ittihad take league play club world cup marsool park stadium hope happens'],\n",
       " ['took ali garagh alshamali ibrahim coach maytham alshatti matter hard try become arab qudsawi'],\n",
       " ['ederson tried get fired minute later ball eipzig score lost'],\n",
       " ['tell iron bar stopped john haha'],\n",
       " ['dark bat plan stop player case activating office service question coward player terrifies entity fan path'],\n",
       " ['luck saudi team haha goal rehearsal sooo'],\n",
       " ['imagine staying alahly club playing haha haha apostate haha front national bank haha'],\n",
       " ['el hajooj ferrera offer epic match every match lot time want get 3 line least effort course oyoun studio smartest art director history hour used happen like art director literally stage thank good cooperation seasoned alahly fan'],\n",
       " ['see zamalek satellite channel nothing front except say praise god healed u afflicted many creation favored u many creation praise god blessing alahly haha'],\n",
       " ['alahly strange thing frankly haha'],\n",
       " ['glory year ago leader brought asian participated general cup match seventh place hto longing noise leader returned took lead took league round 24 ketchup ninth quadriplegic club haha morning crescent'],\n",
       " ['happens egyptian league single ball goal doubtful penalty kick referee return var make sure outside line defender last player therefore deserves red card player expelled referee summoned discover ball offside cancel expulsion player return going dressing room clothes'],\n",
       " ['arsenal european league 201718 semifinal 201819 final 201920 round 32 202021 semifinal 202122 participate 202223 round 16 london pride'],\n",
       " ['best thing yesterday final every goal messi would bring would celebrate way shakbala match messi dedicated goal shakbala hatta said press conference role model sheka haha'],\n",
       " ['referee gave yellow day entered right'],\n",
       " ['since frankfurt barcelona armpit league oh european league today haha'],\n",
       " ['news pressure preach haha praise god think february difficult month alhilal'],\n",
       " ['next week barcelona forefront la liga standing'],\n",
       " ['look like eleventh calling alahly'],\n",
       " ['thanks alahly men worker entity right lost behind demand know royal pass see history royal remains mine'],\n",
       " ['william salibas contract expires summer 2024 agreement player arsenal new contract'],\n",
       " ['khalif roof bn sport mentioned first half alahly match royal second half apologize saying expect newcastle'],\n",
       " ['swear god referee barcelona clear first kroos lev'],\n",
       " ['league want match alahly quarter hour time one know haha'],\n",
       " ['anyone talk alahly wipe earth dignity eye eye tooth tooth visible darker listen'],\n",
       " ['filmed goal returning sit sit haha'],\n",
       " ['fierce rivalry medium albaji alshahed strange thing referee one take punch haha'],\n",
       " ['era mortada mansour 2014 league twice two ferrera ferrera unlike league carteron era temporary committee'],\n",
       " ['alahly give lesson zamalek three leaf fourth place gate'],\n",
       " ['one able alone hospital report footprint alahly player floating talk fat'],\n",
       " ['almaqdashi sews south length breadth companion defense shabwa traitor heel haha'],\n",
       " ['haha see match english premier league passing 10 minute sweetness watch match saudi league regret lost time downward level'],\n",
       " ['hahahahahaha stop stop stop miss zoran wind haha died jesus cup love sabotage use losing league'],\n",
       " ['amr aljarjiri want fifa summon last champion two version egyptian league play world cup keep alahlys expense enjoy zamalek'],\n",
       " ['important thing win 1'],\n",
       " ['say turn criticize final patient destroy coach dont care team worried coach psychology haha oh god god strange situation first time came across blackandwhite nasrawi life havent seen person entity like happens cheek lose addict strange strange'],\n",
       " ['praise god prayer peace upon messenger god may god bless grant peace dont know many personally feel family sister love alahly dont write much today important day life something happened waiting much wanted share joy may god pleased fulfill hope every one see message'],\n",
       " ['fieldleague1 private player spanish league close joining league current period'],\n",
       " ['fathi continued fathi man knew value alahly returned fathi masha haha alahly stop player return anyone young principle ahly daldool fathi'],\n",
       " ['plenty imagination give periodic servant comfort u ittihadalfath'],\n",
       " ['every time zizou say hit ball taizo haha'],\n",
       " ['anyone hold player accountable current level remains wrong current atmosphere suitable player even ronaldo messi look zakaria alwardi alraja league look obama look mahmoud alaa player came atmosphere zamalek returned shine forbidden judge player circumstance'],\n",
       " ['alhilal fan waiting celebrate star achievement club world cup fan nasr waiting score wahda league say siiiiiiiii difference ambition club world cup final al hilal world cup final'],\n",
       " ['alfath marah gualiano stationed ahmed musa alnasr fan put loss head coach every 4 month problem u two year betty masha sami kholoudshi ayman yahya alkhaibri bengir garissa change several 20 coach'],\n",
       " ['verdict funny shame man'],\n",
       " ['car currency stolen licensed suspected guard ten search post increased berlingo car appeared'],\n",
       " ['referee zarf abha two ball according two ball right poverty'],\n",
       " ['ferrera zamalek official want walk bring penalty clause mean im sitting heart write money dont think ill walk away go complain im empty there truth'],\n",
       " ['last week know coach done homework haha'],\n",
       " ['someone hide football spain 70'],\n",
       " ['god shouted protesting verdict belly'],\n",
       " ['referee gave albulayhi face throughout match felt deserve'],\n",
       " ['funny one put hashtag disaster movement normal whoever say child know make sure son see wrestler john cena leveling write craving mass demand'],\n",
       " ['zamalek fan country want score second zamalek fan good player men'],\n",
       " ['morteza say prefer get sponsor alahly find deal fool know sponsor come successful organized prominent name achieves goal aim profit mean arabic alahly winning entity everyone successful waste money failed stupid entity time'],\n",
       " ['alahly fan zamalek team god erased sadness inside u thank'],\n",
       " ['servant today kangari came match charity shield match today unemployment football im coming'],\n",
       " ['switzerland made task easy portugal play organizational cohesion strange space strangest thing portuguese player find freedom receive pas move ball late swiss activity pressure result distracted focus goal super individual deal dont need ronaldo switzerland'],\n",
       " ['gave right judge ability qualification halima follow alan klein story porridge'],\n",
       " ['referee el clasico league hernandez one score goal bates know referee haha lahoz madrid win mistake disaster'],\n",
       " ['asked president nasr desire player said hilal said player said behind abu hanifa stretch leg'],\n",
       " ['egypt manipulate alahly war haha'],\n",
       " ['want help alwefaq neighborhood player played defeated u gryo zuwara defeated u feeling psychologically far great player haha dragon funny haha bought ben souda haha picture haha white person'],\n",
       " ['jammer supposed expelled referee decided hasnt given yellow yet'],\n",
       " ['nation 2022 god telling council nation consultation government sideburn distract people one seeking help merchant douri club'],\n",
       " ['haha strange although zamalek club refused ahmed daouda razzaq play nada alzamalek midget credibility'],\n",
       " ['death envious anger god willing usual alahly come emptyhanded without tournament alittihad take asian cup king cup fiery federal poor season family 3rd year row without championship history haha'],\n",
       " ['time beating iron fist talking alahly fan'],\n",
       " ['see fourth post like doesnt want admit ahlykhaloud'],\n",
       " ['alittihad scored may god help u take league haha'],\n",
       " ['magdy abdelghany alahly investigate accuracy contracting savio nervous person hit along possible someone alahly player technical staff got nervous could work referee'],\n",
       " ['goal life turned offside haha'],\n",
       " ['important thing intended break away get rid even without goal said organizing haha'],\n",
       " ['english premier league direct expulsion ederson wrong exit reckless intervention place judgment direct expulsion judgment judgment'],\n",
       " ['salvation atto alnasr aldouri rihuna every match move'],\n",
       " ['ibrahim nour eldin going mouse like last alahly match haha'],\n",
       " ['3 gowan offside clear collusion referee sofliah work mr abdel hafeez im joking alahly fan true alahly'],\n",
       " ['throughout year alnasr shouting accusing local government favoring alhilal alnasr love local government lying slandering elder order keep suspicion away arbitral charade medium lying may god mercy forgive author saying justice'],\n",
       " ['chasing time complete last deal either player deal'],\n",
       " ['dento football team dento kosher medicine'],\n",
       " ['first league kingdom world document day real world cup five thats dont need documentation'],\n",
       " ['alahly fan bravo keep going haha'],\n",
       " ['haha senegal defense hahahahaha'],\n",
       " ['someone named harith kabar became attack haha'],\n",
       " ['tariq yahya alzamalek tv say something wrong band counselor mortada mansour must intervene haha oh man afraid tell truth dont laugh audience know mistake club brings poverty advisor'],\n",
       " ['liberation hodeidah infiltrated guy hahahaha tuareg wont able close eye glory yemen'],\n",
       " ['arnold kick ball leg he really afraid'],\n",
       " ['movie zamalek abdullah alsaeed showing continuously 3 year like mexican series end'],\n",
       " ['referee gave red'],\n",
       " ['alnasrawi ruled referee reason alittihads victory level great team alittihad flogs season year circumstance without alittihad team flogged champion exceptional league'],\n",
       " ['riyadh crammed alahly'],\n",
       " ['may god protect national team noah haha alahlyriyadh'],\n",
       " ['hope support hashtag show power alahly fan'],\n",
       " ['clip canceling vr bilbao goal say congratulation league barcelona barcelona club'],\n",
       " ['1111 revolution factor egyptian league two without fan long live'],\n",
       " ['important thing broadcaster god dont know name almahwar channel tell salah football association bring back play almokawloon haha'],\n",
       " ['ill turn get rid fun english premier league wait rot saudi league white fly jew haha yangiri haha god bless football fan'],\n",
       " ['reminder alahlys relegation hand alshabab yellow league'],\n",
       " ['alone remembered super hattrick hamdallah alnasr alwahda match mecca exceptional league'],\n",
       " ['minute 70 alahly fan respectable rigid band minute 72 alahly fan dirty squad sold match'],\n",
       " ['agreement ronaldo play agreement local referee'],\n",
       " ['congratulation barca league without loss going nine player 12 player lol'],\n",
       " ['club request 30 million guard reasonable accept administration haha speak reason dear ransomed let look forward thank management trust runnerup let take cup league championship'],\n",
       " ['information many know eliminated champion league european league conference league barcelona play ramadan tournament'],\n",
       " ['gomezs goal true goal praise god infiltrate happen victory agreement'],\n",
       " ['okay sorry rival go alone football love u'],\n",
       " ['satisfied entering football'],\n",
       " ['dear hellene think today ruling see situation previous light year today perhaps future yell victory neighbor learn albatin'],\n",
       " ['abha referee leaning field listens soon touch hand abha abha'],\n",
       " ['almasry negotiates almahalla coach match alahly feel club mouse trainer every coach succeeds another club come take almasry offered 50 thousand dollar take 10 damage shop mean five time'],\n",
       " ['haha ahlycouncildaladilhanafi'],\n",
       " ['haha joke english spanish italian league free beout saudi league 550 riyal annual subscription receiver 400 riyal hd app'],\n",
       " ['haha trika told artist friend glimpse add goal star forgot hahaha'],\n",
       " ['hahahahhahahahahaha point defeating country team end tell championship team alahly supposed play alone provide dialogue'],\n",
       " ['white sitting waiting take ball'],\n",
       " ['one stadium would run play dead would go home tired would say dont money dont football answer say love dad'],\n",
       " ['alahly king fan fan king 90th minute favorite time kill competitor new idea new team welcome king fan would like one u write done add 90th malwauk'],\n",
       " ['haha play people referee zabta almashal head board haha douriwithwalid'],\n",
       " ['ferrera mustache'],\n",
       " ['whoever benefited management rajeh alam made competition found someone else climbed neglecting easiest ascent lost needed victory bishah descending generation alnahda instruction league mafia gave order jabalin admitted accelerator worked alsaif forgot challenge team disagreement promised year haha two mountain'],\n",
       " ['alkoura see potential capability impulsive enthusiastic arrogant want conflict got calf yes'],\n",
       " ['someone contagious real madrid threw peace entered john haha'],\n",
       " ['see jonah league like exercise used universal crescent alone'],\n",
       " ['infiltration mean'],\n",
       " ['arabia yooh excited withdrawn saudi league haha havent heard news since end season football become game hand alsheikh family everything open enthusiasm real competition gone frankly course love crescent remains'],\n",
       " ['tell lost sake fan sat separate place tiran player 12 told scissors haha sake god go responsibility responsible person'],\n",
       " ['victory near haha alnasrahly'],\n",
       " ['match araujo missed found vinicius knowing gave ball cut yesterday got joule put pocket'],\n",
       " ['abu coffee science rajajil chlon chat football hahahaha'],\n",
       " ['zero season auspex child group almatablatia council club channel fall five far lucille cup egyptian super egypt cup fifth place league sixth road africa piggy bank third consecutive season still'],\n",
       " ['university law ahly failed two period'],\n",
       " ['2017 alahly defeat emlak tasima bakary jasama cairo wydad least plenty every match immoral injustice 2018 alahly defeated esperance 31 video referee bakary jasama cairo defeated tunisia emlak tasima video referee haha rule go play final tunisia wydad'],\n",
       " ['goal alqadisiyah player net'],\n",
       " ['question street car everywhere find people play football haha sport football open many official stadium train school reasonable one know play funny thing dear people face joke woman sentence kitchen'],\n",
       " ['get upset wrong term'],\n",
       " ['saleh gomaa always tell abdullah gomaa want go alahly know difference club keep blind saleh poor child'],\n",
       " ['news olympic committee move implement ruling issued nullify gamal abdel hamids membership zamalek board directorswithin hour day'],\n",
       " ['one friend designer breakfast today restaurant zamalek haha joking lunch rest fry morning'],\n",
       " ['loss goalkeeper didnt stop wanted represent national team ittihadalfayhaa'],\n",
       " ['nasralhazmaldouri haha'],\n",
       " ['haha god mercy'],\n",
       " ['spanish league champion eliminated first round group champion'],\n",
       " ['true forgot rest offside understood one except referee mouse screen'],\n",
       " ['want khamenei die want execute wish ask wish executing sentence want bet wish say ask iraqi najafi give push batch hope mean describe'],\n",
       " ['taboo people tunisia laugh freezing maha bint adel aldouri exaggerating flattery'],\n",
       " ['big difference ambition audience imagine haci playing 25 match u alahly fell walked away haha fired demand'],\n",
       " ['20 year drifting asia inside stadium could achieve effort sweat brow know path method surprised answered 20 time become like league giving chance leave league doesnt deserve'],\n",
       " ['every nasrawi dont happy end relief raise like league went away hilalalwahda'],\n",
       " ['pressure putting local ruler moment great come brag say ruler bad entered intention flogged even though club rule benefit every round foreign referee desire'],\n",
       " ['notice alahly win play nice football except club coached former player alahly alnahhas maher front rest team literally suffers'],\n",
       " ['since start season attend happened let give expectation sure wait course spanish league nothing new die laughing real zidane without champion league god willing achieved juventus city liver repeat scenario year united haha god take station'],\n",
       " ['faisaly haha planet'],\n",
       " ['friend madrid today sobho zarifin haha mi hania friend football mean entertainment create atmosphere u'],\n",
       " ['ibrahim noureddine counted ali head touch smouha player wrong ruler servant zamalek'],\n",
       " ['haha give three point maybe take league alwaslawiya film every time problem league'],\n",
       " ['coach lost'],\n",
       " ['referee zamalek match strange honestly'],\n",
       " ['first time missed anesthesia operation sister tell cursing anesthesia doctor banging hard swearing insulting nurse belittle 64 one answered'],\n",
       " ['instruction issued alzaiqeen group crackle nasrawis cup insult say afraid crackle fan alnasr make u nervous affect team haha'],\n",
       " ['football love real real'],\n",
       " ['quick information zamalek sister say zamalek take league next year well'],\n",
       " ['first time see band flying better alahly'],\n",
       " ['league walid haha equal level defeat told victory god willing take league'],\n",
       " ['cameroonian cotton signed contract absamad bought conch match zamalek haha'],\n",
       " ['know worst thing negrira case far thought everyone gave bear would yell make feel judge imagine believer telling long court arrives nothing left determine punishment look wisdom brother girl course watch football also become legal analyst'],\n",
       " ['alahly protected protected behind alahly state people audience ahly sale'],\n",
       " ['give nasr aldouri salvation let rest club compete second championship suspicion nasrabha hated u football'],\n",
       " ['alahly upset u zamalek make u happy may god make u team like zamalek club god dont know without would lived life'],\n",
       " ['agreement coach come striker defeated haha exposed'],\n",
       " ['algae cone alfath haha alahlyalfath'],\n",
       " ['ahlyahad believe best league year big team hahaha'],\n",
       " ['one alahly god one make country happy'],\n",
       " ['zamalek play easy way fun'],\n",
       " ['takis zamalek really catch shut twitter nice'],\n",
       " ['say long summit play egyptian referee alahly win haha joke today'],\n",
       " ['zamalek country gloating alahly lord cover fault'],\n",
       " ['alburaikan confident striker haha'],\n",
       " ['haha referee wanted ask match 85th minute'],\n",
       " ['egypt world know zamalek sum africa enough cry'],\n",
       " ['hope alahly submits request submit date egyptian super match 27th instead 28th ahly sale'],\n",
       " ['said saying five one fifth league'],\n",
       " ['blame public referee cover poor level shane strong eye unfortunately referee shaky victory'],\n",
       " ['alittihad reached semifinal'],\n",
       " ['alahly medicine said statement mahmoud ashour must punished otherwise withdraw cup super cup well ashour tomorrow referee mouse normal pyramid match carry word preacher remain hanafi'],\n",
       " ['haha real point defense im supposed'],\n",
       " ['sport presenter walid azzaro think criticism leveled walid normal everyone burden right speak haha working alahly better place'],\n",
       " ['happening ferrera also fall hazem imam administrative genius god find difficult zamalek surprised percentage zamalek audience understands finest audience beep beep zamalek laugh see comment remind member parliament setback 67 used dance haha'],\n",
       " ['saif mohammed former al player al league champion last season said sharjah al jazeera al wahda barcelona last thing al paralysis'],\n",
       " ['said lost lost spirit passion poetry'],\n",
       " ['doctor say second periodic test distance ok may god reward good long spoil u give full grade haha'],\n",
       " ['dont make like football everything walking im coming see stay like alqawwn im happy destiny reach rest celebrates audience assistant team'],\n",
       " ['subconscious player trying ruin match haha love'],\n",
       " ['verdict'],\n",
       " ['best thing alahlys administration preserve failure god willing develop failure well praise god dont watch follow afar management failed deal stadium also started sponsoring alsalam stadium important reason loss league said supply started create planning committee'],\n",
       " ['croatia verdict came came longer'],\n",
       " ['god willing third expulsion honor haha alhilalalahlyegyptian'],\n",
       " ['sundown john alahly livelihood god'],\n",
       " ['may god return alahly great grandfather whose match hamas whoever see union closed play rebound knew destiny family conquest'],\n",
       " ['nasralahlyalklasico alnasr playing relieved losing agreement hahahaha'],\n",
       " ['issue abu jabal proved stressful didnt expect compressed spelling victory player thread feel stroke beloved nasrawis calm please let loose know two blow head hurt'],\n",
       " ['haha bahloul say snake easier zamalek corrupt alahly medium oh god fasting'],\n",
       " ['first 45 minute zamalek match suitable thursday night'],\n",
       " ['saudi arabia extreme opinion real statement withdraw ambassador boycott country declared reminded u team neighboring village played u put goal goal would get upset call iron cross post right goal would leave village dont want return unless cancel target haha'],\n",
       " ['referee origin mouse origin stress origin injury origin number zamalek fan number allowed end one truth league dead obstacle league dead obstacle'],\n",
       " ['sold pogba john haha'],\n",
       " ['shalabi happy smile referee abdul rahman al jassim'],\n",
       " ['roberto valley insistence renewing contract friendship knew put account come take easy administration done everything xavis turn either league good career champion dismissal end season let see complimenting friend far lead team'],\n",
       " ['message alahly pharco trap'],\n",
       " ['caught plenty haha 22 alahly aljazeera'],\n",
       " ['put alittihad match scored goal team called safaa haha'],\n",
       " ['tash matash ended came back alittihad achieve league'],\n",
       " ['clear expulsion goalkeeper'],\n",
       " ['hope zamalek fan take thing smoothly zero smoothness haha'],\n",
       " ['everyone remembers story brazilian player zinho 1996 signed arab club someone famous striker arrived say ashamed iota shame talk club end agreement real player fake'],\n",
       " ['let test memory bit tell many goal scored egyptian premier league season far share answer u club association'],\n",
       " ['ruling whistle haha solve'],\n",
       " ['local referee still first choice even though match broadcasted international channel claim contract withetc tendency bring foreign ruler line development situation'],\n",
       " ['let make ultimate goal haha'],\n",
       " ['calculate like zamalek ride doesnt go'],\n",
       " ['faraj thank fawad anwar youth fan attend tomorrow haha'],\n",
       " ['people today calculate many goal score brazilian flamengo people play alwahda haha god difference'],\n",
       " ['madrid referee'],\n",
       " ['messi hater got something talk look statistic search paris thor see messi finished football 20 year old pressing wiping ground dont understand thor'],\n",
       " ['think aswan like bye bye production pulling trick winning 3 match four one zamalek match haha'],\n",
       " ['hafeez al darraji referee whistleblowing fun referee whistleblowing fun haha god help vegetable can2019'],\n",
       " ['according alshawali offside haha barcelonarealmadrid'],\n",
       " ['heard south african beat alahly five zero quarter right haha'],\n",
       " ['hilal alfath ruling detailed hilal detail'],\n",
       " ['alkawalini learning speak god say today 1127 day remain special alahly great fan today two year ago alahly ninth african championship swear god today victory like friday super cup'],\n",
       " ['red card mehrdad course referee count'],\n",
       " ['2020 let alittihad win alahly haha'],\n",
       " ['dutch bullying referee witness nothing referee one loved team'],\n",
       " ['foreign referee holding back normal victory least one feel playing front victory victory judgment alnasrabha'],\n",
       " ['well winch going absent le four month one disrespectful journalist attacked zamalek administration sorry administration attack mortada saab mr assist'],\n",
       " ['important thing ball hit player stomach changed direction leg came goal'],\n",
       " ['present stand every time saw remembered saleh khalifa alahlyriyadh'],\n",
       " ['shern bern crunch amboalahly take super cupalzamalekawiyyah haha let walk slide'],\n",
       " ['alahly zamalek two ridiculous team swear'],\n",
       " ['song alahly alittihad said'],\n",
       " ['football association demand club pay 150 million pound referee course know everyone pay except one club minister pay guess who club'],\n",
       " ['dont know jones reason goal haha ball difficult situation coverage'],\n",
       " ['referee almasry pyramid match generous warning pyramid surprised frankly surprise went knew pyramid match coming zamalek'],\n",
       " ['executioner alone enough likely nominated presidency club soon indeed evil scourge make majid abdullah laugh ability stardom reach recklessness superiority cry player reached become controller entire club'],\n",
       " ['allah bless muhammad prayer najib striker haha'],\n",
       " ['god great course threw riyadh advanced'],\n",
       " ['league gunner knocker'],\n",
       " ['afraid pyramid dont want play son agree play pyramid league cup refuse keep game hand football association alahly alahly lead led understand uncle let blood dignity khatib hit alahlawy support'],\n",
       " ['dont want pull alkawkabi bring panic ahlyalhazm'],\n",
       " ['hahahaha wala hoooo ooooh electric waiting hater get zamalek channel one employed hari alhajs oh'],\n",
       " ['positive defense dealt fixed ball match clean sheet second consecutive match raheem good right back dont striker alkaabi haha negative alsaeedi alkarti mutraji awk match settled negative hope valid'],\n",
       " ['haha tomorrow referee bring quarter u rule match alhilal 0'],\n",
       " ['swear god knew two year ago goalkeeper change place second half course know attended day second half came denounced goalkeeper said haha seems lost turned waste'],\n",
       " ['whoever get goal summit match star life mean get goal alahly count hundred others correct'],\n",
       " ['may god help people gone top league top scorer sixth ball still front haha'],\n",
       " ['football follower asia arab world past 15 year say striker remember audience sport program talk lot everywhere yasser sniper alkaser creative fun region play audience gourmet like fun critic nasrawi haha voiceforcaptainyasserqahtani'],\n",
       " ['crushed russian invasion fatih secured escape route reply group nito army incentive haha word toured russian forced accord sign joint defense fair'],\n",
       " ['riyadh flogged flag day tour'],\n",
       " ['yes say league victory look like one say doesnt know coach management player god decorates'],\n",
       " ['league fly'],\n",
       " ['haha board match win championship team win alfateh tonight chance competing league remain standing culture young people'],\n",
       " ['one zamalek hate alahly win championship tell spoiler club century club tell aldawla club 3 branch way opening fourth light happens together end absent always pin failure alahly best'],\n",
       " ['preferred united play spanish league'],\n",
       " ['dawn alahlys corruption became shouting principle justice find criticizing mouse attacking club refuse sell player attacking club support pretext fair financial play justifies loss accusing element game complicity belongs god system spoiled reached miserable stage'],\n",
       " ['haci last quarter hour without striker haha little coach'],\n",
       " ['union professional league fact mrabet petros succeed league unless play alhilal alnasr murabet play hand manhood second great actor characteristic crescent player course hamdallah happened embarrassment haha ruler mouse glory god see anything'],\n",
       " ['salem may god take football knowledge'],\n",
       " ['hilal alfayhaa alhilal win wait usual surprise referee'],\n",
       " ['faisaly alnasr aldouri encourage villain haha way supposed strongest team strongest generation victory'],\n",
       " ['end season dont want zamalek win alahly alassiouty land dont know tell im sorry haha'],\n",
       " ['coach let main player game money brought ghoul okay scandalous world cup first world cup qatar 2022'],\n",
       " ['oh love beloved employee nasrawi tell bring thug striker shrewd playmaker believe club avoid league'],\n",
       " ['chance take second union youth poverty give league dont see path'],\n",
       " ['ruling egyptian'],\n",
       " ['totally infiltrated'],\n",
       " ['want describe intention saudi federation referee alhuwaishel owner scandal yad dalhoum may union manage thread'],\n",
       " ['league successfully completed'],\n",
       " ['zamalek fan defeat chanting blood league rum go two goal said blood soul africa go'],\n",
       " ['correspondent medium person would expect best profession limousine driver would find hard morning noon afternoon dinner would hard would medium person crescent get competence'],\n",
       " ['chose alnafie team landed put ministry chose moaz prevented team registering put ministry solution write club banish idea conspiracy nesting brain ahlylikealittihad'],\n",
       " ['grew topic normal mean league champion cup performed third league super gift problem'],\n",
       " ['imagine joy winning derby ranking ninth league juve robbery champion league'],\n",
       " ['europe old continent complaining inflation refugee haha ok want sell u broken wornout emotion dont send medical team remove as one person seat power bashar alassad return million country game dirty complex dirty farreaching dimension goal unfortunately live dirty malicious world'],\n",
       " ['offside haha'],\n",
       " ['corner slave madou teboune goal abu tibns understanding haha'],\n",
       " ['convict sentenced fleeing execution sentence holding alhodeidah today channel'],\n",
       " ['defeat squawking haha get alhilalshababalahlyleagueasia'],\n",
       " ['independence alhilal frankly leader group fourth quarter istqlol alahly emirate two frankly leader'],\n",
       " ['colombia qualified would played 4 player haha loss insignificant referee'],\n",
       " ['real madrid prepare well alahly club'],\n",
       " ['christian compressed shouting true alhilal pressed haha seeing match alahly oh companion'],\n",
       " ['first time scored zero referee haha'],\n",
       " ['neither power strength except god important player alahly become reserve haha guy disgraced club'],\n",
       " ['night club become trend haha last hope white championship like one wore morning night'],\n",
       " ['alittihad want league level depends rebound alfayhaa'],\n",
       " ['want right best team season alittihad best karelian coach best grohe goalkeeper best saud back best defender haha mean best force'],\n",
       " ['unfortunately real madrid wearing white alahly always high luck every white'],\n",
       " ['see goal tottenham reminds used play soccer girl haha'],\n",
       " ['today presenter backup programme league walid'],\n",
       " ['dortmund missed league schalke 2007 many time come back schalke ruin league afterwards'],\n",
       " ['alahly suffering'],\n",
       " ['long live uncle real madrid la liga barcelona'],\n",
       " ['altawqi messenger hope fingerprint league alhilal encourage thank abba truk deserves haha alitihad shalteh stroke labih abu turki aljaddad'],\n",
       " ['look im afraid go alahly overthrown'],\n",
       " ['mido zamalek distributes gift occasion ramadan need 3 point stuck fighting relegation'],\n",
       " ['got console alahly one refused sponsor qatar airway'],\n",
       " ['wish alahly would see foreign striker instead savio football association would show u solution restriction see zamalek like'],\n",
       " ['among principle salafi theory governance 1 ruler obedient 2 opposition ruler rebellion must ended blood 3but rebel succeeds overthrowing ruler becomes legitimate ruler allegiance must given immediately conclusion salafist rule theory encourages successful coup haha'],\n",
       " ['cotton first half interesting first time see manly performance front weak team confirms different season passed presume haha'],\n",
       " ['oh zamalek fond'],\n",
       " ['upcoming reading confirm news negotiation confirm medium coach contract release clause great upcoming result misinterpreted god forbid coach desire leave without paying penalty clause cover lack tool provide touch'],\n",
       " ['one thought monday boring day tomorrow difference return english premier league return fantasy big night awaits'],\n",
       " ['huge difference zamalek alahly fan swear god alahly defeated victory zamalek defeated normal dont find joy ease like'],\n",
       " ['offside haha'],\n",
       " ['possible nasrawi lunch dinner haha'],\n",
       " ['match 61 alahly tv want enjoy eye fun'],\n",
       " ['oh algae general year medium took rich medium material saudi'],\n",
       " ['opinion provocative especially intimidation whatsapp haha general god heals injured state must take strongest step deter cowardly terrorist act defamation double penalty biggest deterrent anyone try sabotage riyadh season'],\n",
       " ['imagine messi playing barcelona defense goalkeeper busques haha least 9'],\n",
       " ['haha penalty kick already first ramadan brother referee feel yellow even fall'],\n",
       " ['officially alahly wear red shirt white short zamalek wear full blue uniform white uniform brush lot wipe floor lot'],\n",
       " ['crescentbatoolsnawiwithfives flag abu kharqa came umm alrukab haha'],\n",
       " ['haha chose stay safe afraid inform opportunity available goal group originally help'],\n",
       " ['referee satisfied giving yellow'],\n",
       " ['alahly sc found heart took place walked vein vein love specifically world love alahly'],\n",
       " ['mortada mansour zamalek channel fattouh abdullah jumaathey weeding corona offered sale tomorrowand fattouh said yesterday go alahly'],\n",
       " ['alahly lucky today haha'],\n",
       " ['haha giant share tag'],\n",
       " ['laugh lot see someone saying wish could learn sun down experience sorry africa orphan tournament expense zamalek 2016 easy get championship let break prophet'],\n",
       " ['first time fan say coach nothing defeat'],\n",
       " ['needed fare awads comment john casey'],\n",
       " ['alfath expect ahlawis encourage tomorrow crescent union haha'],\n",
       " ['tried something new joined soccer league broke friend leg instead real ball color became red haha'],\n",
       " ['alshabab 2012 league alfateh 2013 league victory 2014 2015 league alahly 2016 league tournament sense alhilal 2017 league championship held alnasr returned achieved 2019 league championship absent'],\n",
       " ['yiyyin league strange caught leg fled wrestler expelled'],\n",
       " ['must starve alahly player order shine'],\n",
       " ['league come back play hazem hazem haha im going play bus still lost bassiouni bassiouni wipe zamalek'],\n",
       " ['hazem emam today sport zamalek micho come back laura haha come adam hahahahahaha'],\n",
       " ['captain sergio ramos last 7 match national team scored 6 goal five victory'],\n",
       " ['referee enough injustice settle became defender'],\n",
       " ['departure mortada mansour child thief child outside zamalek information hashtags honorable people zamalek fan exhale come u say committee preacher'],\n",
       " ['died watching saudi league haha'],\n",
       " ['benzema entered joule football still haha'],\n",
       " ['annoyed u repeating despite shortage beat u order win need fair judgment many example mean whether deficiency complete one victory auctioneer linked judgment god success'],\n",
       " ['league match bottom team large public presence work tifo raise value league indeed league fan thank god union playing league'],\n",
       " ['god willing nice start first goal mohamed sharif interior'],\n",
       " ['people two team empty defense normal find goal enjoyment haha dont overdo prophet defense'],\n",
       " ['haha deaf alahly btaako'],\n",
       " ['support zamalek without getting tired haha supportzamalekkingafrica'],\n",
       " ['know zamalek club older kingdom saudi arabia haha said cooperation said'],\n",
       " ['know current la liga top scorer lewandowski came current english premier league scorer haaland come came weakest league europe peasant league'],\n",
       " ['zamalek lost cameroonian enppi'],\n",
       " ['nothing remembered alqudsawiyyah council changed said would take league court'],\n",
       " ['defense season excellent without araujo safety exposed lapse every match araujo miss see pass behind back defender feel defender tell go record normal want stop unlike araujo come back remove ball player cover many defensive lapse including condes shot valencia others'],\n",
       " ['hilal alahly haitham yanaaqz le jerboa haha'],\n",
       " ['feel soul responsibility go store shop family brother went alahlys nest'],\n",
       " ['alnasrs heart nostalgic alahly gloat take best player nostalgic'],\n",
       " ['second round zamalek'],\n",
       " ['hilal alahly noah doesnt know pas doesnt see pass wrong haha'],\n",
       " ['bein barcelona away home knockout stage champion league 41 match 12 win 12 draw 17 loss scored 43 goal 60 goal conceded hahahaha'],\n",
       " ['ha ha ha ha groove'],\n",
       " ['bravo zamalek club wish club positive result continue'],\n",
       " ['people concerned issue sponsorship knew etisalat sponsor alahly club natural announcement would made soon possible especially since super match played uae headquarters etisalat late would great loss'],\n",
       " ['bonus tamper incite termination contract player fail conviction proven punishment announced soon news come even decision correct sound proven punish punish perpetrator punishment suspension punishment'],\n",
       " ['two month passed since final court ruling imprison alzafr imprisoned place residence inferred importantly supposed turn least one day overturn ruling situation cassation accepted without executing ruling least one day permissible exclude person without 105 million help u'],\n",
       " ['union want match reflects image saudi league shameful image victim albatin club hope importantly director focus inside mouse room new information scene'],\n",
       " ['percy tau popular sundowner wish sun down team would make account least play percy tau alahly interest national team play'],\n",
       " ['riyadh hahahahahahahahahahahahahahahahahahahahahahahahahahahahahahahahahahahahahahahahahahahahahahahahahahahahahahahahahahahahahahahahahahaha'],\n",
       " ['moroccan court court judge ruled establish paternity child based dna analysis court appeal ruled judgment invalid islamic law recognize analysis haha blessing jurisprudence prolonging pregnancy four year elephant'],\n",
       " ['write tweet football federation departure national team'],\n",
       " ['name official alahly stadium hazza bin zayed congratulation u'],\n",
       " ['russia 38yearold player older coach haha god steroid gave prestige front u win 5 great saudi green'],\n",
       " ['postponement normal cosmic conspiracy huh life return egyptian football nation cup haha security doesnt know match ten fan safety security oh forbidden let gather platform muhammad ramadan dance live egypt normally ah derby time league'],\n",
       " ['mouse kalah cat referee laqa wallo haha'],\n",
       " ['god response attack new alahly deal follow favorite'],\n",
       " ['referee allied doesnt give u anything wrong real madrid doesnt topple anyone without bag'],\n",
       " ['simplest thing explain alahly club principle took electricity behind meter'],\n",
       " ['plenty clear frank sneaking barry whoever show footage return clearly referee referee supposed focus shot aljabalain defender played hit player right moment hit alukhdood player attacker barry time offside director want'],\n",
       " ['tell something dont afraid laughter zamalek'],\n",
       " ['expect paris fan zeroed negligent account football newspaper would publish news course cristiano went outside europe would follow every big small thing would fabricate clip view'],\n",
       " ['fahd apologized alittihad fan basis alittihad fan second solution otherwise say return thank god player returned camp otherwise fate relegation without empty goat'],\n",
       " ['said say would achieve league historically sat 70 year achieve first league point hahahahaha win 59 year left achieve second league point hahahahahahahaha beware sloped road haha alittihadalshabab'],\n",
       " ['decision alazraq complete league reserve mean reserve told fame benefit'],\n",
       " ['khaled alghandour since painful loss team zamalek front alqarn club alahly clean triple entered bout depression comment tweet appear sedition shame channel healing'],\n",
       " ['curse befell meringue bavarian premier league team'],\n",
       " ['question expectation alahly conclude striker deal brazilian citizenship steroid inevitable summit'],\n",
       " ['ahly symbol khaled back normal haha'],\n",
       " ['yesterday took volleyball championship front aldalal club complained club punishment came alahly'],\n",
       " ['goal talisca like running riyadh boulevard haha'],\n",
       " ['alahly channel making greatness god'],\n",
       " ['oh smart one look shooting side stadium wrong give referee one shot doesnt get close far away confirm verdict hit penalty mouse get mad exciting call auctioneer club haha auctioneer club failed externally fourwheel drive internally'],\n",
       " ['cotton ahlawy divorced wife want go home pharmacy hahaha'],\n",
       " ['lukaku object offside haha mean offside record maniuk'],\n",
       " ['rafik capo took zamalek leg'],\n",
       " ['watch last 4 goal wink well pyramid'],\n",
       " ['haha dead attack would third target'],\n",
       " ['haha stupid coach flop turn fulcrum player play defense player'],\n",
       " ['long zamalek sport turn literary haha'],\n",
       " ['cant stop player break'],\n",
       " ['brother mouse quickly come crescent state union mairuh rule union go lightning speed'],\n",
       " ['zamalek surrounded'],\n",
       " ['ahh'],\n",
       " ['zamalek haha laughing stock century'],\n",
       " ['hilalaltifaq miss referee heart abha 12 player expelled abha goal canceled daughter abha win corrupt'],\n",
       " ['haha thank god slipped'],\n",
       " ['stop holding haha want league etihad level right'],\n",
       " ['first time know league expensive zamalek really took possession hand gave'],\n",
       " ['real madrid played awesome imagined nothing haha brother even score spread pass dribbling hero win alahly take cup goal mistake alahly defender hanna'],\n",
       " ['real madrid mockery said defense god cover good barcelona'],\n",
       " ['explain attempt obstruct victory youth sake eye alhilal alittihad raise flag surrender alhilal last season becomes new football scandal saudi league'],\n",
       " ['coach turned verdict came albulayhi hilal alfath'],\n",
       " ['hahaha plenty city referee refuse give bernando yellow haha'],\n",
       " ['haha new aboriginal player praise given player think hole needle enters eye dont know saudi player blink close eye ball'],\n",
       " ['told today zaha defense algerian national team taa alqoufrit haha'],\n",
       " ['script distributed alahlya stated audience zamalek 3 thousand fair thus fan alahly rest club didnt anything talk arbitration told talking public attendance'],\n",
       " ['god view zamalek fan traveling aswan make feel going attend championship final match match league 3 point zamalek fan make event zamalek fan'],\n",
       " ['hahahahahahahahaha zamalekscandalofthecentury'],\n",
       " ['information twitter employee hope king react responding tweet celebrity medium people insulting alahly enter tweet comment miss alahly since many comment many follower twitter quickly raise mention trend ahly fan school phil oh ahlawyah'],\n",
       " ['deal sister daughter great kindness containment love hate reverse goal hahahaha'],\n",
       " ['said say one flogs stupid sport cheerleader one expose idea flog argument expose shed light know much better breed ant discus madrid jeanjacques rousseau haha'],\n",
       " ['finally alahly said muhannad really great striker haha unfortunately reserve prisoner deprived stardom'],\n",
       " ['league flew 10 point difference focus best hero'],\n",
       " ['swear god burn blood wood player one try justify tell focus league haha pressure match haha'],\n",
       " ['alahly win ruler haha'],\n",
       " ['fuse suitable ball alone haha'],\n",
       " ['amir mortada saying competitor league alassiouty club khaled alghatdour speaking'],\n",
       " ['first one went judged second one didnt smell didnt smell everything go back origin return originif werent one handed sentence wouldnt raised fear hahahaha'],\n",
       " ['haha egyptian ambassador tunisia advising egyptian dont wear alahlys tshirt'],\n",
       " ['haha point alahly stop alhilal make laugh alahly jinxed team permanently afflicted bringing current'],\n",
       " ['alahly channel today tell kept address alkhatib decides huge penalty player technical staff contracting committee moved make exceptional transfer season despite captain bebos fatigue attend training fan must calm opportunity u player pledged sundown would beat al hilal'],\n",
       " ['player shoot ball like card'],\n",
       " ['god referee confused u almuhanna say penalty kick league referee walid say penalty kick believe haha'],\n",
       " ['roshan league champion must saudi club wish life see tweet victory account achieve league'],\n",
       " ['dont miss offer medical limited time 3 laser session 250 riyal'],\n",
       " ['fitness plane tank anything else running back riyadh run alahlyriyadh'],\n",
       " ['zamalek lost permissible tomorrow haha im joking like dont know solve'],\n",
       " ['say alhilal reached asian final twice separated east west season played quarterfinal ulsan luck asian league twice hahahaha'],\n",
       " ['shut put zamalek'],\n",
       " ['offside haha'],\n",
       " ['president watched two match goalkeeper tournament signed long contract worth million dollar ignored goalkeeper goalkeeper filed case gave money clown thank president handling caseand say great work even juha ashamed like'],\n",
       " ['alhilal achieves world cup god willing achieve league return club must settle alhilal compulsory honorary corridor road'],\n",
       " ['fifas decision regarding alahly wish would sit additional season yellow league'],\n",
       " ['alittihad fan swear god come dont finish league let see shouting'],\n",
       " ['commentator holding muhannad asiri haha alahlyqaisumah'],\n",
       " ['ahly riyadh algae'],\n",
       " ['say mortada zamalek basis first withdrawal mean haha'],\n",
       " ['distinguished thing alahly proud fact coach walk away see talking utmost respect politeness club soaresh example musimani many others exact opposite see club'],\n",
       " ['seems dont know calculated time system time say zero haha day laziness wasting time gone yesterday iran arrived started losing 14'],\n",
       " ['haha hilalabhadouri'],\n",
       " ['overtime victory 12 minute alahly 10 minute first want achieve league second want climb auctioneer know auctioneer riyadh'],\n",
       " ['hilalflamingo saudi league become superior brazilian league fourth saudi league separated far two penalty brazilian team according data leader saudi league participated alnasr club guarantee ronaldo win world cup great result without trouble'],\n",
       " ['strange club made happy ahly'],\n",
       " ['alsadd fan dont worry anyone want ruin joy referee tell reason victory alarabi tell reason dont bare head'],\n",
       " ['alahly alfayha suggested alfayhaa decide name player fasting woe fasting alfayed breaking fast hahahahaha'],\n",
       " ['hand result junior female team 2008 junior team win bacchus 2939 alahly youth team 2006 alahly future 46 result belongs men beni suef defeated manga 2122'],\n",
       " ['sami alqurashi wicked journalist mentally ill person may god increase dont grandfather god bless'],\n",
       " ['haha sweet alahly sold sponsorship right 20th anniversary alahly club winning title club horn africa 2020'],\n",
       " ['want prove difference awesome view character praise flock make u feel understanding logical ability qadir became half twitter love categorize best attacking character haha'],\n",
       " ['finally hahaha coach expelled may god protect u referee expel team league haha'],\n",
       " ['dear came old ruling woman either cashier chopper said man evening'],\n",
       " ['congratulation leader altawaqi haha league wish world next year'],\n",
       " ['may league host today walid hanbas flavona haha'],\n",
       " ['one comedic thing find comment one fan elli red ismaili tell match watching another match u dont comment word im monster disabled audience living among u ismaili'],\n",
       " ['wish could get ball haha'],\n",
       " ['swallow riyadh'],\n",
       " ['guy say alnassr 17 league league suspended saudi arabia alnasr play day cave'],\n",
       " ['metro hit referee also sent'],\n",
       " ['aware halal zamalek hahahaha'],\n",
       " ['frankly like hilali say truth'],\n",
       " ['referee prevented alhilal playing third violet kit remaining alhilal kit stolen mean would vet team influence early'],\n",
       " ['haha going playing soccer arranged dont go college corona virus'],\n",
       " ['look guy dont chance know zamalek qualify watching thats empty people dreaming'],\n",
       " ['first time answer four victory god five six quarter start league hilalcooperation'],\n",
       " ['vardy striker leicester suarez striker barcelona haha'],\n",
       " ['long time ago fan came end match'],\n",
       " ['cooper dont lot ruin mind john argaoy haha nashnet'],\n",
       " ['aho keep cheese john world cup haha'],\n",
       " ['video spread brother alismaelawi new hatred black heart alahly club right play ismaili last time earned 6 zero'],\n",
       " ['imagine every year federation raise number firstclass club two team two year ago became like italian league'],\n",
       " ['whole stadium encourages alahly return haha'],\n",
       " ['family finish africa league team morocco go back sleep africa oh family'],\n",
       " ['statement two plane collided something wicca ru sia black sea issued alpenta john really passing giza'],\n",
       " ['alnasr fan say paradise crescent discipline haha player suspended alhilal forget topic reading lip salman eduardo well carrillo suspended two match petros alone lying run vein'],\n",
       " ['verdict'],\n",
       " ['message hilal mohabb especially alhawamir almasdarjiyya group abu qamza disgusted crescent justice'],\n",
       " ['first extra half alnassr equivalent albatin ahead local arbitration farce round lead alnassr top league happens referee make mistake match two match even three league mistake repeated favor one team match must say ronaldo happy league'],\n",
       " ['mr counselor mortada mansour 50 bus fan zamalek monday support team front pharco listen khatib'],\n",
       " ['saw summary city run judging party judgment impossible'],\n",
       " ['league field league hahaha v hahahaha earth hahahaha stadium hahahaha aqil hey'],\n",
       " ['people say zamalek run away go match order take super cup came saw ha ha ha super cup week tied good luck penalty wont go lose super cup uncle happy new year bus came burj al arab super didnt see'],\n",
       " ['fawaz alqarni maker alhilals goal haha ittihadalhilalaldouri'],\n",
       " ['difference napoli second 18 point 12 match left congratulation napoli deserved scudetto stadium like milan scudetto know team achieve league unless disaster epidemic court work'],\n",
       " ['downward series sun down crescent servant god willing plot god plot god best planner sun down goalkeeper give ball al hilal striker haha sweet'],\n",
       " ['nasr alahly yaannasis yaaho marsel came back god god haha'],\n",
       " ['tell wisdom god benefit someone named hanafi said football federation implement request board director would play cup super'],\n",
       " ['zamalek continues joy'],\n",
       " ['alahly fan said dream dream super day waiting'],\n",
       " ['every year rock head way rock u go haha team spirit know play strong match pressure spent team loyal young men player must replaced eat coach administration accepts barcelonamunich'],\n",
       " ['haha tony notice referee habib milanese valerie problem excited game'],\n",
       " ['yesterday say father take u guard today one take look haha'],\n",
       " ['league happened airport road heard shouting rising source also haha'],\n",
       " ['medium alnasr god know lying distorting fact flattering benefit club alnasr inclination say god afflict u league paved way nasr club whether like'],\n",
       " ['difference alahly zamalek match portugal switzerland match result 61'],\n",
       " ['congratulation sundown club victory could ended match 15 zero coming 5 sundownsal ahly'],\n",
       " ['told professional played football much bring'],\n",
       " ['alfayhaa interference jamming rome intentional intentional know tendency jamming orientation may god grant success referee mouse violent intervention behind even give yellow card god made u sick referee'],\n",
       " ['sport bought african zamalek meeting exclusively imagine announcement match halftime haha really largest audience galaxy'],\n",
       " ['praise god youth lost alraed alhilal alnasr alahly place alraed think would goal party pioneer'],\n",
       " ['sport ethic time prince saleh selim generation like mortada president zamalek club schubert vice president federation went play hide seek'],\n",
       " ['say alahly without taking trouser uniform without belt fall used say alahly ruling presence var referee know compliment alahly said salvation simple directing solves problem really succeeded egyptian match clearing match owner alahly'],\n",
       " ['africa piggy bank league fifth cup already egyptian super balah club president imprisoned hall game literally become cry trade failure player salary contract leaked zamalek fan want see egypt africa control'],\n",
       " ['alnasralwahda alnasrs new coach portuguese hahaha problem alnasr anything alhilal would like haha imagine ghaleb awad alsahlawi yahya walid abdullah taking league haha'],\n",
       " ['haha swear god wonderful goal entered'],\n",
       " ['oh true photo alahly fan among smouha fan match party day matched lost picture history god show much alahly really burning haha woah woah woah'],\n",
       " ['med amine fake goalkeeper belhamr alittihad alasmi haha started suspect didnt find money bejaia'],\n",
       " ['dear nasrawi alittihad main competitor top league good sign league global share end long breath championship tolerated competitor congratulation advance'],\n",
       " ['find fool among fan believe lie mercenary medium drumming pancake fan relieve trouble justifying disaster inside club last goalkeeper took full amount contract without even approaching club forget foreign substitute goalkeeper drank prank'],\n",
       " ['complete enter yahya score goal haha'],\n",
       " ['something really suck guy said million time may god bless leading circle football team one tell age may god bless bone mouth capitano people get chronic diarrhea see field may god guide grandpa supposed support elderly'],\n",
       " ['tell something abu abdullah team praise god integrated strong player homogeneous foreign local distinguished technical staff lack bring honest referee ghorbal makili simon romanian istvan kovacs rest clattenburg list time guarantee league cup european champion safety'],\n",
       " ['alahly stumble earth sleep happy riyadh'],\n",
       " ['entered shayban haha mosher coffee hilal alahly'],\n",
       " ['message jamal aref even alittihad triumph victory imagine day achieve quarterfinal league know collect point'],\n",
       " ['moon twitter without match atmosphere football real world busy sideburn corona tired kill epidemic life return u zain match event miss shouting screaming match alhilal haha open twitter everyone become doctor analyst disease mercy u guy'],\n",
       " ['doesnt matter match god thats league im different next match championship want get zero season nothing'],\n",
       " ['batin alhilal haha swear god even football satisfied entering goal albatin haha dont know invitation anything'],\n",
       " ['tawuuuuuuuuuuuuu first goal alahly percy tawoo ahly spinning mahalla'],\n",
       " ['alahly must come u turn'],\n",
       " ['haha next bring u real madrid seattle'],\n",
       " ['hahahaha guard joke'],\n",
       " ['enable thank emirate goodness came time seriousness took control aden abyan aldhalea declared selfadministration opened donation account national bank haha look uae insult expose front people aden cross'],\n",
       " ['stay home league airport road'],\n",
       " ['referee biased towards victory yes first one may god grant success haha alnasrl alone'],\n",
       " ['isnt maher grunt line yell arbitration object guardiola remains front alahly course drum oil lucy sport corral back back strength first impalement remain loyal haha'],\n",
       " ['one called cant make happy looking alahlys defeat comforted'],\n",
       " ['schubert radio said seriously real madrid wasting time front alahly playing foul throwins change wanted result 12 happened lost time tell real madrid afraid alahly would tie wasted life time saw medium dirt like'],\n",
       " ['bahbari almaqhawi yasser alshahrani dont know coach see doesnt change'],\n",
       " ['day told change composition coach player tell stay away issue marriage divorce raki maliha look oriental exclusion african cup nation'],\n",
       " ['alhilal return normal position lead come back shouting like every year matter time dust three match bring back top missed league returned increased three point hilal seventh league'],\n",
       " ['anyone know team alhilal let know haha hilalalahly'],\n",
       " ['nasrawisdemandforequality hahahaha far 149 ticket sold victory ticket 18758 haha audience told alahly fan match support 1 match god willing settled 2 soul tired day 3 projection flag fan victory crescent 4 test'],\n",
       " ['ok prophet alittihad take alnabit atif loan long alahly register'],\n",
       " ['matter stupid live league running asian cup running joke janadriyah gala haha'],\n",
       " ['zamalek walked hazem imam return omar jaber haha'],\n",
       " ['haha need work referee haha people'],\n",
       " ['wish alahly account mention eternity account'],\n",
       " ['trivial league ancelotti neglected trivial imagine barcelona helpless xavi european team decent half possibility hypothesis achieve league 104 point'],\n",
       " ['ederson entered leimer killed referee gave card werner objected'],\n",
       " ['hilal zamalek congratulation leader sorry africa leader one'],\n",
       " ['goal dont forget magdy abdelghani almasry every day reminds egyptian arab goal haha'],\n",
       " ['give u michael throw u hilal zamalek'],\n",
       " ['ismaili address missing remember taher abu zaid told nile sport correspondent studio ask ismaili player happy victory zamalek time iraqi ismaili striker khairy brought john zamalek last moment match ismaili player got angry hahahaha'],\n",
       " ['wasnt alahlys relegation whoever know get release haha cry'],\n",
       " ['arabia meet student math test tomorrow settle honoring ball hahaha yes met lost mexican third goalkeeper would blame u way mexican backing today player bus driver hahaha swear hate may god put place'],\n",
       " ['verdict clear happy today'],\n",
       " ['may god mercy day chick get 86 point order take league end league decided le 80 guaranteed 90 deduct something u'],\n",
       " ['alkora company yassin mansour bah'],\n",
       " ['time announcing deal clear make clear event egypt arab world important name alahly'],\n",
       " ['occasion prince princess'],\n",
       " ['hey agree convincing offer loan goalkeeper end season especially since need extract financial competence'],\n",
       " ['hahahaha alahly win ruler'],\n",
       " ['lebanese federation said would bring referee abroad sake making mistake foreign referee turned loser'],\n",
       " ['prediction current liverpool season 1 federation cup champion 2 champion champion league 3 league runnerup 4 exit semifinal carabao cup well back end season'],\n",
       " ['cancellation goal union due payment haha'],\n",
       " ['real madrid congratulation real madrid step'],\n",
       " ['strange thing today friend mine childhood watching match go crazy say know idiot every goal tell goal go crazy say god sober heh heh heh heh'],\n",
       " ['referee disaster calculated first nothing haha crescent'],\n",
       " ['referee going hit haha penalty kick'],\n",
       " ['league champion one super contract integrated role addition strong bench make focus field role league wedding guest difference addition invitee one making event invitee understand fahim aldouri bride know value give expensive dowry'],\n",
       " ['haha whoever said care football miss'],\n",
       " ['one goal year 2023 celebrate first goal achieved haha'],\n",
       " ['like even go tomorrow wont long zamalek come'],\n",
       " ['alahly first last club postpone match year also defeated haha alahly club institution receives million sponsorship even competitor championship club whose fan storm burn body threaten official bully people without deterrence punishment'],\n",
       " ['strange thing tonight match alhilal almanama started chatting first place brought two guinea alahly alqatan chat true dangerous guard awake'],\n",
       " ['laughing century hahahaha'],\n",
       " ['hahahahaha slogan bein monopoly world cup right poor last saudi league 525 riyal haha made league better player u role'],\n",
       " ['hour watching zamalek match algerian belouizdad youth'],\n",
       " ['world start watching saudi league'],\n",
       " ['haha piggy bank defense said issam chawali'],\n",
       " ['professor mamdouh abbas former president zamalek seized balance zamalek club bank 45 million pound seized yesterday great attempt solve crisis order pay advance donga omar jaber deal'],\n",
       " ['temporary coach steering wheel okay xavi arrived haha'],\n",
       " ['food mind crescent easy answer fifth haha hilalalahlyegyptian'],\n",
       " ['sable defense minister haha'],\n",
       " ['saying youth zamalek understood saw eye'],\n",
       " ['doorkeeper dominant haha'],\n",
       " ['love football haha girl dramatic brother'],\n",
       " ['torjaan global target boy wish perez would replace brother aydin haha belgium'],\n",
       " ['xavi 10 year old criticizes simeone mourinho playing offensive football match witness many goal currently alashabi break record history barca winning single goal season liga'],\n",
       " ['marcel koller coach alahly egypt hope sundown play al hilal al cotton match seriously knew sat waiting ferrera told coach aswan play team played zamalek'],\n",
       " ['unfortunately many thing wrong life sometimes ask generation u goal lived country fighting aggressor coming attack present time fighting know live country'],\n",
       " ['haha may god disgrace least brought someone taking death sentence expect justify stupidity giving gum tension verdict demandto meetwithbakhit'],\n",
       " ['say since become hashtag must make tournament win supporter call championship bear crazy league haha damned'],\n",
       " ['aljaziri bored samsonthe player confident awwad get little jealous imam need abdullah alsaeed obamachanged threshold zizouyou tired abdul ghani focused hossam exhausted ferrera transcendent whole league self live zamalek'],\n",
       " ['amr el dardiri want fifa summon last champion two version egyptian league play world cup keep alahlys expense enjoy zamalek'],\n",
       " ['transfer made referee account goal canceled'],\n",
       " ['second riyadh alahly'],\n",
       " ['nabi suhail hawaiks comment ruling haha'],\n",
       " ['moooooooooooooooooooooooooooooooooooooooooooooooooooooooooooooooooooooooooooooooooooooooooooooooooooooooooooooooooooooooooooooooooooooooooooooooooooooooooooooooooooooooooooooooooo back'],\n",
       " ['president alahly club information mansour bin meshaal alzuwaihri speaks alnafie almahyani hahahahaha rest club groom'],\n",
       " ['hear sale mbappe buy liverpool 7 champion without pressure sweep english premier league together'],\n",
       " ['victory today destruction verdict despicable recommended'],\n",
       " ['ahmed samy coach smouha result reflect course meeting deserve defeat know medium professional alahly pulled 4 twice said result reflect course meeting alahly deserve lose'],\n",
       " ['mahmoud alaa haha walter striker el gouna entered courtin mahmoud haha'],\n",
       " ['ahly stop sh'],\n",
       " ['hey tell many goal wrote haha'],\n",
       " ['verdict bad lost swear must close club'],\n",
       " ['haha ball want dam'],\n",
       " ['imagine would psychology coach pierre leverkusen losing first half bayern 50'],\n",
       " ['really funny team equal play without striker haha attacking goat defense midfield'],\n",
       " ['one shikabali goal messi haha'],\n",
       " ['hey guy quarter haha didnt mean abu khashem didnt like league championship'],\n",
       " ['eye doesnt fall eyebrow extra healing family wish hand match family congratulation zamalek commando good luck final match lord substitute championship men'],\n",
       " ['zamalek club supposed enter venice poorest club'],\n",
       " ['alnasr submitted hamdallah fourth time alnasr thinking sacking manu sake hamdallah league fondness new submission hamdallahs request haha demand manus departure'],\n",
       " ['long bebo administration alaa sadiq ahmed musa voice alahly thank god reassured zamalek may god make day joy'],\n",
       " ['zamalek collapsing'],\n",
       " ['hossam ashour alahly leaf 3 champion league haha'],\n",
       " ['brighton everton nice game lucas digne goal last minute haha'],\n",
       " ['expectation referee mouse referee complete second half like hahahaha arbitration mouse rule still present strong alazraq used cooperation'],\n",
       " ['sudanese crescent zamalek announces opening crescent buffet shubra neighborhood'],\n",
       " ['give arrangement hope alahly climb riyadh'],\n",
       " ['second yellow sent course referee fair adel altuwaij haha'],\n",
       " ['hahahaha joe gomez bin sarhan abdelbasir lead liverpool defense penalty discussion'],\n",
       " ['oh god half alahlys luck life life'],\n",
       " ['haha kill'],\n",
       " ['league walid hahahaha give porsche blue bentley antidote behavior'],\n",
       " ['burning shouting haha deletechannelzamalek'],\n",
       " ['talking seriously joking afraid buried treasure sacked alahly training interest thankful'],\n",
       " ['see alahly wow wow million people worship cow wow wow president goat ahly new flag vic hope become born message behind trailer'],\n",
       " ['reminder de jong refused united pretext playing champion league pique busquets sent play european league united'],\n",
       " ['john honestly universal'],\n",
       " ['hahaha alahly player'],\n",
       " ['funny team haha'],\n",
       " ['waiting score alittihad even half goal hand goal abdul quddus four league difficult young club senior duwon'],\n",
       " ['referee tried help saudi arabia couldnt haha saudi arabiaqatar'],\n",
       " ['god laugh day alahly lost cup said alahly fan came end match today brigadier general let come end match world rotating'],\n",
       " ['first group saudi arabia egypt agree complete match 2020 haha yoli top scorer arab world cup strongest arab attack largest number goal scored arab team acceptable number goal arab team historic scorer arab world cup spoil world world cup go'],\n",
       " ['referee anthony taylor'],\n",
       " ['urgent emergency meeting council shortly attempt pain penalty clause money late due technical director dismissal'],\n",
       " ['clung eye alahly two failed dog boy'],\n",
       " ['haha haaland suitable city necessary fake striker fit sheikh bring khaldoun god use mean today 7 defender scored hattrick'],\n",
       " ['hilal zamalek formation alhilal make sense possible igalo change minute'],\n",
       " ['would like see jordanian arab league match exception egyptian league post viewing comment'],\n",
       " ['first ten minute start match laughing level alnasr player sitting watching team talk made laugh coach mohamed maran put defender front team like abha play ten player swear god scandal'],\n",
       " ['alahly judge 90th came back u'],\n",
       " ['planet haha atto alittihad league rihona'],\n",
       " ['libyan referee content night muhammad adel'],\n",
       " ['anger derby haha jeddahahly'],\n",
       " ['third league suffers front ninth league'],\n",
       " ['want believe state federation haha team ronaldo play dont let take league'],\n",
       " ['see rome sassuolo spezias match make easy lazio stumbled rome stumbled reasonable limit able kidnap second coach abu 8 loss dont know league strong weak'],\n",
       " ['baghdad bale qatari league represent plenty haha'],\n",
       " ['boy belonging alhilal since referee able play ball hand objecting referee according first'],\n",
       " ['magdeburg germany begged alahly hall go let go'],\n",
       " ['referee want give real plenty real sitting defense gave yellow club league'],\n",
       " ['riyadh day yesterday heard christian shouting space role ahlawyah hear shouting'],\n",
       " ['yanes alenezi teased u saying victory pass circumstance statement except victory pass circumstance abu circumstance laugh strangely referee criticize'],\n",
       " ['ahlyalnasr may god guide'],\n",
       " ['economist one month poor people left egypt im afraid theyll kill ahly sale follow family ahly ismaili'],\n",
       " ['referee whistle sound seem playing extra haha'],\n",
       " ['haha remember word family said become president since day learned news resignation mobile phone stop even though encourage alahly may god make happy knew one thing difficult person stay away whomever love matter want return alahly'],\n",
       " ['scandal haha club doctor happened league year scandal'],\n",
       " ['hilal alain commentator ruined saudi league got excited brought egyptian one haha may god succeed u best commentator tunisian'],\n",
       " ['haijah equaled alkhalaija alahly fan say haha name father eat haha'],\n",
       " ['ismaily wasted easy win today seriously zamalek another place'],\n",
       " ['alahly goalkeeper egyptian national team haha'],\n",
       " ['imagine watching saudi league haha'],\n",
       " ['zamalek bid farewell africa failure zaria solace mit oqba'],\n",
       " ['trust source deserve tire follow'],\n",
       " ['referee decision correct penalty kick expulsion dont need nonsense nonsense stupid objection people comment unjust referee origin united wellknown arbitration'],\n",
       " ['dowry dowry lasted'],\n",
       " ['dont want wear zamalek pyramid forget zamalek basket also alittihad zamalek without hashish turned nothing'],\n",
       " ['criticize alkhatib expanding name alahly establishes new branch serve alahly remains source income alahly'],\n",
       " ['haha role broadcast channel alahlyfansbansscchannel'],\n",
       " ['many people alzariba fan mean aljahli left whole world insulted president zamalek land without defending'],\n",
       " ['problem ended life completed 18 year sitting like old man purpose reading work anything haha'],\n",
       " ['maryam hana hamza decided move zamalek relax psychologically alahly setting social medium committee attack islam alshater alahly channel attacking dont know someone like became journalist'],\n",
       " ['haha referee distributes free card'],\n",
       " ['get champion league aspiration european league win madrid locally become world champion'],\n",
       " ['terminate contract hamdallah club official account tweet termination player contract complain say player agrees union ok annulling contract beloved wrong player haha god funny club fails time thank god blessing mind union'],\n",
       " ['telling look alahly transferring ownership alsalam stadium stand know transfer ownership ticket hahahaha'],\n",
       " ['swear god riyadh club account tiktok clicking alahly'],\n",
       " ['ahlybreaksthehonorcode yet haha god gloat'],\n",
       " ['god sick first match leader dont talk yes go brim truth happy three point believe poor god said become dominant'],\n",
       " ['zamalek came championship two minute'],\n",
       " ['participation 3 foreign alahly player aljonin tao gul associate alulu john purely foreign savio goal assist abdelkader want participation professional player aljwan required required amal brings professional take dollar industry mobile rope tractor'],\n",
       " ['zamalek strong heart want alahly zamalek remain one group well would like remind dear zamalek alahly never lost zamalek africa every time meet copy alahly remains champion 2005 2008 2012 2013 2020'],\n",
       " ['want everything judged stumble'],\n",
       " ['love jeddah hot humid think go beautiful riyadh'],\n",
       " ['know amusing man ran abu jabal afraid would become like follower alahly like alittihad'],\n",
       " ['referee drink colleague awtani haha'],\n",
       " ['wish fan zamalek going match today would enlighten scout fifth minute'],\n",
       " ['much zamalek small club able make whole world laugh'],\n",
       " ['alhilal today boater cry ruling haha think referee saudi league two clear penalty'],\n",
       " ['zamalek sister also shame life two one lol'],\n",
       " ['documentation club championship alhilal 65 championship union 36 championship alahly 31 championship victory 27 championship even admit 27 youth 23 championship'],\n",
       " ['nigerian mentality rooted club drug stimulant belief sorcery denunciation spraying magic hidden trouble dont rule tomorrow bone tie head league'],\n",
       " ['crescent agreement defeated arawa focusing league come asian champion group focusing league end neither league global one'],\n",
       " ['swear god great closed ball country'],\n",
       " ['guy every el clasico remember busquets stuck crossover el clasico first leg league end football came goal'],\n",
       " ['tonight friend come fall alahly used showing path high heel haha'],\n",
       " ['account deceive player even coach best one else like like account called garcia master trainer another say alomari best defender haha badrari inflate player get nothing indolence condescension player upon defame account retweeting'],\n",
       " ['decide league low'],\n",
       " ['haha sweetheart believe participating watch league'],\n",
       " ['god willing scenario eternity match repeated ahlyalarouba'],\n",
       " ['zamalek channel launched remain known everyone word alahly follow make valuable pretext want haha delete please zamalek channel'],\n",
       " ['hahahahaha referee taking alahlys giver balanti everything lost haha hilalalahly'],\n",
       " ['referee wrong haha six minute'],\n",
       " ['shout shout shout get'],\n",
       " ['haha best thing football account group cried 2014 world cup messi took best player modric took hazard griezmann atmosphere normal'],\n",
       " ['italian referee normal'],\n",
       " ['yes third league club world cup let eat'],\n",
       " ['referee mock louie expelled metro ali wrong'],\n",
       " ['com issue pep guardiola play without second com striker hahahaha jesius parked bench goal keeper guardiola play without striker chose oh right forgot guardiola fan used 3 top quality striker current situation seems without striker'],\n",
       " ['dzekos run catch ball rebounding inter funniest thing world round literally walked hand would catch'],\n",
       " ['goal haha'],\n",
       " ['course dont let anything happened today make forget league dead'],\n",
       " ['kahlawi reject phrase two pole egyptian football number championship ranking said equal present'],\n",
       " ['groove haha algae gone'],\n",
       " ['romarinho happiest thing left football sense haha alittihad alahly'],\n",
       " ['prefer play alahly like one band end table threatened relegation first place manga band must liked every year may god interrupt habit'],\n",
       " ['havent seen alittihad match see kick'],\n",
       " ['prideofarabs bad guy say lord city take league mohamed salah player haha'],\n",
       " ['suffocated depressed zamalek different opinion'],\n",
       " ['hahahaha say alkhayas sport program propaganda sound meager league play haha say alittihad player relieve villanueva front haha'],\n",
       " ['haha hamdi alaa zamalek gene forbidden breastfeed die dialogue'],\n",
       " ['ibrahim fayek say deducted zamalek three point end season ha ha ha ha'],\n",
       " ['zamalek lost haha'],\n",
       " ['verdict wati pulling first giving'],\n",
       " ['football winning goal sure mean defense attack nice play bad play important thing winning course win beautiful offensive play pinnacle success hand defensive play insult also end one available mean winning'],\n",
       " ['god god god great god great alahly taken right plea god every match would championship participate unfortunately conscience moral disappeared corruption increased presence le qualified minister people council chosen mood jungle justice judge judiciary stadium every year good'],\n",
       " ['dont know feeling say play final ahlyalmasry beat real madrid hilal win flamingo'],\n",
       " ['zamalek channel closed today mahmoud kahraba cut light kahraba'],\n",
       " ['smoking destroys health loses official league'],\n",
       " ['oh god praise zamalek responded prayer egypt rejoiced lost congratulation ahlawiya'],\n",
       " ['haha see upsetting coach new argentine national team paying penalty clause important thing suspended alhilal league fondness asiri suspended play front alfayha'],\n",
       " ['come ending cristiano single goal plenty haha portuguese afflicted'],\n",
       " ['doctor entered examination result three two came result five two go back paying visa twice'],\n",
       " ['yes scratch football get like haha'],\n",
       " ['alahly benghazi ban extended additional season'],\n",
       " ['see people know anything football except round spend shouting nine haha family haha'],\n",
       " ['zamalek overcome'],\n",
       " ['look committee ask know ask one staged know neither afraid divided zamalek lived symbol tyrannizing knowing nothing'],\n",
       " ['country alahly administration agreed 3 foreign deal awaiting transfer financial payment coming day present alahly team alfaisaly meeting next week tell next tweet nationality'],\n",
       " ['nothing new mention nothing old repeat altaraji win arab african victory zamalek handball'],\n",
       " ['ahly kabir africa compulsory senior formation africa tip karim walid haha coulibaly mohamed hani ayman ashraf alsouliya hisham mohamed nasser maher walid suleiman mohamed sharif marwan mohsen oh lord adiha good'],\n",
       " ['alahly turned party'],\n",
       " ['referee nasa safra valdar jai tiran haha'],\n",
       " ['oh god tunisian taraji win want remind egyptian coffee haha taraji alahly'],\n",
       " ['zamalek cry departure sassi mostafa mohamed say conspiracy haha happened alahly departure abdullah ramadan fathi others'],\n",
       " ['hilal zamalek cup good luck'],\n",
       " ['batal investigate host coach abha reveal previous one victory remain silent perhaps coach come like keno agent say clear dismissal decision dont know'],\n",
       " ['attack police headquarters paris see deputy haha'],\n",
       " ['also arsenal take league'],\n",
       " ['haha farce hanfushi saudi government creator youthvictory'],\n",
       " ['mouse broke penalty kick sound whistle player hug referee clatberg walk play see another role swear god'],\n",
       " ['love zamalek like homeland homeland betray loyalty go away sun go pas home home lailai kiss wall wall love home passion heart love live home first love zamalek'],\n",
       " ['hall king zamalek took three plane winning three zero normal alahly'],\n",
       " ['spoiled sundown fixed enppi anbawi mentor strong strong al ahly zamalek'],\n",
       " ['swear god dirtiest director see didnt even bring player celebrate tour four left alahly brought bench haha'],\n",
       " ['course scientist program played extract information convert several cumulative information god haha attacking several method method electronic bullying theory creative chaos terrorism spreading certain rumor purpose desire god know linking people selling information hacking'],\n",
       " ['club lost put proud ruler obscure coach'],\n",
       " ['clear infiltration haha attohm league vkuna batin alnasr'],\n",
       " ['best thing young player support answer clip blowing frankly thing destroys young player way 90 audience know muhammad alqahtani clever'],\n",
       " ['penalty kick imagination spoiled abu siyah seen player rise ball hand next body patna movement normal referee mouse another opinion'],\n",
       " ['abha congratulation three point ghaiths tactically difficult team home seems finishing league ball mashallah hattrick'],\n",
       " ['souha alfayhaa missile wronged haha ahly alfayhaa'],\n",
       " ['second riyadh top peak tahhabi riyadh'],\n",
       " ['touched hand front referee'],\n",
       " ['however referee see haha'],\n",
       " ['crescent win go crazy hallucinate beat alraed day big downfall alittihad alahly alhilal win haha hear shouting mar arrived advice match alhilal nerve drink juice drink cleat sedative see club doctor lot'],\n",
       " ['haha rest victory playing teach league alfayhaa'],\n",
       " ['snapshot makkah like joule say makkah got goal kane haha get rid'],\n",
       " ['end match difficult match senior hunter team don first goal coach dont see club failed coach'],\n",
       " ['im front tv im project diligent student fikkkkkkkkkkkkkkkkkkkkkkkkkkkkkkkkkkkkkkkkkkkkkkkkkkkkkkkk brother screaming know'],\n",
       " ['ruling clear cancel appreciated'],\n",
       " ['alahly club world cup take care rival'],\n",
       " ['seek refuge god accursed satan dreamed nightmare ahlysuperchampion'],\n",
       " ['nabi brother zamalek match still tomorrow one send u list thing left tomorrow empty today party'],\n",
       " ['player good god know best hafeez darraji taking advantage situation talking constantine history algeria liberated'],\n",
       " ['im football league today liquidation real scored 3 goal already scored 5 general last half two girl seiko running raya everywhere even didnt ball haha injury destined enter'],\n",
       " ['razvan public demand empty middle three attack haha bankruptcy'],\n",
       " ['ferran curse goodness ask ball enter depth'],\n",
       " ['osama nabih win award best player zamalek club almasaa newspaper'],\n",
       " ['matched supporting alahly coach management knew result started cheering'],\n",
       " ['maltashah africa sat partying team leading group replied chest piggy bank group remained'],\n",
       " ['oh oh oh zamalek first first first first first first oh oh zamalek praise god two sweet treat left'],\n",
       " ['alhilal lost last minute need alahlys luck life'],\n",
       " ['mosimane really said nice statement egyptian public suffering fool win best coach world say lose become loser god egyptian audience exactly like egyptian football separated'],\n",
       " ['ferreira say understand champion league play preliminary role african champion club know play champion chad hero together grandpa sorry'],\n",
       " ['finally saw khedira chat ball face referee haha'],\n",
       " ['audience boycott league christian say dont interfere u unit haha day refused protest said known interest crescent haha'],\n",
       " ['haha attacker alhilal went individually brought goal alahly know get striker save u attack come get stroke'],\n",
       " ['boat protesting abha hahahaha player turned jordanian born saudi arabia afraid protest 114 page rest underestimating abu protest club even protest shout banu zaqoon'],\n",
       " ['alahly knife look space everyone say right said right say left said left'],\n",
       " ['swear god player laughed pulled sancho referee counted first'],\n",
       " ['whenever rule country woman matter extreme go people remain satisfied spirit alone beauty satisfy'],\n",
       " ['referee move see blood haha'],\n",
       " ['haha put striker national team let center 8 time like khoye sami yasir bright'],\n",
       " ['riyadh glory god even counting lost time look alike lean score victory 10 minute'],\n",
       " ['laugh one say league still pointless muslim team identity tactic administration league farther sky abha'],\n",
       " ['14th league alahly 1977 denied social medium time celebrate two day hellooooooooooooooooooooooooooooooo'],\n",
       " ['started first minute oh forgot alsuyuti earlier cousin zamaleks aunt mother husband manga team breastfeeding'],\n",
       " ['feel zamalekites content playing role spectator alahly waiting stumbling block alahly cheer even comment post role life greater fact support zamalek'],\n",
       " ['brother barcelona come like johan cruyff football came dead father two appreciate upset god something like crowning king golden ball permission'],\n",
       " ['better cool heart judgment alhilal'],\n",
       " ['alahly need prove hero one need prove extra'],\n",
       " ['dont worry barcelona judged drop arbitration corruption case league right real madrid'],\n",
       " ['diaz return crescent win godfather league intends evil tayyi alhilal'],\n",
       " ['referee ninth round league albatin alnasr sultan alharbi alqadisiyah alhilal shukri alhanfoush come back beloved crescent haha nasr'],\n",
       " ['hahahaha sadness open file past doubt coach player believe two loss time especially since two team heavy caliber hope affect team character better'],\n",
       " ['best match smartest one playing time playing referee player like girl field like petros unfortunately alahly playing alnasr falling taking foal whole match exceed 30 minute play analyst sport channel come tell player run 100 minute hahahaha'],\n",
       " ['guard called zaitout asked reason cursing late immediately blocked haha'],\n",
       " ['issa al harbeen alhilal defeat circumstance something hilal youth alahly'],\n",
       " ['foot confederation said group piggy bank took alahly championship last season africa hand celebrate cool end match zamalek tied championship cold yesterday galabia took championship zamalek able close eye'],\n",
       " ['imagine nacho shot example conde araujo bernabeu would player fan press deal shot may withdraw league'],\n",
       " ['encouraging zamalek divine punishment u sin life solution lord take care u mercy'],\n",
       " ['hilal alrayed alamaa alshehri lead alhilal attack get king cup haha'],\n",
       " ['riyadh oh god gloat'],\n",
       " ['faisaly alahly parent upset didnt international player participate final'],\n",
       " ['beautiful fun today alahly victory zamaleks exit cold god good thing rest next season six zamalek'],\n",
       " ['one funny thing zamalekites haha make meme laugh alahly appropriate first place belongs alahly know well fate one return place'],\n",
       " ['ahlyaljandal haha ridiculous guy'],\n",
       " ['conquest union haha referee afraid'],\n",
       " ['scandal steroid president mixed club went end genius muslim 2 player team handing people sound picture request presence doping detection committee take sample team may always joke u'],\n",
       " ['wish would give coach asfar sound shouting kept haha'],\n",
       " ['alahlys gain yesterday match 2 million dollar reach semifinal judge 2'],\n",
       " ['hahahahahaha unfortunately dont think sixth poor goalkeeper originally dislocated start match'],\n",
       " ...]"
      ]
     },
     "execution_count": 5,
     "metadata": {},
     "output_type": "execute_result"
    }
   ],
   "source": [
    "\"\"\"Convert to list\"\"\"\n",
    "data = df.values.tolist()\n",
    "data_list = [[data[i][0],data[i][1]] for i in range(len(data))]\n",
    "text = [[data[i][0]] for i in range(len(data))]\n",
    "text"
   ]
  },
  {
   "cell_type": "code",
   "execution_count": 6,
   "metadata": {},
   "outputs": [],
   "source": [
    "from torch.utils.data import Dataset\n",
    "from torch.utils.data import DataLoader\n",
    "\n",
    "\n",
    "class DataFrameDataset(Dataset):\n",
    "    def __init__(self, dataframe):\n",
    "        self.data = dataframe\n",
    "    \n",
    "    def __len__(self):\n",
    "        return len(self.data)\n",
    "    \n",
    "    def __getitem__(self, index):\n",
    "        text = self.data.iloc[index]['tweet']\n",
    "        label = self.data.iloc[index]['label']     \n",
    "        return text, label\n",
    "\n",
    "\n",
    "# Creating an instance of the Datafromdataset class\n",
    "dataset = DataFrameDataset(df)\n",
    "\n",
    "# Creating a DataLoader using dataset and the collate_fn argument to apply padding\n",
    "dataloader = DataLoader(dataset,batch_size=len(dataset),shuffle=True)\n",
    "\n",
    "tokenize_data=[]\n",
    "input_ids, labels = next(iter(dataloader))\n",
    "tokenize_data=list(zip(input_ids, labels))\n"
   ]
  },
  {
   "cell_type": "code",
   "execution_count": 7,
   "metadata": {},
   "outputs": [],
   "source": [
    "from sklearn.model_selection import train_test_split\n",
    "from datasets import Dataset,DatasetDict\n",
    "import datasets\n",
    "\"\"\"\n",
    "In this part we will create 2 topics:\n",
    "- train\n",
    "- test\n",
    "\"\"\"\n",
    "train, test = train_test_split(tokenize_data, test_size=0.4)\n",
    "\"\"\"\"\n",
    "We convert our list to DatasetDict.\n",
    "\"\"\"\n",
    "def convert_to_dict(train_data=None, test_data=None):\n",
    "    dict_data = []\n",
    "\n",
    "    if train_data is not None:\n",
    "        for i in range(len(train_data)):\n",
    "            dct = {\n",
    "                \"idx\": i,\n",
    "                \"labels\": train_data[i][1],\n",
    "                \"sentence\": train_data[i][0]\n",
    "            }\n",
    "            dict_data.append(dct)\n",
    "\n",
    "    if test_data is not None:\n",
    "        for i in range(len(test_data)):\n",
    "            dct = {\n",
    "                \"idx\": i,\n",
    "                \"labels\": test_data[i][1],\n",
    "                \"sentence\": test_data[i][0]\n",
    "            }\n",
    "            dict_data.append(dct)\n",
    "\n",
    "    dataset = Dataset.from_dict({\n",
    "        \"idx\": [dict_data[i][\"idx\"] for i in range(len(dict_data))],\n",
    "        \"sentence\": [dict_data[i][\"sentence\"] for i in range(len(dict_data))],\n",
    "        \"labels\": [dict_data[i][\"labels\"] for i in range(len(dict_data))]\n",
    "    })\n",
    "\n",
    "    dataset_dict = DatasetDict()\n",
    "    if train_data is not None:\n",
    "        dataset_dict[\"train\"] = dataset\n",
    "    if test_data is not None:\n",
    "        dataset_dict[\"test\"] = dataset\n",
    "\n",
    "    return dataset_dict\n",
    "\n",
    "combined_data = convert_to_dict(train, test)\n"
   ]
  },
  {
   "cell_type": "code",
   "execution_count": 8,
   "metadata": {},
   "outputs": [
    {
     "data": {
      "text/plain": [
       "DatasetDict({\n",
       "    train: Dataset({\n",
       "        features: ['idx', 'sentence', 'labels'],\n",
       "        num_rows: 25110\n",
       "    })\n",
       "    test: Dataset({\n",
       "        features: ['idx', 'sentence', 'labels'],\n",
       "        num_rows: 16741\n",
       "    })\n",
       "})"
      ]
     },
     "execution_count": 8,
     "metadata": {},
     "output_type": "execute_result"
    }
   ],
   "source": [
    "from sklearn.model_selection import train_test_split\n",
    "from datasets import Dataset,DatasetDict\n",
    "import datasets\n",
    "\n",
    "\n",
    "\"\"\"\"\n",
    "We convert our list to DatasetDict.\n",
    "\"\"\"\n",
    "def convert_to_dict(text,type_of_dataset:str):\n",
    "\n",
    "    if type_of_dataset.lower() != \"train\" and type_of_dataset.lower() != \"test\":\n",
    "        raise ValueError('It is necessary to set the parameter (train or test).')\n",
    "    \n",
    "    \"\"\"\n",
    "    First of all, we set the type of dictionary\n",
    "    \"\"\"\n",
    "\n",
    "    dict_data = []\n",
    "\n",
    "    for i in range(len(text)):\n",
    "        dct = {\n",
    "            \"idx\": i,\n",
    "            \"labels\": text[i][1],\n",
    "            \"sentence\":text[i][0] \n",
    "            }\n",
    "        dict_data.append(dct)\n",
    "\n",
    "    \"\"\"Here we convert our list in Dataset and after we transmit to \n",
    "    DatasetDict, where do we choose the type of our dataset part. (Train or Test)\"\"\"\n",
    "    dataset = Dataset.from_dict({\"idx\": [dict_data[i][\"idx\"] for i in range(len(dict_data))],\n",
    "                                'sentence': [dict_data[i][\"sentence\"] for i in range(len(dict_data))], \n",
    "                                \"labels\":[dict_data[i][\"labels\"] for i in range(len(dict_data))]})\n",
    "    \n",
    "    dataset_dict = DatasetDict({type_of_dataset: dataset})\n",
    "\n",
    "            \n",
    "    return dataset_dict\n",
    "\n",
    "combined_data = convert_to_dict(train,\"train\")\n",
    "test_data = convert_to_dict(test,\"test\")\n",
    "combined_data.update(test_data)\n",
    "combined_data\n"
   ]
  },
  {
   "attachments": {},
   "cell_type": "markdown",
   "metadata": {},
   "source": [
    "Transformers AutoModelForSequenceClassification\n",
    "-\n",
    "Score = 0.96\n",
    "-"
   ]
  },
  {
   "cell_type": "code",
   "execution_count": 27,
   "metadata": {},
   "outputs": [
    {
     "name": "stderr",
     "output_type": "stream",
     "text": [
      "                                                                    \r"
     ]
    }
   ],
   "source": [
    "from transformers import DataCollatorWithPadding\n",
    "import torch\n",
    "from transformers import AdamW, AutoTokenizer, AutoModelForSequenceClassification\n",
    "\n",
    "train_dt = combined_data[\"train\"]\n",
    "checkpoint = \"bert-base-uncased\"\n",
    "device = torch.device('cuda' if torch.cuda.is_available() else 'cpu')\n",
    "\n",
    "tokenizer = AutoTokenizer.from_pretrained(checkpoint)\n",
    "def tokenize_function(train_dt):\n",
    "    return tokenizer(train_dt[\"sentence\"], truncation=True)\n",
    "\n",
    "\n",
    "tokenized_datasets = combined_data.map(tokenize_function,batched=True)\n",
    "data_collator = DataCollatorWithPadding(tokenizer=tokenizer)\n"
   ]
  },
  {
   "cell_type": "code",
   "execution_count": 28,
   "metadata": {},
   "outputs": [
    {
     "name": "stderr",
     "output_type": "stream",
     "text": [
      "Some weights of the model checkpoint at bert-base-uncased were not used when initializing BertForSequenceClassification: ['cls.seq_relationship.weight', 'cls.predictions.transform.LayerNorm.weight', 'cls.predictions.transform.dense.weight', 'cls.seq_relationship.bias', 'cls.predictions.bias', 'cls.predictions.transform.dense.bias', 'cls.predictions.transform.LayerNorm.bias']\n",
      "- This IS expected if you are initializing BertForSequenceClassification from the checkpoint of a model trained on another task or with another architecture (e.g. initializing a BertForSequenceClassification model from a BertForPreTraining model).\n",
      "- This IS NOT expected if you are initializing BertForSequenceClassification from the checkpoint of a model that you expect to be exactly identical (initializing a BertForSequenceClassification model from a BertForSequenceClassification model).\n",
      "Some weights of BertForSequenceClassification were not initialized from the model checkpoint at bert-base-uncased and are newly initialized: ['classifier.bias', 'classifier.weight']\n",
      "You should probably TRAIN this model on a down-stream task to be able to use it for predictions and inference.\n",
      "c:\\Users\\Askar\\anaconda3\\Lib\\site-packages\\transformers\\optimization.py:411: FutureWarning: This implementation of AdamW is deprecated and will be removed in a future version. Use the PyTorch implementation torch.optim.AdamW instead, or set `no_deprecation_warning=True` to disable this warning\n",
      "  warnings.warn(\n",
      "  0%|          | 0/9417 [00:00<?, ?it/s]You're using a BertTokenizerFast tokenizer. Please note that with a fast tokenizer, using the `__call__` method is faster than using a method to encode the text followed by a call to the `pad` method to get a padded encoding.\n",
      "  5%|▌         | 500/9417 [00:24<07:17, 20.38it/s]"
     ]
    },
    {
     "name": "stdout",
     "output_type": "stream",
     "text": [
      "{'loss': 0.3014, 'learning_rate': 4.734522671763831e-05, 'epoch': 0.16}\n"
     ]
    },
    {
     "name": "stderr",
     "output_type": "stream",
     "text": [
      " 11%|█         | 1000/9417 [00:51<07:02, 19.93it/s]"
     ]
    },
    {
     "name": "stdout",
     "output_type": "stream",
     "text": [
      "{'loss': 0.2502, 'learning_rate': 4.469045343527663e-05, 'epoch': 0.32}\n"
     ]
    },
    {
     "name": "stderr",
     "output_type": "stream",
     "text": [
      " 16%|█▌        | 1500/9417 [01:17<06:29, 20.34it/s]"
     ]
    },
    {
     "name": "stdout",
     "output_type": "stream",
     "text": [
      "{'loss': 0.2334, 'learning_rate': 4.203568015291494e-05, 'epoch': 0.48}\n"
     ]
    },
    {
     "name": "stderr",
     "output_type": "stream",
     "text": [
      " 21%|██        | 2000/9417 [01:43<06:04, 20.32it/s]"
     ]
    },
    {
     "name": "stdout",
     "output_type": "stream",
     "text": [
      "{'loss': 0.2052, 'learning_rate': 3.938090687055326e-05, 'epoch': 0.64}\n"
     ]
    },
    {
     "name": "stderr",
     "output_type": "stream",
     "text": [
      " 27%|██▋       | 2500/9417 [02:10<05:39, 20.40it/s]"
     ]
    },
    {
     "name": "stdout",
     "output_type": "stream",
     "text": [
      "{'loss': 0.2123, 'learning_rate': 3.672613358819157e-05, 'epoch': 0.8}\n"
     ]
    },
    {
     "name": "stderr",
     "output_type": "stream",
     "text": [
      " 32%|███▏      | 3000/9417 [02:36<05:13, 20.44it/s]"
     ]
    },
    {
     "name": "stdout",
     "output_type": "stream",
     "text": [
      "{'loss': 0.192, 'learning_rate': 3.407136030582988e-05, 'epoch': 0.96}\n"
     ]
    },
    {
     "name": "stderr",
     "output_type": "stream",
     "text": [
      "                                                   \n",
      " 33%|███▎      | 3142/9417 [03:14<5:56:00,  3.40s/it]"
     ]
    },
    {
     "name": "stdout",
     "output_type": "stream",
     "text": [
      "{'eval_loss': 0.2151377946138382, 'eval_accuracy': 0.9548414073233379, 'eval_f1': 0.9570990806945864, 'eval_runtime': 28.9792, 'eval_samples_per_second': 577.691, 'eval_steps_per_second': 72.224, 'epoch': 1.0}\n"
     ]
    },
    {
     "name": "stderr",
     "output_type": "stream",
     "text": [
      " 37%|███▋      | 3500/9417 [03:31<04:57, 19.89it/s]  "
     ]
    },
    {
     "name": "stdout",
     "output_type": "stream",
     "text": [
      "{'loss': 0.168, 'learning_rate': 3.14165870234682e-05, 'epoch': 1.12}\n"
     ]
    },
    {
     "name": "stderr",
     "output_type": "stream",
     "text": [
      " 42%|████▏     | 4000/9417 [03:58<04:29, 20.13it/s]"
     ]
    },
    {
     "name": "stdout",
     "output_type": "stream",
     "text": [
      "{'loss': 0.1667, 'learning_rate': 2.8761813741106512e-05, 'epoch': 1.27}\n"
     ]
    },
    {
     "name": "stderr",
     "output_type": "stream",
     "text": [
      " 48%|████▊     | 4500/9417 [04:25<04:02, 20.32it/s]"
     ]
    },
    {
     "name": "stdout",
     "output_type": "stream",
     "text": [
      "{'loss': 0.1375, 'learning_rate': 2.6107040458744823e-05, 'epoch': 1.43}\n"
     ]
    },
    {
     "name": "stderr",
     "output_type": "stream",
     "text": [
      " 53%|█████▎    | 5000/9417 [04:52<03:42, 19.89it/s]"
     ]
    },
    {
     "name": "stdout",
     "output_type": "stream",
     "text": [
      "{'loss': 0.1574, 'learning_rate': 2.3452267176383138e-05, 'epoch': 1.59}\n"
     ]
    },
    {
     "name": "stderr",
     "output_type": "stream",
     "text": [
      " 58%|█████▊    | 5500/9417 [05:18<03:14, 20.13it/s]"
     ]
    },
    {
     "name": "stdout",
     "output_type": "stream",
     "text": [
      "{'loss': 0.1377, 'learning_rate': 2.0797493894021452e-05, 'epoch': 1.75}\n"
     ]
    },
    {
     "name": "stderr",
     "output_type": "stream",
     "text": [
      " 64%|██████▎   | 6000/9417 [05:44<02:48, 20.29it/s]"
     ]
    },
    {
     "name": "stdout",
     "output_type": "stream",
     "text": [
      "{'loss': 0.1407, 'learning_rate': 1.8142720611659767e-05, 'epoch': 1.91}\n"
     ]
    },
    {
     "name": "stderr",
     "output_type": "stream",
     "text": [
      "                                                   \n",
      " 67%|██████▋   | 6281/9417 [06:29<2:01:14,  2.32s/it]"
     ]
    },
    {
     "name": "stdout",
     "output_type": "stream",
     "text": [
      "{'eval_loss': 0.20739760994911194, 'eval_accuracy': 0.956991816498417, 'eval_f1': 0.9592990390050875, 'eval_runtime': 29.1715, 'eval_samples_per_second': 573.882, 'eval_steps_per_second': 71.748, 'epoch': 2.0}\n"
     ]
    },
    {
     "name": "stderr",
     "output_type": "stream",
     "text": [
      " 69%|██████▉   | 6500/9417 [06:40<02:22, 20.47it/s]  "
     ]
    },
    {
     "name": "stdout",
     "output_type": "stream",
     "text": [
      "{'loss': 0.1161, 'learning_rate': 1.5487947329298078e-05, 'epoch': 2.07}\n"
     ]
    },
    {
     "name": "stderr",
     "output_type": "stream",
     "text": [
      " 74%|███████▍  | 7000/9417 [07:06<01:58, 20.45it/s]"
     ]
    },
    {
     "name": "stdout",
     "output_type": "stream",
     "text": [
      "{'loss': 0.0926, 'learning_rate': 1.2833174046936391e-05, 'epoch': 2.23}\n"
     ]
    },
    {
     "name": "stderr",
     "output_type": "stream",
     "text": [
      " 80%|███████▉  | 7500/9417 [07:32<01:33, 20.52it/s]"
     ]
    },
    {
     "name": "stdout",
     "output_type": "stream",
     "text": [
      "{'loss': 0.089, 'learning_rate': 1.0178400764574706e-05, 'epoch': 2.39}\n"
     ]
    },
    {
     "name": "stderr",
     "output_type": "stream",
     "text": [
      " 85%|████████▍ | 8000/9417 [07:58<01:10, 20.14it/s]"
     ]
    },
    {
     "name": "stdout",
     "output_type": "stream",
     "text": [
      "{'loss': 0.0875, 'learning_rate': 7.523627482213019e-06, 'epoch': 2.55}\n"
     ]
    },
    {
     "name": "stderr",
     "output_type": "stream",
     "text": [
      " 90%|█████████ | 8500/9417 [08:24<00:45, 20.34it/s]"
     ]
    },
    {
     "name": "stdout",
     "output_type": "stream",
     "text": [
      "{'loss': 0.079, 'learning_rate': 4.868854199851333e-06, 'epoch': 2.71}\n"
     ]
    },
    {
     "name": "stderr",
     "output_type": "stream",
     "text": [
      " 96%|█████████▌| 9000/9417 [08:50<00:20, 20.22it/s]"
     ]
    },
    {
     "name": "stdout",
     "output_type": "stream",
     "text": [
      "{'loss': 0.0845, 'learning_rate': 2.2140809174896463e-06, 'epoch': 2.87}\n"
     ]
    },
    {
     "name": "stderr",
     "output_type": "stream",
     "text": [
      "                                                   \n",
      "100%|██████████| 9417/9417 [09:42<00:00, 16.18it/s]"
     ]
    },
    {
     "name": "stdout",
     "output_type": "stream",
     "text": [
      "{'eval_loss': 0.18132726848125458, 'eval_accuracy': 0.960516098202019, 'eval_f1': 0.9625644220422496, 'eval_runtime': 28.9627, 'eval_samples_per_second': 578.018, 'eval_steps_per_second': 72.265, 'epoch': 3.0}\n",
      "{'train_runtime': 582.0623, 'train_samples_per_second': 129.419, 'train_steps_per_second': 16.179, 'train_loss': 0.15499206782779812, 'epoch': 3.0}\n"
     ]
    },
    {
     "name": "stderr",
     "output_type": "stream",
     "text": [
      "\n"
     ]
    },
    {
     "data": {
      "text/plain": [
       "TrainOutput(global_step=9417, training_loss=0.15499206782779812, metrics={'train_runtime': 582.0623, 'train_samples_per_second': 129.419, 'train_steps_per_second': 16.179, 'train_loss': 0.15499206782779812, 'epoch': 3.0})"
      ]
     },
     "execution_count": 28,
     "metadata": {},
     "output_type": "execute_result"
    }
   ],
   "source": [
    "from transformers import Trainer\n",
    "from transformers import TrainingArguments\n",
    "import evaluate\n",
    "import numpy as np\n",
    "\n",
    "\n",
    "def compute_metrics(eval_preds):\n",
    "    metric = evaluate.load(\"glue\", \"mrpc\")\n",
    "    logits, labels = eval_preds\n",
    "    predictions = np.argmax(logits, axis=-1)\n",
    "    return metric.compute(predictions=predictions, references=labels)\n",
    "\n",
    "training_args = TrainingArguments(\"test-trainer\", evaluation_strategy=\"epoch\")\n",
    "model = AutoModelForSequenceClassification.from_pretrained(checkpoint, num_labels=2).to(device)\n",
    "\n",
    "trainer = Trainer(\n",
    "    model,\n",
    "    training_args,\n",
    "    train_dataset=tokenized_datasets[\"train\"],\n",
    "    eval_dataset=tokenized_datasets[\"test\"],\n",
    "    data_collator=data_collator,\n",
    "    tokenizer=tokenizer,\n",
    "    compute_metrics=compute_metrics,\n",
    ")\n",
    "trainer.train()"
   ]
  },
  {
   "cell_type": "code",
   "execution_count": 29,
   "metadata": {},
   "outputs": [
    {
     "name": "stderr",
     "output_type": "stream",
     "text": [
      "  0%|          | 0/2093 [00:00<?, ?it/s]"
     ]
    },
    {
     "name": "stderr",
     "output_type": "stream",
     "text": [
      "100%|██████████| 2093/2093 [00:28<00:00, 73.06it/s]\n"
     ]
    },
    {
     "data": {
      "text/plain": [
       "{'accuracy': 0.960516098202019, 'f1': 0.9625644220422496}"
      ]
     },
     "execution_count": 29,
     "metadata": {},
     "output_type": "execute_result"
    }
   ],
   "source": [
    "predictions = trainer.predict(tokenized_datasets[\"test\"])\n",
    "\n",
    "preds = np.argmax(predictions.predictions, axis=-1)\n",
    "\n",
    "metric = evaluate.load(\"glue\", \"mrpc\")\n",
    "metric.compute(predictions=preds, references=predictions.label_ids)"
   ]
  },
  {
   "attachments": {},
   "cell_type": "markdown",
   "metadata": {},
   "source": [
    "Neural Network With 0\n",
    "-\n",
    "SCORE = 0.96\n",
    "-"
   ]
  },
  {
   "cell_type": "code",
   "execution_count": 9,
   "metadata": {},
   "outputs": [
    {
     "name": "stderr",
     "output_type": "stream",
     "text": [
      "                                                                    \r"
     ]
    }
   ],
   "source": [
    "from transformers import DataCollatorWithPadding\n",
    "import torch\n",
    "from transformers import AdamW, AutoTokenizer, AutoModelForSequenceClassification\n",
    "\n",
    "train_dt = combined_data[\"train\"]\n",
    "checkpoint = \"bert-base-uncased\"\n",
    "device = torch.device('cuda' if torch.cuda.is_available() else 'cpu')\n",
    "\n",
    "tokenizer = AutoTokenizer.from_pretrained(checkpoint)\n",
    "def tokenize_function(train_dt):\n",
    "    return tokenizer(train_dt[\"sentence\"], truncation=True)\n",
    "\n",
    "\n",
    "tokenized_datasets = combined_data.map(tokenize_function,batched=True)\n",
    "#data_collator = DataCollatorWithPadding(tokenizer=tokenizer)\n"
   ]
  },
  {
   "cell_type": "code",
   "execution_count": 10,
   "metadata": {},
   "outputs": [],
   "source": [
    "import torch\n",
    "from torch.utils.data import TensorDataset\n",
    "def padding_data(type_of_data:str):\n",
    "    # Преобразование input_ids в формат списка тензоров\n",
    "    input_ids = [torch.tensor(ids) for ids in tokenized_datasets[type_of_data]['input_ids']]\n",
    "\n",
    "    # Применение padding к input_ids\n",
    "    padded_input_ids = torch.nn.utils.rnn.pad_sequence(input_ids, batch_first=True).to(device)\n",
    "\n",
    "    # Получение меток (labels)\n",
    "    labels = torch.tensor(tokenized_datasets[type_of_data]['labels'], dtype=torch.long).to(device)\n",
    "\n",
    "    # Создание TensorDataset, объединяющего паддингованные input_ids и метки\n",
    "    dataset = TensorDataset(padded_input_ids, labels)\n",
    "\n",
    "    batch_size = 32  # Установите желаемый размер батча\n",
    "\n",
    "    dataset = TensorDataset(padded_input_ids, labels)\n",
    "    dataloader = DataLoader(dataset, batch_size=batch_size, shuffle=True)\n",
    "    return dataloader\n",
    "\n",
    "dataloader_train = padding_data(\"train\")\n",
    "dataloader_test = padding_data(\"test\")"
   ]
  },
  {
   "cell_type": "code",
   "execution_count": 11,
   "metadata": {},
   "outputs": [],
   "source": [
    "import torch\n",
    "import torch.nn as nn\n",
    "from torch.optim import AdamW\n",
    "import torch.nn.functional as F\n",
    "\n",
    "\n",
    "class NeuralClassification(nn.Module):\n",
    "    def __init__(self):\n",
    "        super(NeuralClassification, self).__init__()\n",
    "        self.embedding = nn.Embedding(30522, 768)\n",
    "        self.conv1 = nn.Conv1d(768, 512, kernel_size=3)\n",
    "        self.dropout = nn.Dropout(0.2)\n",
    "        self.fc = nn.Linear(512, 2)  # Изменение размерности входа на 512\n",
    "\n",
    "    def forward(self, x):\n",
    "        embedded = self.embedding(x)\n",
    "        embedded = embedded.squeeze(1).permute(0, 2, 1)  # Удаление дополнительного измерения и перестановка размерностей\n",
    "        conv = self.conv1(embedded)\n",
    "        conv = self.dropout(conv)\n",
    "        conv = F.relu(conv)\n",
    "        conv = torch.max(conv, dim=2)[0]  # Применение max pooling по временной размерности\n",
    "        output = self.fc(conv)\n",
    "        return output\n",
    "\n",
    "device = torch.device(\"cuda\" if torch.cuda.is_available() else \"cpu\")\n",
    "classif_model = NeuralClassification().to(device)\n",
    "criterion = nn.CrossEntropyLoss()\n",
    "optimizer = AdamW(classif_model.parameters(), lr=0.001, weight_decay=0.01)\n",
    "\n",
    "\n"
   ]
  },
  {
   "cell_type": "code",
   "execution_count": 12,
   "metadata": {},
   "outputs": [
    {
     "name": "stderr",
     "output_type": "stream",
     "text": [
      "                                                                           \r"
     ]
    },
    {
     "name": "stdout",
     "output_type": "stream",
     "text": [
      "Epoch 1/200, Loss: 164.03515884280205\n"
     ]
    },
    {
     "name": "stderr",
     "output_type": "stream",
     "text": [
      "                                                                             \r"
     ]
    },
    {
     "name": "stdout",
     "output_type": "stream",
     "text": [
      "Epoch 2/200, Loss: 72.70889485866064\n"
     ]
    },
    {
     "name": "stderr",
     "output_type": "stream",
     "text": [
      "                                                                             \r"
     ]
    },
    {
     "name": "stdout",
     "output_type": "stream",
     "text": [
      "Epoch 3/200, Loss: 52.13777385545791\n"
     ]
    },
    {
     "name": "stderr",
     "output_type": "stream",
     "text": [
      "                                                                             \r"
     ]
    },
    {
     "name": "stdout",
     "output_type": "stream",
     "text": [
      "Epoch 4/200, Loss: 42.811958979907104\n"
     ]
    },
    {
     "name": "stderr",
     "output_type": "stream",
     "text": [
      "                                                                             \r"
     ]
    },
    {
     "name": "stdout",
     "output_type": "stream",
     "text": [
      "Epoch 5/200, Loss: 37.4173258956546\n"
     ]
    },
    {
     "name": "stderr",
     "output_type": "stream",
     "text": [
      "                                                                             \r"
     ]
    },
    {
     "name": "stdout",
     "output_type": "stream",
     "text": [
      "Epoch 6/200, Loss: 41.730544352778466\n"
     ]
    },
    {
     "name": "stderr",
     "output_type": "stream",
     "text": [
      "                                                                             \r"
     ]
    },
    {
     "name": "stdout",
     "output_type": "stream",
     "text": [
      "Epoch 7/200, Loss: 37.34630665730788\n"
     ]
    },
    {
     "name": "stderr",
     "output_type": "stream",
     "text": [
      "                                                                             \r"
     ]
    },
    {
     "name": "stdout",
     "output_type": "stream",
     "text": [
      "Epoch 8/200, Loss: 34.13580424823573\n"
     ]
    },
    {
     "name": "stderr",
     "output_type": "stream",
     "text": [
      "                                                                             \r"
     ]
    },
    {
     "name": "stdout",
     "output_type": "stream",
     "text": [
      "Epoch 9/200, Loss: 36.89487531790594\n"
     ]
    },
    {
     "name": "stderr",
     "output_type": "stream",
     "text": [
      "                                                                              \r"
     ]
    },
    {
     "name": "stdout",
     "output_type": "stream",
     "text": [
      "Epoch 10/200, Loss: 43.435821134138365\n"
     ]
    },
    {
     "name": "stderr",
     "output_type": "stream",
     "text": [
      "                                                                              \r"
     ]
    },
    {
     "name": "stdout",
     "output_type": "stream",
     "text": [
      "Epoch 11/200, Loss: 34.215535171187824\n"
     ]
    },
    {
     "name": "stderr",
     "output_type": "stream",
     "text": [
      "                                                                              \r"
     ]
    },
    {
     "name": "stdout",
     "output_type": "stream",
     "text": [
      "Epoch 12/200, Loss: 25.284357819702826\n"
     ]
    },
    {
     "name": "stderr",
     "output_type": "stream",
     "text": [
      "                                                                              \r"
     ]
    },
    {
     "name": "stdout",
     "output_type": "stream",
     "text": [
      "Epoch 13/200, Loss: 43.83456277113632\n"
     ]
    },
    {
     "name": "stderr",
     "output_type": "stream",
     "text": [
      "                                                                              \r"
     ]
    },
    {
     "name": "stdout",
     "output_type": "stream",
     "text": [
      "Epoch 14/200, Loss: 22.596882025801076\n"
     ]
    },
    {
     "name": "stderr",
     "output_type": "stream",
     "text": [
      "                                                                              \r"
     ]
    },
    {
     "name": "stdout",
     "output_type": "stream",
     "text": [
      "Epoch 15/200, Loss: 22.79396142643686\n"
     ]
    },
    {
     "name": "stderr",
     "output_type": "stream",
     "text": [
      "                                                                              \r"
     ]
    },
    {
     "name": "stdout",
     "output_type": "stream",
     "text": [
      "Epoch 16/200, Loss: 24.271775914693382\n"
     ]
    },
    {
     "name": "stderr",
     "output_type": "stream",
     "text": [
      "                                                                              \r"
     ]
    },
    {
     "name": "stdout",
     "output_type": "stream",
     "text": [
      "Epoch 17/200, Loss: 29.86908337558878\n"
     ]
    },
    {
     "name": "stderr",
     "output_type": "stream",
     "text": [
      "                                                                              \r"
     ]
    },
    {
     "name": "stdout",
     "output_type": "stream",
     "text": [
      "Epoch 18/200, Loss: 23.925067174971318\n"
     ]
    },
    {
     "name": "stderr",
     "output_type": "stream",
     "text": [
      "                                                                              \r"
     ]
    },
    {
     "name": "stdout",
     "output_type": "stream",
     "text": [
      "Epoch 19/200, Loss: 29.226800067368437\n"
     ]
    },
    {
     "name": "stderr",
     "output_type": "stream",
     "text": [
      "                                                                              \r"
     ]
    },
    {
     "name": "stdout",
     "output_type": "stream",
     "text": [
      "Epoch 20/200, Loss: 27.02999563610356\n"
     ]
    },
    {
     "name": "stderr",
     "output_type": "stream",
     "text": [
      "                                                                              \r"
     ]
    },
    {
     "name": "stdout",
     "output_type": "stream",
     "text": [
      "Epoch 21/200, Loss: 23.874433366901822\n"
     ]
    },
    {
     "name": "stderr",
     "output_type": "stream",
     "text": [
      "                                                                              \r"
     ]
    },
    {
     "name": "stdout",
     "output_type": "stream",
     "text": [
      "Epoch 22/200, Loss: 21.929254137421996\n"
     ]
    },
    {
     "name": "stderr",
     "output_type": "stream",
     "text": [
      "                                                                              \r"
     ]
    },
    {
     "name": "stdout",
     "output_type": "stream",
     "text": [
      "Epoch 23/200, Loss: 26.15113726641412\n"
     ]
    },
    {
     "name": "stderr",
     "output_type": "stream",
     "text": [
      "                                                                              \r"
     ]
    },
    {
     "name": "stdout",
     "output_type": "stream",
     "text": [
      "Epoch 24/200, Loss: 24.698582206455377\n"
     ]
    },
    {
     "name": "stderr",
     "output_type": "stream",
     "text": [
      "                                                                              \r"
     ]
    },
    {
     "name": "stdout",
     "output_type": "stream",
     "text": [
      "Epoch 25/200, Loss: 24.848257280141162\n"
     ]
    },
    {
     "name": "stderr",
     "output_type": "stream",
     "text": [
      "                                                                              \r"
     ]
    },
    {
     "name": "stdout",
     "output_type": "stream",
     "text": [
      "Epoch 26/200, Loss: 23.151278537909512\n"
     ]
    },
    {
     "name": "stderr",
     "output_type": "stream",
     "text": [
      "                                                                              \r"
     ]
    },
    {
     "name": "stdout",
     "output_type": "stream",
     "text": [
      "Epoch 27/200, Loss: 30.248234936158408\n"
     ]
    },
    {
     "name": "stderr",
     "output_type": "stream",
     "text": [
      "                                                                              \r"
     ]
    },
    {
     "name": "stdout",
     "output_type": "stream",
     "text": [
      "Epoch 28/200, Loss: 25.720049160057645\n"
     ]
    },
    {
     "name": "stderr",
     "output_type": "stream",
     "text": [
      "                                                                              \r"
     ]
    },
    {
     "name": "stdout",
     "output_type": "stream",
     "text": [
      "Epoch 29/200, Loss: 15.591294700985044\n"
     ]
    },
    {
     "name": "stderr",
     "output_type": "stream",
     "text": [
      "                                                                              \r"
     ]
    },
    {
     "name": "stdout",
     "output_type": "stream",
     "text": [
      "Epoch 30/200, Loss: 18.0076604428457\n"
     ]
    },
    {
     "name": "stderr",
     "output_type": "stream",
     "text": [
      "                                                                              \r"
     ]
    },
    {
     "name": "stdout",
     "output_type": "stream",
     "text": [
      "Epoch 31/200, Loss: 20.461857966180553\n"
     ]
    },
    {
     "name": "stderr",
     "output_type": "stream",
     "text": [
      "                                                                              \r"
     ]
    },
    {
     "name": "stdout",
     "output_type": "stream",
     "text": [
      "Epoch 32/200, Loss: 23.351715429761974\n"
     ]
    },
    {
     "name": "stderr",
     "output_type": "stream",
     "text": [
      "                                                                              \r"
     ]
    },
    {
     "name": "stdout",
     "output_type": "stream",
     "text": [
      "Epoch 33/200, Loss: 20.22492032682007\n"
     ]
    },
    {
     "name": "stderr",
     "output_type": "stream",
     "text": [
      "                                                                              \r"
     ]
    },
    {
     "name": "stdout",
     "output_type": "stream",
     "text": [
      "Epoch 34/200, Loss: 32.416378866702786\n"
     ]
    },
    {
     "name": "stderr",
     "output_type": "stream",
     "text": [
      "                                                                              \r"
     ]
    },
    {
     "name": "stdout",
     "output_type": "stream",
     "text": [
      "Epoch 35/200, Loss: 15.650971106917066\n"
     ]
    },
    {
     "name": "stderr",
     "output_type": "stream",
     "text": [
      "                                                                              \r"
     ]
    },
    {
     "name": "stdout",
     "output_type": "stream",
     "text": [
      "Epoch 36/200, Loss: 9.198715418209018\n"
     ]
    },
    {
     "name": "stderr",
     "output_type": "stream",
     "text": [
      "                                                                              \r"
     ]
    },
    {
     "name": "stdout",
     "output_type": "stream",
     "text": [
      "Epoch 37/200, Loss: 18.78377273979653\n"
     ]
    },
    {
     "name": "stderr",
     "output_type": "stream",
     "text": [
      "                                                                              \r"
     ]
    },
    {
     "name": "stdout",
     "output_type": "stream",
     "text": [
      "Epoch 38/200, Loss: 29.31490567366032\n"
     ]
    },
    {
     "name": "stderr",
     "output_type": "stream",
     "text": [
      "                                                                              \r"
     ]
    },
    {
     "name": "stdout",
     "output_type": "stream",
     "text": [
      "Epoch 39/200, Loss: 13.348381472327048\n"
     ]
    },
    {
     "name": "stderr",
     "output_type": "stream",
     "text": [
      "                                                                              \r"
     ]
    },
    {
     "name": "stdout",
     "output_type": "stream",
     "text": [
      "Epoch 40/200, Loss: 20.04019256741737\n"
     ]
    },
    {
     "name": "stderr",
     "output_type": "stream",
     "text": [
      "                                                                              \r"
     ]
    },
    {
     "name": "stdout",
     "output_type": "stream",
     "text": [
      "Epoch 41/200, Loss: 19.894379569287704\n"
     ]
    },
    {
     "name": "stderr",
     "output_type": "stream",
     "text": [
      "                                                                              \r"
     ]
    },
    {
     "name": "stdout",
     "output_type": "stream",
     "text": [
      "Epoch 42/200, Loss: 21.76737020151249\n"
     ]
    },
    {
     "name": "stderr",
     "output_type": "stream",
     "text": [
      "                                                                              \r"
     ]
    },
    {
     "name": "stdout",
     "output_type": "stream",
     "text": [
      "Epoch 43/200, Loss: 21.66304471196587\n"
     ]
    },
    {
     "name": "stderr",
     "output_type": "stream",
     "text": [
      "                                                                              \r"
     ]
    },
    {
     "name": "stdout",
     "output_type": "stream",
     "text": [
      "Epoch 44/200, Loss: 23.905399784948287\n"
     ]
    },
    {
     "name": "stderr",
     "output_type": "stream",
     "text": [
      "                                                                              \r"
     ]
    },
    {
     "name": "stdout",
     "output_type": "stream",
     "text": [
      "Epoch 45/200, Loss: 20.07040950586647\n"
     ]
    },
    {
     "name": "stderr",
     "output_type": "stream",
     "text": [
      "                                                                              \r"
     ]
    },
    {
     "name": "stdout",
     "output_type": "stream",
     "text": [
      "Epoch 46/200, Loss: 9.014254686797663\n"
     ]
    },
    {
     "name": "stderr",
     "output_type": "stream",
     "text": [
      "                                                                              \r"
     ]
    },
    {
     "name": "stdout",
     "output_type": "stream",
     "text": [
      "Epoch 47/200, Loss: 14.176893106937825\n"
     ]
    },
    {
     "name": "stderr",
     "output_type": "stream",
     "text": [
      "                                                                              \r"
     ]
    },
    {
     "name": "stdout",
     "output_type": "stream",
     "text": [
      "Epoch 48/200, Loss: 20.621991190210846\n"
     ]
    },
    {
     "name": "stderr",
     "output_type": "stream",
     "text": [
      "                                                                              \r"
     ]
    },
    {
     "name": "stdout",
     "output_type": "stream",
     "text": [
      "Epoch 49/200, Loss: 23.49687056334917\n"
     ]
    },
    {
     "name": "stderr",
     "output_type": "stream",
     "text": [
      "                                                                              \r"
     ]
    },
    {
     "name": "stdout",
     "output_type": "stream",
     "text": [
      "Epoch 50/200, Loss: 26.781657449291583\n"
     ]
    },
    {
     "name": "stderr",
     "output_type": "stream",
     "text": [
      "                                                                              \r"
     ]
    },
    {
     "name": "stdout",
     "output_type": "stream",
     "text": [
      "Epoch 51/200, Loss: 13.257500724609462\n"
     ]
    },
    {
     "name": "stderr",
     "output_type": "stream",
     "text": [
      "                                                                              \r"
     ]
    },
    {
     "name": "stdout",
     "output_type": "stream",
     "text": [
      "Epoch 52/200, Loss: 21.53185356485976\n"
     ]
    },
    {
     "name": "stderr",
     "output_type": "stream",
     "text": [
      "                                                                              \r"
     ]
    },
    {
     "name": "stdout",
     "output_type": "stream",
     "text": [
      "Epoch 53/200, Loss: 25.542584762630433\n"
     ]
    },
    {
     "name": "stderr",
     "output_type": "stream",
     "text": [
      "                                                                              \r"
     ]
    },
    {
     "name": "stdout",
     "output_type": "stream",
     "text": [
      "Epoch 54/200, Loss: 16.386848996772205\n"
     ]
    },
    {
     "name": "stderr",
     "output_type": "stream",
     "text": [
      "                                                                              \r"
     ]
    },
    {
     "name": "stdout",
     "output_type": "stream",
     "text": [
      "Epoch 55/200, Loss: 18.848252261092288\n"
     ]
    },
    {
     "name": "stderr",
     "output_type": "stream",
     "text": [
      "                                                                              \r"
     ]
    },
    {
     "name": "stdout",
     "output_type": "stream",
     "text": [
      "Epoch 56/200, Loss: 12.691131431121631\n"
     ]
    },
    {
     "name": "stderr",
     "output_type": "stream",
     "text": [
      "                                                                              \r"
     ]
    },
    {
     "name": "stdout",
     "output_type": "stream",
     "text": [
      "Epoch 57/200, Loss: 13.225409082610861\n"
     ]
    },
    {
     "name": "stderr",
     "output_type": "stream",
     "text": [
      "                                                                              \r"
     ]
    },
    {
     "name": "stdout",
     "output_type": "stream",
     "text": [
      "Epoch 58/200, Loss: 21.152474119582145\n"
     ]
    },
    {
     "name": "stderr",
     "output_type": "stream",
     "text": [
      "                                                                              \r"
     ]
    },
    {
     "name": "stdout",
     "output_type": "stream",
     "text": [
      "Epoch 59/200, Loss: 24.228604590792997\n"
     ]
    },
    {
     "name": "stderr",
     "output_type": "stream",
     "text": [
      "                                                                              \r"
     ]
    },
    {
     "name": "stdout",
     "output_type": "stream",
     "text": [
      "Epoch 60/200, Loss: 11.174531378594319\n"
     ]
    },
    {
     "name": "stderr",
     "output_type": "stream",
     "text": [
      "                                                                              \r"
     ]
    },
    {
     "name": "stdout",
     "output_type": "stream",
     "text": [
      "Epoch 61/200, Loss: 13.380168060848533\n"
     ]
    },
    {
     "name": "stderr",
     "output_type": "stream",
     "text": [
      "                                                                              \r"
     ]
    },
    {
     "name": "stdout",
     "output_type": "stream",
     "text": [
      "Epoch 62/200, Loss: 15.537933187410111\n"
     ]
    },
    {
     "name": "stderr",
     "output_type": "stream",
     "text": [
      "                                                                              \r"
     ]
    },
    {
     "name": "stdout",
     "output_type": "stream",
     "text": [
      "Epoch 63/200, Loss: 23.14987487379221\n"
     ]
    },
    {
     "name": "stderr",
     "output_type": "stream",
     "text": [
      "                                                                              \r"
     ]
    },
    {
     "name": "stdout",
     "output_type": "stream",
     "text": [
      "Epoch 64/200, Loss: 26.454721130343316\n"
     ]
    },
    {
     "name": "stderr",
     "output_type": "stream",
     "text": [
      "                                                                              \r"
     ]
    },
    {
     "name": "stdout",
     "output_type": "stream",
     "text": [
      "Epoch 65/200, Loss: 9.500416390507482\n"
     ]
    },
    {
     "name": "stderr",
     "output_type": "stream",
     "text": [
      "                                                                              \r"
     ]
    },
    {
     "name": "stdout",
     "output_type": "stream",
     "text": [
      "Epoch 66/200, Loss: 16.068346854333853\n"
     ]
    },
    {
     "name": "stderr",
     "output_type": "stream",
     "text": [
      "                                                                              \r"
     ]
    },
    {
     "name": "stdout",
     "output_type": "stream",
     "text": [
      "Epoch 67/200, Loss: 5.772657134339903\n"
     ]
    },
    {
     "name": "stderr",
     "output_type": "stream",
     "text": [
      "                                                                              \r"
     ]
    },
    {
     "name": "stdout",
     "output_type": "stream",
     "text": [
      "Epoch 68/200, Loss: 12.818139799959368\n"
     ]
    },
    {
     "name": "stderr",
     "output_type": "stream",
     "text": [
      "                                                                              \r"
     ]
    },
    {
     "name": "stdout",
     "output_type": "stream",
     "text": [
      "Epoch 69/200, Loss: 9.79631445555389\n"
     ]
    },
    {
     "name": "stderr",
     "output_type": "stream",
     "text": [
      "                                                                              \r"
     ]
    },
    {
     "name": "stdout",
     "output_type": "stream",
     "text": [
      "Epoch 70/200, Loss: 11.927958833506862\n"
     ]
    },
    {
     "name": "stderr",
     "output_type": "stream",
     "text": [
      "                                                                              \r"
     ]
    },
    {
     "name": "stdout",
     "output_type": "stream",
     "text": [
      "Epoch 71/200, Loss: 20.939866794882008\n"
     ]
    },
    {
     "name": "stderr",
     "output_type": "stream",
     "text": [
      "                                                                              \r"
     ]
    },
    {
     "name": "stdout",
     "output_type": "stream",
     "text": [
      "Epoch 72/200, Loss: 21.785017820949093\n"
     ]
    },
    {
     "name": "stderr",
     "output_type": "stream",
     "text": [
      "                                                                              \r"
     ]
    },
    {
     "name": "stdout",
     "output_type": "stream",
     "text": [
      "Epoch 73/200, Loss: 5.5483792502223555\n"
     ]
    },
    {
     "name": "stderr",
     "output_type": "stream",
     "text": [
      "                                                                              \r"
     ]
    },
    {
     "name": "stdout",
     "output_type": "stream",
     "text": [
      "Epoch 74/200, Loss: 22.156872788858706\n"
     ]
    },
    {
     "name": "stderr",
     "output_type": "stream",
     "text": [
      "                                                                              \r"
     ]
    },
    {
     "name": "stdout",
     "output_type": "stream",
     "text": [
      "Epoch 75/200, Loss: 8.889540088932984\n"
     ]
    },
    {
     "name": "stderr",
     "output_type": "stream",
     "text": [
      "                                                                              \r"
     ]
    },
    {
     "name": "stdout",
     "output_type": "stream",
     "text": [
      "Epoch 76/200, Loss: 16.503698271011885\n"
     ]
    },
    {
     "name": "stderr",
     "output_type": "stream",
     "text": [
      "                                                                              \r"
     ]
    },
    {
     "name": "stdout",
     "output_type": "stream",
     "text": [
      "Epoch 77/200, Loss: 20.648807651120798\n"
     ]
    },
    {
     "name": "stderr",
     "output_type": "stream",
     "text": [
      "                                                                              \r"
     ]
    },
    {
     "name": "stdout",
     "output_type": "stream",
     "text": [
      "Epoch 78/200, Loss: 5.757812725220387\n"
     ]
    },
    {
     "name": "stderr",
     "output_type": "stream",
     "text": [
      "                                                                              \r"
     ]
    },
    {
     "name": "stdout",
     "output_type": "stream",
     "text": [
      "Epoch 79/200, Loss: 13.352626375524864\n"
     ]
    },
    {
     "name": "stderr",
     "output_type": "stream",
     "text": [
      "                                                                              \r"
     ]
    },
    {
     "name": "stdout",
     "output_type": "stream",
     "text": [
      "Epoch 80/200, Loss: 12.147724780691401\n"
     ]
    },
    {
     "name": "stderr",
     "output_type": "stream",
     "text": [
      "                                                                              \r"
     ]
    },
    {
     "name": "stdout",
     "output_type": "stream",
     "text": [
      "Epoch 81/200, Loss: 17.01617466923983\n"
     ]
    },
    {
     "name": "stderr",
     "output_type": "stream",
     "text": [
      "                                                                              \r"
     ]
    },
    {
     "name": "stdout",
     "output_type": "stream",
     "text": [
      "Epoch 82/200, Loss: 10.149087314592144\n"
     ]
    },
    {
     "name": "stderr",
     "output_type": "stream",
     "text": [
      "                                                                              \r"
     ]
    },
    {
     "name": "stdout",
     "output_type": "stream",
     "text": [
      "Epoch 83/200, Loss: 16.65135857867831\n"
     ]
    },
    {
     "name": "stderr",
     "output_type": "stream",
     "text": [
      "                                                                              \r"
     ]
    },
    {
     "name": "stdout",
     "output_type": "stream",
     "text": [
      "Epoch 84/200, Loss: 11.059209586005394\n"
     ]
    },
    {
     "name": "stderr",
     "output_type": "stream",
     "text": [
      "                                                                              \r"
     ]
    },
    {
     "name": "stdout",
     "output_type": "stream",
     "text": [
      "Epoch 85/200, Loss: 20.812094133865358\n"
     ]
    },
    {
     "name": "stderr",
     "output_type": "stream",
     "text": [
      "                                                                              \r"
     ]
    },
    {
     "name": "stdout",
     "output_type": "stream",
     "text": [
      "Epoch 86/200, Loss: 13.413004159335163\n"
     ]
    },
    {
     "name": "stderr",
     "output_type": "stream",
     "text": [
      "                                                                              \r"
     ]
    },
    {
     "name": "stdout",
     "output_type": "stream",
     "text": [
      "Epoch 87/200, Loss: 14.26046980528205\n"
     ]
    },
    {
     "name": "stderr",
     "output_type": "stream",
     "text": [
      "                                                                              \r"
     ]
    },
    {
     "name": "stdout",
     "output_type": "stream",
     "text": [
      "Epoch 88/200, Loss: 16.248337905553466\n"
     ]
    },
    {
     "name": "stderr",
     "output_type": "stream",
     "text": [
      "                                                                              \r"
     ]
    },
    {
     "name": "stdout",
     "output_type": "stream",
     "text": [
      "Epoch 89/200, Loss: 8.298355232429213\n"
     ]
    },
    {
     "name": "stderr",
     "output_type": "stream",
     "text": [
      "                                                                              \r"
     ]
    },
    {
     "name": "stdout",
     "output_type": "stream",
     "text": [
      "Epoch 90/200, Loss: 12.511633739835842\n"
     ]
    },
    {
     "name": "stderr",
     "output_type": "stream",
     "text": [
      "                                                                              \r"
     ]
    },
    {
     "name": "stdout",
     "output_type": "stream",
     "text": [
      "Epoch 91/200, Loss: 7.772888139709867\n"
     ]
    },
    {
     "name": "stderr",
     "output_type": "stream",
     "text": [
      "                                                                              \r"
     ]
    },
    {
     "name": "stdout",
     "output_type": "stream",
     "text": [
      "Epoch 92/200, Loss: 11.856136150669798\n"
     ]
    },
    {
     "name": "stderr",
     "output_type": "stream",
     "text": [
      "                                                                              \r"
     ]
    },
    {
     "name": "stdout",
     "output_type": "stream",
     "text": [
      "Epoch 93/200, Loss: 14.738791784766441\n"
     ]
    },
    {
     "name": "stderr",
     "output_type": "stream",
     "text": [
      "                                                                              \r"
     ]
    },
    {
     "name": "stdout",
     "output_type": "stream",
     "text": [
      "Epoch 94/200, Loss: 16.6928839775063\n"
     ]
    },
    {
     "name": "stderr",
     "output_type": "stream",
     "text": [
      "                                                                              \r"
     ]
    },
    {
     "name": "stdout",
     "output_type": "stream",
     "text": [
      "Epoch 95/200, Loss: 12.498419957179717\n"
     ]
    },
    {
     "name": "stderr",
     "output_type": "stream",
     "text": [
      "                                                                              \r"
     ]
    },
    {
     "name": "stdout",
     "output_type": "stream",
     "text": [
      "Epoch 96/200, Loss: 14.415892221072811\n"
     ]
    },
    {
     "name": "stderr",
     "output_type": "stream",
     "text": [
      "                                                                              \r"
     ]
    },
    {
     "name": "stdout",
     "output_type": "stream",
     "text": [
      "Epoch 97/200, Loss: 11.193254207411556\n"
     ]
    },
    {
     "name": "stderr",
     "output_type": "stream",
     "text": [
      "                                                                              \r"
     ]
    },
    {
     "name": "stdout",
     "output_type": "stream",
     "text": [
      "Epoch 98/200, Loss: 9.285650586104751\n"
     ]
    },
    {
     "name": "stderr",
     "output_type": "stream",
     "text": [
      "                                                                              \r"
     ]
    },
    {
     "name": "stdout",
     "output_type": "stream",
     "text": [
      "Epoch 99/200, Loss: 20.65985395170394\n"
     ]
    },
    {
     "name": "stderr",
     "output_type": "stream",
     "text": [
      "                                                                               \r"
     ]
    },
    {
     "name": "stdout",
     "output_type": "stream",
     "text": [
      "Epoch 100/200, Loss: 18.43218720609903\n"
     ]
    },
    {
     "name": "stderr",
     "output_type": "stream",
     "text": [
      "                                                                               \r"
     ]
    },
    {
     "name": "stdout",
     "output_type": "stream",
     "text": [
      "Epoch 101/200, Loss: 6.214893768414813\n"
     ]
    },
    {
     "name": "stderr",
     "output_type": "stream",
     "text": [
      "                                                                              \r"
     ]
    },
    {
     "name": "stdout",
     "output_type": "stream",
     "text": [
      "Epoch 102/200, Loss: 16.281570556622064\n"
     ]
    },
    {
     "name": "stderr",
     "output_type": "stream",
     "text": [
      "                                                                               \r"
     ]
    },
    {
     "name": "stdout",
     "output_type": "stream",
     "text": [
      "Epoch 103/200, Loss: 6.538220791880983\n"
     ]
    },
    {
     "name": "stderr",
     "output_type": "stream",
     "text": [
      "                                                                               \r"
     ]
    },
    {
     "name": "stdout",
     "output_type": "stream",
     "text": [
      "Epoch 104/200, Loss: 7.7389600744713425\n"
     ]
    },
    {
     "name": "stderr",
     "output_type": "stream",
     "text": [
      "                                                                               \r"
     ]
    },
    {
     "name": "stdout",
     "output_type": "stream",
     "text": [
      "Epoch 105/200, Loss: 10.505383974573828\n"
     ]
    },
    {
     "name": "stderr",
     "output_type": "stream",
     "text": [
      "                                                                               \r"
     ]
    },
    {
     "name": "stdout",
     "output_type": "stream",
     "text": [
      "Epoch 106/200, Loss: 9.017016855325457\n"
     ]
    },
    {
     "name": "stderr",
     "output_type": "stream",
     "text": [
      "                                                                               \r"
     ]
    },
    {
     "name": "stdout",
     "output_type": "stream",
     "text": [
      "Epoch 107/200, Loss: 16.25658867599214\n"
     ]
    },
    {
     "name": "stderr",
     "output_type": "stream",
     "text": [
      "                                                                               \r"
     ]
    },
    {
     "name": "stdout",
     "output_type": "stream",
     "text": [
      "Epoch 108/200, Loss: 12.526129953082577\n"
     ]
    },
    {
     "name": "stderr",
     "output_type": "stream",
     "text": [
      "                                                                               \r"
     ]
    },
    {
     "name": "stdout",
     "output_type": "stream",
     "text": [
      "Epoch 109/200, Loss: 10.945485056635915\n"
     ]
    },
    {
     "name": "stderr",
     "output_type": "stream",
     "text": [
      "                                                                               \r"
     ]
    },
    {
     "name": "stdout",
     "output_type": "stream",
     "text": [
      "Epoch 110/200, Loss: 12.883081662278958\n"
     ]
    },
    {
     "name": "stderr",
     "output_type": "stream",
     "text": [
      "                                                                               \r"
     ]
    },
    {
     "name": "stdout",
     "output_type": "stream",
     "text": [
      "Epoch 111/200, Loss: 3.3275644851030517\n"
     ]
    },
    {
     "name": "stderr",
     "output_type": "stream",
     "text": [
      "                                                                               \r"
     ]
    },
    {
     "name": "stdout",
     "output_type": "stream",
     "text": [
      "Epoch 112/200, Loss: 0.8490548934769797\n"
     ]
    },
    {
     "name": "stderr",
     "output_type": "stream",
     "text": [
      "                                                                               \r"
     ]
    },
    {
     "name": "stdout",
     "output_type": "stream",
     "text": [
      "Epoch 113/200, Loss: 13.513910668003842\n"
     ]
    },
    {
     "name": "stderr",
     "output_type": "stream",
     "text": [
      "                                                                               \r"
     ]
    },
    {
     "name": "stdout",
     "output_type": "stream",
     "text": [
      "Epoch 114/200, Loss: 9.893786782824785\n"
     ]
    },
    {
     "name": "stderr",
     "output_type": "stream",
     "text": [
      "                                                                               \r"
     ]
    },
    {
     "name": "stdout",
     "output_type": "stream",
     "text": [
      "Epoch 115/200, Loss: 16.699150827885234\n"
     ]
    },
    {
     "name": "stderr",
     "output_type": "stream",
     "text": [
      "                                                                               \r"
     ]
    },
    {
     "name": "stdout",
     "output_type": "stream",
     "text": [
      "Epoch 116/200, Loss: 10.781634382568562\n"
     ]
    },
    {
     "name": "stderr",
     "output_type": "stream",
     "text": [
      "                                                                               \r"
     ]
    },
    {
     "name": "stdout",
     "output_type": "stream",
     "text": [
      "Epoch 117/200, Loss: 8.947318515487389\n"
     ]
    },
    {
     "name": "stderr",
     "output_type": "stream",
     "text": [
      "                                                                               \r"
     ]
    },
    {
     "name": "stdout",
     "output_type": "stream",
     "text": [
      "Epoch 118/200, Loss: 8.292608446438813\n"
     ]
    },
    {
     "name": "stderr",
     "output_type": "stream",
     "text": [
      "                                                                               \r"
     ]
    },
    {
     "name": "stdout",
     "output_type": "stream",
     "text": [
      "Epoch 119/200, Loss: 11.472437794919383\n"
     ]
    },
    {
     "name": "stderr",
     "output_type": "stream",
     "text": [
      "                                                                               \r"
     ]
    },
    {
     "name": "stdout",
     "output_type": "stream",
     "text": [
      "Epoch 120/200, Loss: 10.788968281364468\n"
     ]
    },
    {
     "name": "stderr",
     "output_type": "stream",
     "text": [
      "                                                                               \r"
     ]
    },
    {
     "name": "stdout",
     "output_type": "stream",
     "text": [
      "Epoch 121/200, Loss: 13.27318102441393\n"
     ]
    },
    {
     "name": "stderr",
     "output_type": "stream",
     "text": [
      "                                                                               \r"
     ]
    },
    {
     "name": "stdout",
     "output_type": "stream",
     "text": [
      "Epoch 122/200, Loss: 8.518770785395102\n"
     ]
    },
    {
     "name": "stderr",
     "output_type": "stream",
     "text": [
      "                                                                               \r"
     ]
    },
    {
     "name": "stdout",
     "output_type": "stream",
     "text": [
      "Epoch 123/200, Loss: 2.264028973600044\n"
     ]
    },
    {
     "name": "stderr",
     "output_type": "stream",
     "text": [
      "                                                                               \r"
     ]
    },
    {
     "name": "stdout",
     "output_type": "stream",
     "text": [
      "Epoch 124/200, Loss: 9.659871383951021\n"
     ]
    },
    {
     "name": "stderr",
     "output_type": "stream",
     "text": [
      "                                                                               \r"
     ]
    },
    {
     "name": "stdout",
     "output_type": "stream",
     "text": [
      "Epoch 125/200, Loss: 10.503020697136865\n"
     ]
    },
    {
     "name": "stderr",
     "output_type": "stream",
     "text": [
      "                                                                               \r"
     ]
    },
    {
     "name": "stdout",
     "output_type": "stream",
     "text": [
      "Epoch 126/200, Loss: 9.20203615534382\n"
     ]
    },
    {
     "name": "stderr",
     "output_type": "stream",
     "text": [
      "                                                                               \r"
     ]
    },
    {
     "name": "stdout",
     "output_type": "stream",
     "text": [
      "Epoch 127/200, Loss: 6.285861493139755\n"
     ]
    },
    {
     "name": "stderr",
     "output_type": "stream",
     "text": [
      "                                                                               \r"
     ]
    },
    {
     "name": "stdout",
     "output_type": "stream",
     "text": [
      "Epoch 128/200, Loss: 19.428318811849163\n"
     ]
    },
    {
     "name": "stderr",
     "output_type": "stream",
     "text": [
      "                                                                               \r"
     ]
    },
    {
     "name": "stdout",
     "output_type": "stream",
     "text": [
      "Epoch 129/200, Loss: 10.245777759187947\n"
     ]
    },
    {
     "name": "stderr",
     "output_type": "stream",
     "text": [
      "                                                                               \r"
     ]
    },
    {
     "name": "stdout",
     "output_type": "stream",
     "text": [
      "Epoch 130/200, Loss: 4.122447404958434\n"
     ]
    },
    {
     "name": "stderr",
     "output_type": "stream",
     "text": [
      "                                                                               \r"
     ]
    },
    {
     "name": "stdout",
     "output_type": "stream",
     "text": [
      "Epoch 131/200, Loss: 13.99164427110129\n"
     ]
    },
    {
     "name": "stderr",
     "output_type": "stream",
     "text": [
      "                                                                              \r"
     ]
    },
    {
     "name": "stdout",
     "output_type": "stream",
     "text": [
      "Epoch 132/200, Loss: 8.181569225235062\n"
     ]
    },
    {
     "name": "stderr",
     "output_type": "stream",
     "text": [
      "                                                                               \r"
     ]
    },
    {
     "name": "stdout",
     "output_type": "stream",
     "text": [
      "Epoch 133/200, Loss: 7.19224216311543\n"
     ]
    },
    {
     "name": "stderr",
     "output_type": "stream",
     "text": [
      "                                                                               \r"
     ]
    },
    {
     "name": "stdout",
     "output_type": "stream",
     "text": [
      "Epoch 134/200, Loss: 9.654323981801802\n"
     ]
    },
    {
     "name": "stderr",
     "output_type": "stream",
     "text": [
      "                                                                               \r"
     ]
    },
    {
     "name": "stdout",
     "output_type": "stream",
     "text": [
      "Epoch 135/200, Loss: 5.208458803038291\n"
     ]
    },
    {
     "name": "stderr",
     "output_type": "stream",
     "text": [
      "                                                                               \r"
     ]
    },
    {
     "name": "stdout",
     "output_type": "stream",
     "text": [
      "Epoch 136/200, Loss: 8.492652532217244\n"
     ]
    },
    {
     "name": "stderr",
     "output_type": "stream",
     "text": [
      "                                                                               \r"
     ]
    },
    {
     "name": "stdout",
     "output_type": "stream",
     "text": [
      "Epoch 137/200, Loss: 10.256266496683551\n"
     ]
    },
    {
     "name": "stderr",
     "output_type": "stream",
     "text": [
      "                                                                               \r"
     ]
    },
    {
     "name": "stdout",
     "output_type": "stream",
     "text": [
      "Epoch 138/200, Loss: 10.676455972448899\n"
     ]
    },
    {
     "name": "stderr",
     "output_type": "stream",
     "text": [
      "                                                                               \r"
     ]
    },
    {
     "name": "stdout",
     "output_type": "stream",
     "text": [
      "Epoch 139/200, Loss: 25.342119081779856\n"
     ]
    },
    {
     "name": "stderr",
     "output_type": "stream",
     "text": [
      "                                                                               \r"
     ]
    },
    {
     "name": "stdout",
     "output_type": "stream",
     "text": [
      "Epoch 140/200, Loss: 2.259004311925571\n"
     ]
    },
    {
     "name": "stderr",
     "output_type": "stream",
     "text": [
      "                                                                               \r"
     ]
    },
    {
     "name": "stdout",
     "output_type": "stream",
     "text": [
      "Epoch 141/200, Loss: 5.541260433864394\n"
     ]
    },
    {
     "name": "stderr",
     "output_type": "stream",
     "text": [
      "                                                                               \r"
     ]
    },
    {
     "name": "stdout",
     "output_type": "stream",
     "text": [
      "Epoch 142/200, Loss: 9.02396446828094\n"
     ]
    },
    {
     "name": "stderr",
     "output_type": "stream",
     "text": [
      "                                                                               \r"
     ]
    },
    {
     "name": "stdout",
     "output_type": "stream",
     "text": [
      "Epoch 143/200, Loss: 8.677931378473517\n"
     ]
    },
    {
     "name": "stderr",
     "output_type": "stream",
     "text": [
      "                                                                               \r"
     ]
    },
    {
     "name": "stdout",
     "output_type": "stream",
     "text": [
      "Epoch 144/200, Loss: 12.711874826081125\n"
     ]
    },
    {
     "name": "stderr",
     "output_type": "stream",
     "text": [
      "                                                                               \r"
     ]
    },
    {
     "name": "stdout",
     "output_type": "stream",
     "text": [
      "Epoch 145/200, Loss: 17.61490341541488\n"
     ]
    },
    {
     "name": "stderr",
     "output_type": "stream",
     "text": [
      "                                                                               \r"
     ]
    },
    {
     "name": "stdout",
     "output_type": "stream",
     "text": [
      "Epoch 146/200, Loss: 3.967761060008149\n"
     ]
    },
    {
     "name": "stderr",
     "output_type": "stream",
     "text": [
      "                                                                               \r"
     ]
    },
    {
     "name": "stdout",
     "output_type": "stream",
     "text": [
      "Epoch 147/200, Loss: 9.553424164159264\n"
     ]
    },
    {
     "name": "stderr",
     "output_type": "stream",
     "text": [
      "                                                                               \r"
     ]
    },
    {
     "name": "stdout",
     "output_type": "stream",
     "text": [
      "Epoch 148/200, Loss: 15.011017080428271\n"
     ]
    },
    {
     "name": "stderr",
     "output_type": "stream",
     "text": [
      "                                                                               \r"
     ]
    },
    {
     "name": "stdout",
     "output_type": "stream",
     "text": [
      "Epoch 149/200, Loss: 5.140858235759828\n"
     ]
    },
    {
     "name": "stderr",
     "output_type": "stream",
     "text": [
      "                                                                               \r"
     ]
    },
    {
     "name": "stdout",
     "output_type": "stream",
     "text": [
      "Epoch 150/200, Loss: 2.9023930730647587\n"
     ]
    },
    {
     "name": "stderr",
     "output_type": "stream",
     "text": [
      "                                                                               \r"
     ]
    },
    {
     "name": "stdout",
     "output_type": "stream",
     "text": [
      "Epoch 151/200, Loss: 9.694389802212978\n"
     ]
    },
    {
     "name": "stderr",
     "output_type": "stream",
     "text": [
      "                                                                               \r"
     ]
    },
    {
     "name": "stdout",
     "output_type": "stream",
     "text": [
      "Epoch 152/200, Loss: 12.298900378122447\n"
     ]
    },
    {
     "name": "stderr",
     "output_type": "stream",
     "text": [
      "                                                                              \r"
     ]
    },
    {
     "name": "stdout",
     "output_type": "stream",
     "text": [
      "Epoch 153/200, Loss: 5.32985071610306\n"
     ]
    },
    {
     "name": "stderr",
     "output_type": "stream",
     "text": [
      "                                                                               \r"
     ]
    },
    {
     "name": "stdout",
     "output_type": "stream",
     "text": [
      "Epoch 154/200, Loss: 18.93358686458477\n"
     ]
    },
    {
     "name": "stderr",
     "output_type": "stream",
     "text": [
      "                                                                               \r"
     ]
    },
    {
     "name": "stdout",
     "output_type": "stream",
     "text": [
      "Epoch 155/200, Loss: 17.593255712484222\n"
     ]
    },
    {
     "name": "stderr",
     "output_type": "stream",
     "text": [
      "                                                                               \r"
     ]
    },
    {
     "name": "stdout",
     "output_type": "stream",
     "text": [
      "Epoch 156/200, Loss: 7.704609488716225\n"
     ]
    },
    {
     "name": "stderr",
     "output_type": "stream",
     "text": [
      "                                                                               \r"
     ]
    },
    {
     "name": "stdout",
     "output_type": "stream",
     "text": [
      "Epoch 157/200, Loss: 3.3952367668134684\n"
     ]
    },
    {
     "name": "stderr",
     "output_type": "stream",
     "text": [
      "                                                                               \r"
     ]
    },
    {
     "name": "stdout",
     "output_type": "stream",
     "text": [
      "Epoch 158/200, Loss: 12.89686453625273\n"
     ]
    },
    {
     "name": "stderr",
     "output_type": "stream",
     "text": [
      "                                                                               \r"
     ]
    },
    {
     "name": "stdout",
     "output_type": "stream",
     "text": [
      "Epoch 159/200, Loss: 8.047845413292796\n"
     ]
    },
    {
     "name": "stderr",
     "output_type": "stream",
     "text": [
      "                                                                               \r"
     ]
    },
    {
     "name": "stdout",
     "output_type": "stream",
     "text": [
      "Epoch 160/200, Loss: 4.931321859418202\n"
     ]
    },
    {
     "name": "stderr",
     "output_type": "stream",
     "text": [
      "                                                                               \r"
     ]
    },
    {
     "name": "stdout",
     "output_type": "stream",
     "text": [
      "Epoch 161/200, Loss: 5.310603626324702\n"
     ]
    },
    {
     "name": "stderr",
     "output_type": "stream",
     "text": [
      "                                                                               \r"
     ]
    },
    {
     "name": "stdout",
     "output_type": "stream",
     "text": [
      "Epoch 162/200, Loss: 7.929357695717679\n"
     ]
    },
    {
     "name": "stderr",
     "output_type": "stream",
     "text": [
      "                                                                               \r"
     ]
    },
    {
     "name": "stdout",
     "output_type": "stream",
     "text": [
      "Epoch 163/200, Loss: 3.602608877180759\n"
     ]
    },
    {
     "name": "stderr",
     "output_type": "stream",
     "text": [
      "                                                                               \r"
     ]
    },
    {
     "name": "stdout",
     "output_type": "stream",
     "text": [
      "Epoch 164/200, Loss: 5.637569471384193\n"
     ]
    },
    {
     "name": "stderr",
     "output_type": "stream",
     "text": [
      "                                                                               \r"
     ]
    },
    {
     "name": "stdout",
     "output_type": "stream",
     "text": [
      "Epoch 165/200, Loss: 9.39701924823711\n"
     ]
    },
    {
     "name": "stderr",
     "output_type": "stream",
     "text": [
      "                                                                               \r"
     ]
    },
    {
     "name": "stdout",
     "output_type": "stream",
     "text": [
      "Epoch 166/200, Loss: 15.021164332536223\n"
     ]
    },
    {
     "name": "stderr",
     "output_type": "stream",
     "text": [
      "                                                                               \r"
     ]
    },
    {
     "name": "stdout",
     "output_type": "stream",
     "text": [
      "Epoch 167/200, Loss: 7.063972072835428\n"
     ]
    },
    {
     "name": "stderr",
     "output_type": "stream",
     "text": [
      "                                                                               \r"
     ]
    },
    {
     "name": "stdout",
     "output_type": "stream",
     "text": [
      "Epoch 168/200, Loss: 10.969790162746818\n"
     ]
    },
    {
     "name": "stderr",
     "output_type": "stream",
     "text": [
      "                                                                               \r"
     ]
    },
    {
     "name": "stdout",
     "output_type": "stream",
     "text": [
      "Epoch 169/200, Loss: 11.815742580181409\n"
     ]
    },
    {
     "name": "stderr",
     "output_type": "stream",
     "text": [
      "                                                                               \r"
     ]
    },
    {
     "name": "stdout",
     "output_type": "stream",
     "text": [
      "Epoch 170/200, Loss: 5.368915064017901\n"
     ]
    },
    {
     "name": "stderr",
     "output_type": "stream",
     "text": [
      "                                                                               \r"
     ]
    },
    {
     "name": "stdout",
     "output_type": "stream",
     "text": [
      "Epoch 171/200, Loss: 13.94608378411985\n"
     ]
    },
    {
     "name": "stderr",
     "output_type": "stream",
     "text": [
      "                                                                               \r"
     ]
    },
    {
     "name": "stdout",
     "output_type": "stream",
     "text": [
      "Epoch 172/200, Loss: 10.821560451473456\n"
     ]
    },
    {
     "name": "stderr",
     "output_type": "stream",
     "text": [
      "                                                                               \r"
     ]
    },
    {
     "name": "stdout",
     "output_type": "stream",
     "text": [
      "Epoch 173/200, Loss: 10.040549529577554\n"
     ]
    },
    {
     "name": "stderr",
     "output_type": "stream",
     "text": [
      "                                                                               \r"
     ]
    },
    {
     "name": "stdout",
     "output_type": "stream",
     "text": [
      "Epoch 174/200, Loss: 4.904340260881475\n"
     ]
    },
    {
     "name": "stderr",
     "output_type": "stream",
     "text": [
      "                                                                               \r"
     ]
    },
    {
     "name": "stdout",
     "output_type": "stream",
     "text": [
      "Epoch 175/200, Loss: 6.453029812706068\n"
     ]
    },
    {
     "name": "stderr",
     "output_type": "stream",
     "text": [
      "                                                                               \r"
     ]
    },
    {
     "name": "stdout",
     "output_type": "stream",
     "text": [
      "Epoch 176/200, Loss: 2.6887978119696947\n"
     ]
    },
    {
     "name": "stderr",
     "output_type": "stream",
     "text": [
      "                                                                              \r"
     ]
    },
    {
     "name": "stdout",
     "output_type": "stream",
     "text": [
      "Epoch 177/200, Loss: 5.3654835722022876\n"
     ]
    },
    {
     "name": "stderr",
     "output_type": "stream",
     "text": [
      "                                                                               \r"
     ]
    },
    {
     "name": "stdout",
     "output_type": "stream",
     "text": [
      "Epoch 178/200, Loss: 3.8977890540820255\n"
     ]
    },
    {
     "name": "stderr",
     "output_type": "stream",
     "text": [
      "                                                                               \r"
     ]
    },
    {
     "name": "stdout",
     "output_type": "stream",
     "text": [
      "Epoch 179/200, Loss: 5.061046882113894\n"
     ]
    },
    {
     "name": "stderr",
     "output_type": "stream",
     "text": [
      "                                                                               \r"
     ]
    },
    {
     "name": "stdout",
     "output_type": "stream",
     "text": [
      "Epoch 180/200, Loss: 10.63450840870943\n"
     ]
    },
    {
     "name": "stderr",
     "output_type": "stream",
     "text": [
      "                                                                               \r"
     ]
    },
    {
     "name": "stdout",
     "output_type": "stream",
     "text": [
      "Epoch 181/200, Loss: 7.059346465521358\n"
     ]
    },
    {
     "name": "stderr",
     "output_type": "stream",
     "text": [
      "                                                                               \r"
     ]
    },
    {
     "name": "stdout",
     "output_type": "stream",
     "text": [
      "Epoch 182/200, Loss: 3.9398912058014357\n"
     ]
    },
    {
     "name": "stderr",
     "output_type": "stream",
     "text": [
      "                                                                               \r"
     ]
    },
    {
     "name": "stdout",
     "output_type": "stream",
     "text": [
      "Epoch 183/200, Loss: 7.270152428929545\n"
     ]
    },
    {
     "name": "stderr",
     "output_type": "stream",
     "text": [
      "                                                                              \r"
     ]
    },
    {
     "name": "stdout",
     "output_type": "stream",
     "text": [
      "Epoch 184/200, Loss: 8.055300081998178\n"
     ]
    },
    {
     "name": "stderr",
     "output_type": "stream",
     "text": [
      "                                                                               \r"
     ]
    },
    {
     "name": "stdout",
     "output_type": "stream",
     "text": [
      "Epoch 185/200, Loss: 8.18010740156772\n"
     ]
    },
    {
     "name": "stderr",
     "output_type": "stream",
     "text": [
      "                                                                               \r"
     ]
    },
    {
     "name": "stdout",
     "output_type": "stream",
     "text": [
      "Epoch 186/200, Loss: 10.023744971980207\n"
     ]
    },
    {
     "name": "stderr",
     "output_type": "stream",
     "text": [
      "                                                                               \r"
     ]
    },
    {
     "name": "stdout",
     "output_type": "stream",
     "text": [
      "Epoch 187/200, Loss: 11.553686469724713\n"
     ]
    },
    {
     "name": "stderr",
     "output_type": "stream",
     "text": [
      "                                                                               \r"
     ]
    },
    {
     "name": "stdout",
     "output_type": "stream",
     "text": [
      "Epoch 188/200, Loss: 4.837742618021615\n"
     ]
    },
    {
     "name": "stderr",
     "output_type": "stream",
     "text": [
      "                                                                               \r"
     ]
    },
    {
     "name": "stdout",
     "output_type": "stream",
     "text": [
      "Epoch 189/200, Loss: 3.538339791912369\n"
     ]
    },
    {
     "name": "stderr",
     "output_type": "stream",
     "text": [
      "                                                                               \r"
     ]
    },
    {
     "name": "stdout",
     "output_type": "stream",
     "text": [
      "Epoch 190/200, Loss: 6.327724764790919\n"
     ]
    },
    {
     "name": "stderr",
     "output_type": "stream",
     "text": [
      "                                                                               \r"
     ]
    },
    {
     "name": "stdout",
     "output_type": "stream",
     "text": [
      "Epoch 191/200, Loss: 13.883483716462628\n"
     ]
    },
    {
     "name": "stderr",
     "output_type": "stream",
     "text": [
      "                                                                               \r"
     ]
    },
    {
     "name": "stdout",
     "output_type": "stream",
     "text": [
      "Epoch 192/200, Loss: 10.48259971385038\n"
     ]
    },
    {
     "name": "stderr",
     "output_type": "stream",
     "text": [
      "                                                                               \r"
     ]
    },
    {
     "name": "stdout",
     "output_type": "stream",
     "text": [
      "Epoch 193/200, Loss: 11.164717983656764\n"
     ]
    },
    {
     "name": "stderr",
     "output_type": "stream",
     "text": [
      "                                                                               \r"
     ]
    },
    {
     "name": "stdout",
     "output_type": "stream",
     "text": [
      "Epoch 194/200, Loss: 11.150443450340244\n"
     ]
    },
    {
     "name": "stderr",
     "output_type": "stream",
     "text": [
      "                                                                               \r"
     ]
    },
    {
     "name": "stdout",
     "output_type": "stream",
     "text": [
      "Epoch 195/200, Loss: 7.085760151497841\n"
     ]
    },
    {
     "name": "stderr",
     "output_type": "stream",
     "text": [
      "                                                                               \r"
     ]
    },
    {
     "name": "stdout",
     "output_type": "stream",
     "text": [
      "Epoch 196/200, Loss: 7.010172828994803\n"
     ]
    },
    {
     "name": "stderr",
     "output_type": "stream",
     "text": [
      "                                                                               \r"
     ]
    },
    {
     "name": "stdout",
     "output_type": "stream",
     "text": [
      "Epoch 197/200, Loss: 4.789866772797424\n"
     ]
    },
    {
     "name": "stderr",
     "output_type": "stream",
     "text": [
      "                                                                               \r"
     ]
    },
    {
     "name": "stdout",
     "output_type": "stream",
     "text": [
      "Epoch 198/200, Loss: 1.7369913012350284\n"
     ]
    },
    {
     "name": "stderr",
     "output_type": "stream",
     "text": [
      "                                                                               \r"
     ]
    },
    {
     "name": "stdout",
     "output_type": "stream",
     "text": [
      "Epoch 199/200, Loss: 5.559829509424737\n"
     ]
    },
    {
     "name": "stderr",
     "output_type": "stream",
     "text": [
      "                                                                               "
     ]
    },
    {
     "name": "stdout",
     "output_type": "stream",
     "text": [
      "Epoch 200/200, Loss: 11.915827097748199\n"
     ]
    },
    {
     "name": "stderr",
     "output_type": "stream",
     "text": [
      "\r"
     ]
    }
   ],
   "source": [
    "from tqdm import tqdm\n",
    "\n",
    "# Определение модели, оптимизатора, функции потерь и т. д.\n",
    "num_epochs = 200\n",
    "# Итерация по эпохам\n",
    "for epoch in range(num_epochs):\n",
    "    # Обучение модели\n",
    "    classif_model.train()\n",
    "    total_loss = 0\n",
    "\n",
    "    # Используем tqdm для создания прогресс-бара\n",
    "    progress_bar = tqdm(dataloader_train, desc=f'Epoch {epoch + 1}/{num_epochs}', leave=False)\n",
    "    for inputs, labels in progress_bar:\n",
    "        optimizer.zero_grad()\n",
    "        outputs = classif_model(inputs)\n",
    "        labels = labels.squeeze()\n",
    "        loss = criterion(outputs, labels)\n",
    "        loss.backward()\n",
    "        optimizer.step()\n",
    "\n",
    "        total_loss += loss.item()\n",
    "\n",
    "        # Обновляем информацию в прогресс-баре\n",
    "        progress_bar.set_postfix({'loss': loss.item()})\n",
    "\n",
    "    average_loss = total_loss / len(dataloader)\n",
    "    print(f'Epoch {epoch + 1}/{num_epochs}, Loss: {average_loss}')\n",
    "\n",
    "# Код для валидации модели и т. д.\n",
    "\n",
    "\n"
   ]
  },
  {
   "cell_type": "code",
   "execution_count": 13,
   "metadata": {},
   "outputs": [
    {
     "name": "stdout",
     "output_type": "stream",
     "text": [
      "Accuracy: 0.9464\n",
      "F1-Score: 0.9464\n"
     ]
    }
   ],
   "source": [
    "from sklearn.metrics import accuracy_score, f1_score\n",
    "\n",
    "with torch.no_grad():\n",
    "    inputs = []\n",
    "    labels = []\n",
    "    for batch in dataloader_test:\n",
    "        input_batch, label_batch = batch\n",
    "        inputs.append(input_batch.to(device))  # Move inputs to the GPU\n",
    "        labels.append(label_batch.to(device))  # Move labels to the GPU\n",
    "\n",
    "    inputs = torch.cat(inputs, dim=0)\n",
    "    labels = torch.cat(labels, dim=0)\n",
    "\n",
    "    predictions = classif_model(inputs).cpu()\n",
    "\n",
    "# Преобразование предсказаний в метки классов\n",
    "predicted_labels = torch.argmax(predictions, dim=1).cpu()\n",
    "\n",
    "# Получение истинных меток классов\n",
    "true_labels = labels.cpu()\n",
    "\n",
    "# Вычисление accuracy и f1-score\n",
    "accuracy = accuracy_score(true_labels, predicted_labels)\n",
    "f1 = f1_score(true_labels, predicted_labels, average='weighted')\n",
    "\n",
    "print(f'Accuracy: {accuracy:.4f}')\n",
    "print(f'F1-Score: {f1:.4f}')\n",
    "\n"
   ]
  }
 ],
 "metadata": {
  "kernelspec": {
   "display_name": "Python 3",
   "language": "python",
   "name": "python3"
  },
  "language_info": {
   "codemirror_mode": {
    "name": "ipython",
    "version": 3
   },
   "file_extension": ".py",
   "mimetype": "text/x-python",
   "name": "python",
   "nbconvert_exporter": "python",
   "pygments_lexer": "ipython3",
   "version": "3.11.3"
  },
  "orig_nbformat": 4
 },
 "nbformat": 4,
 "nbformat_minor": 2
}
